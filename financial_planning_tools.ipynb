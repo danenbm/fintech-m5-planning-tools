{
 "cells": [
  {
   "cell_type": "markdown",
   "metadata": {},
   "source": [
    "# Financial Planning with APIs and Simulations\n",
    "\n",
    "In this Challenge, you’ll create two financial analysis tools by using a single Jupyter notebook:\n",
    "\n",
    "Part 1: A financial planner for emergencies. The members will be able to use this tool to visualize their current savings. The members can then determine if they have enough reserves for an emergency fund.\n",
    "\n",
    "Part 2: A financial planner for retirement. This tool will forecast the performance of their retirement portfolio in 30 years. To do this, the tool will make an Alpaca API call via the Alpaca SDK to get historical price data for use in Monte Carlo simulations.\n",
    "\n",
    "You’ll use the information from the Monte Carlo simulation to answer questions about the portfolio in your Jupyter notebook.\n",
    "\n"
   ]
  },
  {
   "cell_type": "code",
   "execution_count": 1,
   "metadata": {},
   "outputs": [],
   "source": [
    "# Import the required libraries and dependencies\n",
    "import os\n",
    "import requests\n",
    "import json\n",
    "import pandas as pd\n",
    "from dotenv import load_dotenv\n",
    "import alpaca_trade_api as tradeapi\n",
    "from MCForecastTools import MCSimulation\n",
    "\n",
    "%matplotlib inline"
   ]
  },
  {
   "cell_type": "code",
   "execution_count": 2,
   "metadata": {},
   "outputs": [
    {
     "data": {
      "text/plain": [
       "True"
      ]
     },
     "execution_count": 2,
     "metadata": {},
     "output_type": "execute_result"
    }
   ],
   "source": [
    "# Load the environment variables from the .env file\n",
    "#by calling the load_dotenv function\n",
    "load_dotenv()"
   ]
  },
  {
   "cell_type": "markdown",
   "metadata": {},
   "source": [
    "## Part 1: Create a Financial Planner for Emergencies"
   ]
  },
  {
   "cell_type": "markdown",
   "metadata": {},
   "source": [
    "### Evaluate the Cryptocurrency Wallet by Using the Requests Library\n",
    "\n",
    "In this section, you’ll determine the current value of a member’s cryptocurrency wallet. You’ll collect the current prices for the Bitcoin and Ethereum cryptocurrencies by using the Python Requests library. For the prototype, you’ll assume that the member holds the 1.2 Bitcoins (BTC) and 5.3 Ethereum coins (ETH). To do all this, complete the following steps:\n",
    "\n",
    "1. Create a variable named `monthly_income`, and set its value to `12000`.\n",
    "\n",
    "2. Use the Requests library to get the current price (in US dollars) of Bitcoin (BTC) and Ethereum (ETH) by using the API endpoints that the starter code supplies.\n",
    "\n",
    "3. Navigate the JSON response object to access the current price of each coin, and store each in a variable.\n",
    "\n",
    "    > **Hint** Note the specific identifier for each cryptocurrency in the API JSON response. The Bitcoin identifier is `1`, and the Ethereum identifier is `1027`.\n",
    "\n",
    "4. Calculate the value, in US dollars, of the current amount of each cryptocurrency and of the entire cryptocurrency wallet.\n",
    "\n"
   ]
  },
  {
   "cell_type": "code",
   "execution_count": 3,
   "metadata": {},
   "outputs": [],
   "source": [
    "# The current number of coins for each cryptocurrency asset held in the portfolio.\n",
    "btc_coins = 1.2\n",
    "eth_coins = 5.3"
   ]
  },
  {
   "cell_type": "markdown",
   "metadata": {},
   "source": [
    "#### Step 1: Create a variable named `monthly_income`, and set its value to `12000`."
   ]
  },
  {
   "cell_type": "code",
   "execution_count": 4,
   "metadata": {},
   "outputs": [],
   "source": [
    "# The monthly amount for the member's household income\n",
    "monthly_income = 12000\n"
   ]
  },
  {
   "cell_type": "markdown",
   "metadata": {},
   "source": [
    "#### Review the endpoint URLs for the API calls to Free Crypto API in order to get the current pricing information for both BTC and ETH."
   ]
  },
  {
   "cell_type": "code",
   "execution_count": 5,
   "metadata": {},
   "outputs": [],
   "source": [
    "# The Free Crypto API Call endpoint URLs for the held cryptocurrency assets\n",
    "btc_url = \"https://api.alternative.me/v2/ticker/Bitcoin/?convert=USD\"\n",
    "eth_url = \"https://api.alternative.me/v2/ticker/Ethereum/?convert=USD\""
   ]
  },
  {
   "cell_type": "markdown",
   "metadata": {},
   "source": [
    "#### Step 2. Use the Requests library to get the current price (in US dollars) of Bitcoin (BTC) and Ethereum (ETH) by using the API endpoints that the starter code supplied."
   ]
  },
  {
   "cell_type": "code",
   "execution_count": 6,
   "metadata": {},
   "outputs": [
    {
     "name": "stdout",
     "output_type": "stream",
     "text": [
      "{\n",
      "    \"data\": {\n",
      "        \"1\": {\n",
      "            \"circulating_supply\": 18748268,\n",
      "            \"id\": 1,\n",
      "            \"last_updated\": 1625468994,\n",
      "            \"max_supply\": 21000000,\n",
      "            \"name\": \"Bitcoin\",\n",
      "            \"quotes\": {\n",
      "                \"USD\": {\n",
      "                    \"market_cap\": 644598649608,\n",
      "                    \"percent_change_1h\": -0.388646481950138,\n",
      "                    \"percent_change_24h\": -3.43504380280982,\n",
      "                    \"percent_change_7d\": -0.901919363663092,\n",
      "                    \"percentage_change_1h\": -0.388646481950138,\n",
      "                    \"percentage_change_24h\": -3.43504380280982,\n",
      "                    \"percentage_change_7d\": -0.901919363663092,\n",
      "                    \"price\": 34295.0,\n",
      "                    \"volume_24h\": 23973149322\n",
      "                }\n",
      "            },\n",
      "            \"rank\": 1,\n",
      "            \"symbol\": \"BTC\",\n",
      "            \"total_supply\": 18748268,\n",
      "            \"website_slug\": \"bitcoin\"\n",
      "        }\n",
      "    },\n",
      "    \"metadata\": {\n",
      "        \"error\": null,\n",
      "        \"num_cryptocurrencies\": 1277,\n",
      "        \"timestamp\": 1625468994\n",
      "    }\n",
      "}\n"
     ]
    }
   ],
   "source": [
    "# Using the Python requests library, make an API call to access the current price of BTC\n",
    "btc_response = requests.get(btc_url).json()\n",
    "\n",
    "# Use the json.dumps function to review the response data from the API call\n",
    "# Use the indent and sort_keys parameters to make the response object readable\n",
    "print(json.dumps(btc_response, indent=4, sort_keys=True))\n"
   ]
  },
  {
   "cell_type": "code",
   "execution_count": 7,
   "metadata": {},
   "outputs": [
    {
     "name": "stdout",
     "output_type": "stream",
     "text": [
      "{\n",
      "    \"data\": {\n",
      "        \"1027\": {\n",
      "            \"circulating_supply\": 116565589,\n",
      "            \"id\": 1027,\n",
      "            \"last_updated\": 1625468998,\n",
      "            \"max_supply\": 0,\n",
      "            \"name\": \"Ethereum\",\n",
      "            \"quotes\": {\n",
      "                \"USD\": {\n",
      "                    \"market_cap\": 266903975609,\n",
      "                    \"percent_change_1h\": 0.208302059509518,\n",
      "                    \"percent_change_24h\": -1.98715831320602,\n",
      "                    \"percent_change_7d\": 15.6314802413106,\n",
      "                    \"percentage_change_1h\": 0.208302059509518,\n",
      "                    \"percentage_change_24h\": -1.98715831320602,\n",
      "                    \"percentage_change_7d\": 15.6314802413106,\n",
      "                    \"price\": 2282.48,\n",
      "                    \"volume_24h\": 21878324804\n",
      "                }\n",
      "            },\n",
      "            \"rank\": 2,\n",
      "            \"symbol\": \"ETH\",\n",
      "            \"total_supply\": 116565589,\n",
      "            \"website_slug\": \"ethereum\"\n",
      "        }\n",
      "    },\n",
      "    \"metadata\": {\n",
      "        \"error\": null,\n",
      "        \"num_cryptocurrencies\": 1277,\n",
      "        \"timestamp\": 1625468998\n",
      "    }\n",
      "}\n"
     ]
    }
   ],
   "source": [
    "# Using the Python requests library, make an API call to access the current price ETH\n",
    "eth_response = requests.get(eth_url).json()\n",
    "\n",
    "# Use the json.dumps function to review the response data from the API call\n",
    "# Use the indent and sort_keys parameters to make the response object readable\n",
    "print(json.dumps(eth_response, indent=4, sort_keys=True))\n"
   ]
  },
  {
   "cell_type": "markdown",
   "metadata": {},
   "source": [
    "#### Step 3: Navigate the JSON response object to access the current price of each coin, and store each in a variable."
   ]
  },
  {
   "cell_type": "code",
   "execution_count": 8,
   "metadata": {},
   "outputs": [
    {
     "name": "stdout",
     "output_type": "stream",
     "text": [
      "The current BTC price is $ 34295.00.\n"
     ]
    }
   ],
   "source": [
    "# Navigate the BTC response object to access the current price of BTC\n",
    "btc_price = btc_response[\"data\"][\"1\"][\"quotes\"][\"USD\"][\"price\"]\n",
    "\n",
    "# Print the current price of BTC\n",
    "print(f\"The current BTC price is ${btc_price: .2f}.\")\n"
   ]
  },
  {
   "cell_type": "code",
   "execution_count": 9,
   "metadata": {},
   "outputs": [
    {
     "name": "stdout",
     "output_type": "stream",
     "text": [
      "The current ETH price is $ 2282.48.\n"
     ]
    }
   ],
   "source": [
    "# Navigate the BTC response object to access the current price of ETH\n",
    "eth_price = eth_response[\"data\"][\"1027\"][\"quotes\"][\"USD\"][\"price\"]\n",
    "\n",
    "# Print the current price of ETH\n",
    "print(f\"The current ETH price is ${eth_price: .2f}.\")\n"
   ]
  },
  {
   "cell_type": "markdown",
   "metadata": {},
   "source": [
    "### Step 4: Calculate the value, in US dollars, of the current amount of each cryptocurrency and of the entire cryptocurrency wallet."
   ]
  },
  {
   "cell_type": "code",
   "execution_count": 10,
   "metadata": {},
   "outputs": [
    {
     "name": "stdout",
     "output_type": "stream",
     "text": [
      "The current value of the BTC holding is $ 41154.00.\n"
     ]
    }
   ],
   "source": [
    "# Compute the current value of the BTC holding \n",
    "btc_value = btc_coins * btc_price\n",
    "\n",
    "# Print current value of your holding in BTC\n",
    "print(f\"The current value of the BTC holding is ${btc_value: .2f}.\")\n"
   ]
  },
  {
   "cell_type": "code",
   "execution_count": 11,
   "metadata": {},
   "outputs": [
    {
     "name": "stdout",
     "output_type": "stream",
     "text": [
      "The current value of the ETH holding is $ 12097.14.\n"
     ]
    }
   ],
   "source": [
    "# Compute the current value of the ETH holding \n",
    "eth_value = eth_coins * eth_price\n",
    "\n",
    "# Print current value of your holding in ETH\n",
    "print(f\"The current value of the ETH holding is ${eth_value: .2f}.\")\n"
   ]
  },
  {
   "cell_type": "code",
   "execution_count": 12,
   "metadata": {},
   "outputs": [
    {
     "name": "stdout",
     "output_type": "stream",
     "text": [
      "The current cryptocurrency wallet balance is $ 53251.14.\n"
     ]
    }
   ],
   "source": [
    "# Compute the total value of the cryptocurrency wallet\n",
    "# Add the value of the BTC holding to the value of the ETH holding\n",
    "total_crypto_wallet = btc_value + eth_value\n",
    "\n",
    "# Print current cryptocurrency wallet balance\n",
    "print(f\"The current cryptocurrency wallet balance is ${total_crypto_wallet: .2f}.\")\n"
   ]
  },
  {
   "cell_type": "markdown",
   "metadata": {},
   "source": [
    "### Evaluate the Stock and Bond Holdings by Using the Alpaca SDK\n",
    "\n",
    "In this section, you’ll determine the current value of a member’s stock and bond holdings. You’ll make an API call to Alpaca via the Alpaca SDK to get the current closing prices of the SPDR S&P 500 ETF Trust (ticker: SPY) and of the iShares Core US Aggregate Bond ETF (ticker: AGG). For the prototype, assume that the member holds 110 shares of SPY, which represents the stock portion of their portfolio, and 200 shares of AGG, which represents the bond portion. To do all this, complete the following steps:\n",
    "\n",
    "1. In the `Starter_Code` folder, create an environment file (`.env`) to store the values of your Alpaca API key and Alpaca secret key.\n",
    "\n",
    "2. Set the variables for the Alpaca API and secret keys. Using the Alpaca SDK, create the Alpaca `tradeapi.REST` object. In this object, include the parameters for the Alpaca API key, the secret key, and the version number.\n",
    "\n",
    "3. Set the following parameters for the Alpaca API call:\n",
    "\n",
    "    - `tickers`: Use the tickers for the member’s stock and bond holdings.\n",
    "\n",
    "    - `timeframe`: Use a time frame of one day.\n",
    "\n",
    "    - `start_date` and `end_date`: Use the same date for these parameters, and format them with the date of the previous weekday (or `2020-08-07`). This is because you want the one closing price for the most-recent trading day.\n",
    "\n",
    "4. Get the current closing prices for `SPY` and `AGG` by using the Alpaca `get_barset` function. Format the response as a Pandas DataFrame by including the `df` property at the end of the `get_barset` function.\n",
    "\n",
    "5. Navigating the Alpaca response DataFrame, select the `SPY` and `AGG` closing prices, and store them as variables.\n",
    "\n",
    "6. Calculate the value, in US dollars, of the current amount of shares in each of the stock and bond portions of the portfolio, and print the results.\n"
   ]
  },
  {
   "cell_type": "markdown",
   "metadata": {},
   "source": [
    "#### Review the total number of shares held in both (SPY) and (AGG)."
   ]
  },
  {
   "cell_type": "code",
   "execution_count": 13,
   "metadata": {},
   "outputs": [],
   "source": [
    "# Current amount of shares held in both the stock (SPY) and bond (AGG) portion of the portfolio.\n",
    "spy_shares = 110\n",
    "agg_shares = 200\n"
   ]
  },
  {
   "cell_type": "markdown",
   "metadata": {},
   "source": [
    "#### Step 1: In the `Starter_Code` folder, create an environment file (`.env`) to store the values of your Alpaca API key and Alpaca secret key."
   ]
  },
  {
   "cell_type": "markdown",
   "metadata": {},
   "source": [
    "#### Step 2: Set the variables for the Alpaca API and secret keys. Using the Alpaca SDK, create the Alpaca `tradeapi.REST` object. In this object, include the parameters for the Alpaca API key, the secret key, and the version number."
   ]
  },
  {
   "cell_type": "code",
   "execution_count": 14,
   "metadata": {},
   "outputs": [],
   "source": [
    "# Set the variables for the Alpaca API and secret keys\n",
    "alpaca_api_key = os.getenv(\"ALPACA_API_KEY\")\n",
    "alpaca_secret_key = os.getenv(\"ALPACA_SECRET_KEY\")\n",
    "\n",
    "# Create the Alpaca tradeapi.REST object\n",
    "alpaca = tradeapi.REST(alpaca_api_key, alpaca_secret_key, api_version=\"v2\")\n"
   ]
  },
  {
   "cell_type": "markdown",
   "metadata": {},
   "source": [
    "#### Step 3: Set the following parameters for the Alpaca API call:\n",
    "\n",
    "- `tickers`: Use the tickers for the member’s stock and bond holdings.\n",
    "\n",
    "- `timeframe`: Use a time frame of one day.\n",
    "\n",
    "- `start_date` and `end_date`: Use the same date for these parameters, and format them with the date of the previous weekday (or `2020-08-07`). This is because you want the one closing price for the most-recent trading day.\n"
   ]
  },
  {
   "cell_type": "code",
   "execution_count": 15,
   "metadata": {},
   "outputs": [],
   "source": [
    "# Set the tickers for both the bond and stock portion of the portfolio\n",
    "tickers = [\"SPY\", \"AGG\"]\n",
    "\n",
    "# Set timeframe to 1D \n",
    "timeframe = \"1D\"\n",
    "\n",
    "# Format current date as ISO format\n",
    "# Set both the start and end date at the date of your prior weekday \n",
    "# This will give you the closing price of the previous trading day\n",
    "# Alternatively you can use a start and end date of 2020-08-07\n",
    "start_date = pd.Timestamp(\"2021-07-02\", tz=\"America/New_York\").isoformat()\n",
    "end_date = pd.Timestamp(\"2021-07-02\", tz=\"America/New_York\").isoformat()\n"
   ]
  },
  {
   "cell_type": "markdown",
   "metadata": {},
   "source": [
    "#### Step 4: Get the current closing prices for `SPY` and `AGG` by using the Alpaca `get_barset` function. Format the response as a Pandas DataFrame by including the `df` property at the end of the `get_barset` function."
   ]
  },
  {
   "cell_type": "code",
   "execution_count": 16,
   "metadata": {},
   "outputs": [
    {
     "data": {
      "text/html": [
       "<div>\n",
       "<style scoped>\n",
       "    .dataframe tbody tr th:only-of-type {\n",
       "        vertical-align: middle;\n",
       "    }\n",
       "\n",
       "    .dataframe tbody tr th {\n",
       "        vertical-align: top;\n",
       "    }\n",
       "\n",
       "    .dataframe thead tr th {\n",
       "        text-align: left;\n",
       "    }\n",
       "\n",
       "    .dataframe thead tr:last-of-type th {\n",
       "        text-align: right;\n",
       "    }\n",
       "</style>\n",
       "<table border=\"1\" class=\"dataframe\">\n",
       "  <thead>\n",
       "    <tr>\n",
       "      <th></th>\n",
       "      <th colspan=\"5\" halign=\"left\">AGG</th>\n",
       "      <th colspan=\"5\" halign=\"left\">SPY</th>\n",
       "    </tr>\n",
       "    <tr>\n",
       "      <th></th>\n",
       "      <th>open</th>\n",
       "      <th>high</th>\n",
       "      <th>low</th>\n",
       "      <th>close</th>\n",
       "      <th>volume</th>\n",
       "      <th>open</th>\n",
       "      <th>high</th>\n",
       "      <th>low</th>\n",
       "      <th>close</th>\n",
       "      <th>volume</th>\n",
       "    </tr>\n",
       "    <tr>\n",
       "      <th>time</th>\n",
       "      <th></th>\n",
       "      <th></th>\n",
       "      <th></th>\n",
       "      <th></th>\n",
       "      <th></th>\n",
       "      <th></th>\n",
       "      <th></th>\n",
       "      <th></th>\n",
       "      <th></th>\n",
       "      <th></th>\n",
       "    </tr>\n",
       "  </thead>\n",
       "  <tbody>\n",
       "    <tr>\n",
       "      <th>2021-07-02 00:00:00-04:00</th>\n",
       "      <td>115.23</td>\n",
       "      <td>115.37</td>\n",
       "      <td>115.17</td>\n",
       "      <td>115.37</td>\n",
       "      <td>4219494</td>\n",
       "      <td>431.67</td>\n",
       "      <td>434.1</td>\n",
       "      <td>430.5218</td>\n",
       "      <td>433.75</td>\n",
       "      <td>46557070</td>\n",
       "    </tr>\n",
       "  </tbody>\n",
       "</table>\n",
       "</div>"
      ],
      "text/plain": [
       "                              AGG                                      SPY  \\\n",
       "                             open    high     low   close   volume    open   \n",
       "time                                                                         \n",
       "2021-07-02 00:00:00-04:00  115.23  115.37  115.17  115.37  4219494  431.67   \n",
       "\n",
       "                                                              \n",
       "                            high       low   close    volume  \n",
       "time                                                          \n",
       "2021-07-02 00:00:00-04:00  434.1  430.5218  433.75  46557070  "
      ]
     },
     "execution_count": 16,
     "metadata": {},
     "output_type": "execute_result"
    }
   ],
   "source": [
    "# Use the Alpaca get_barset function to get current closing prices the portfolio\n",
    "# Be sure to set the `df` property after the function to format the response object as a DataFrame\n",
    "df_portfolio = alpaca.get_barset(tickers, timeframe, start=start_date, end=end_date).df\n",
    "\n",
    "# Review the first 5 rows of the Alpaca DataFrame\n",
    "df_portfolio.head()\n"
   ]
  },
  {
   "cell_type": "markdown",
   "metadata": {},
   "source": [
    "#### Step 5: Navigating the Alpaca response DataFrame, select the `SPY` and `AGG` closing prices, and store them as variables."
   ]
  },
  {
   "cell_type": "code",
   "execution_count": 17,
   "metadata": {},
   "outputs": [
    {
     "name": "stdout",
     "output_type": "stream",
     "text": [
      "The AGG closing price is: $ 115.37.\n"
     ]
    }
   ],
   "source": [
    "# Access the closing price for AGG from the Alpaca DataFrame\n",
    "# Converting the value to a floating point number\n",
    "agg_close_price = df_portfolio[\"AGG\"][\"close\"][0]\n",
    "\n",
    "# Print the AGG closing price\n",
    "print(f\"The AGG closing price is: ${agg_close_price: .2f}.\")\n"
   ]
  },
  {
   "cell_type": "code",
   "execution_count": 18,
   "metadata": {},
   "outputs": [
    {
     "name": "stdout",
     "output_type": "stream",
     "text": [
      "The SPY closing price is: $ 433.75.\n"
     ]
    }
   ],
   "source": [
    "# Access the closing price for SPY from the Alpaca DataFrame\n",
    "# Converting the value to a floating point number\n",
    "spy_close_price = df_portfolio[\"SPY\"][\"close\"][0]\n",
    "\n",
    "# Print the SPY closing price\n",
    "print(f\"The SPY closing price is: ${spy_close_price: .2f}.\")\n"
   ]
  },
  {
   "cell_type": "markdown",
   "metadata": {},
   "source": [
    "#### Step 6: Calculate the value, in US dollars, of the current amount of shares in each of the stock and bond portions of the portfolio, and print the results."
   ]
  },
  {
   "cell_type": "code",
   "execution_count": 19,
   "metadata": {},
   "outputs": [
    {
     "name": "stdout",
     "output_type": "stream",
     "text": [
      "The current value of the bond portfolio is $ 23074.00.\n"
     ]
    }
   ],
   "source": [
    "# Calculate the current value of the bond portion of the portfolio\n",
    "agg_value = agg_shares * agg_close_price\n",
    "\n",
    "# Print the current value of the bond portfolio\n",
    "print(f\"The current value of the bond portfolio is ${agg_value: .2f}.\")\n"
   ]
  },
  {
   "cell_type": "code",
   "execution_count": 20,
   "metadata": {},
   "outputs": [
    {
     "name": "stdout",
     "output_type": "stream",
     "text": [
      "The current value of the stock portfolio is $ 47712.50.\n"
     ]
    }
   ],
   "source": [
    "# Calculate the current value of the stock portion of the portfolio\n",
    "spy_value = spy_shares * spy_close_price\n",
    "\n",
    "# Print the current value of the stock portfolio\n",
    "print(f\"The current value of the stock portfolio is ${spy_value: .2f}.\")\n"
   ]
  },
  {
   "cell_type": "code",
   "execution_count": 21,
   "metadata": {},
   "outputs": [
    {
     "name": "stdout",
     "output_type": "stream",
     "text": [
      "The current value of the stock and bond portion of the portfolio is $ 70786.50.\n"
     ]
    }
   ],
   "source": [
    "# Calculate the total value of the stock and bond portion of the portfolio\n",
    "total_stocks_bonds = spy_value + agg_value\n",
    "\n",
    "# Print the current balance of the stock and bond portion of the portfolio\n",
    "print(f\"The current value of the stock and bond portion of the portfolio is ${total_stocks_bonds: .2f}.\")\n"
   ]
  },
  {
   "cell_type": "code",
   "execution_count": 22,
   "metadata": {},
   "outputs": [
    {
     "name": "stdout",
     "output_type": "stream",
     "text": [
      "The total current value of the portfolio is $ 124037.64.\n"
     ]
    }
   ],
   "source": [
    "# Calculate the total value of the member's entire savings portfolio\n",
    "# Add the value of the cryptocurrency walled to the value of the total stocks and bonds\n",
    "total_portfolio = total_crypto_wallet + total_stocks_bonds\n",
    "\n",
    "# Print total portfolio balance\n",
    "print(f\"The total current value of the portfolio is ${total_portfolio: .2f}.\")\n"
   ]
  },
  {
   "cell_type": "markdown",
   "metadata": {},
   "source": [
    "### Evaluate the Emergency Fund\n",
    "\n",
    "In this section, you’ll use the valuations for the cryptocurrency wallet and for the stock and bond portions of the portfolio to determine if the credit union member has enough savings to build an emergency fund into their financial plan. To do this, complete the following steps:\n",
    "\n",
    "1. Create a Python list named `savings_data` that has two elements. The first element contains the total value of the cryptocurrency wallet. The second element contains the total value of the stock and bond portions of the portfolio.\n",
    "\n",
    "2. Use the `savings_data` list to create a Pandas DataFrame named `savings_df`, and then display this DataFrame. The function to create the DataFrame should take the following three parameters:\n",
    "\n",
    "    - `savings_data`: Use the list that you just created.\n",
    "\n",
    "    - `columns`: Set this parameter equal to a Python list with a single value called `amount`.\n",
    "\n",
    "    - `index`: Set this parameter equal to a Python list with the values of `crypto` and `stock/bond`.\n",
    "\n",
    "3. Use the `savings_df` DataFrame to plot a pie chart that visualizes the composition of the member’s portfolio. The y-axis of the pie chart uses `amount`. Be sure to add a title.\n",
    "\n",
    "4. Using Python, determine if the current portfolio has enough to create an emergency fund as part of the member’s financial plan. Ideally, an emergency fund should equal to three times the member’s monthly income. To do this, implement the following steps:\n",
    "\n",
    "    1. Create a variable named `emergency_fund_value`, and set it equal to three times the value of the member’s `monthly_income` of $12000. (You set this earlier in Part 1).\n",
    "\n",
    "    2. Create a series of three if statements to determine if the member’s total portfolio is large enough to fund the emergency portfolio:\n",
    "\n",
    "        1. If the total portfolio value is greater than the emergency fund value, display a message congratulating the member for having enough money in this fund.\n",
    "\n",
    "        2. Else if the total portfolio value is equal to the emergency fund value, display a message congratulating the member on reaching this important financial goal.\n",
    "\n",
    "        3. Else the total portfolio is less than the emergency fund value, so display a message showing how many dollars away the member is from reaching the goal. (Subtract the total portfolio value from the emergency fund value.)\n"
   ]
  },
  {
   "cell_type": "markdown",
   "metadata": {},
   "source": [
    "#### Step 1: Create a Python list named `savings_data` that has two elements. The first element contains the total value of the cryptocurrency wallet. The second element contains the total value of the stock and bond portions of the portfolio."
   ]
  },
  {
   "cell_type": "code",
   "execution_count": 23,
   "metadata": {},
   "outputs": [
    {
     "name": "stdout",
     "output_type": "stream",
     "text": [
      "Savings data: [53251.144, 70786.5]\n"
     ]
    }
   ],
   "source": [
    "# Consolidate financial assets data into a Python list\n",
    "savings_data = [total_crypto_wallet, total_stocks_bonds]\n",
    "\n",
    "# Review the Python list savings_data\n",
    "print(f\"Savings data: {savings_data}\")\n",
    "    "
   ]
  },
  {
   "cell_type": "markdown",
   "metadata": {},
   "source": [
    "#### Step 2: Use the `savings_data` list to create a Pandas DataFrame named `savings_df`, and then display this DataFrame. The function to create the DataFrame should take the following three parameters:\n",
    "\n",
    "- `savings_data`: Use the list that you just created.\n",
    "\n",
    "- `columns`: Set this parameter equal to a Python list with a single value called `amount`.\n",
    "\n",
    "- `index`: Set this parameter equal to a Python list with the values of `crypto` and `stock/bond`.\n"
   ]
  },
  {
   "cell_type": "code",
   "execution_count": 24,
   "metadata": {},
   "outputs": [
    {
     "data": {
      "text/html": [
       "<div>\n",
       "<style scoped>\n",
       "    .dataframe tbody tr th:only-of-type {\n",
       "        vertical-align: middle;\n",
       "    }\n",
       "\n",
       "    .dataframe tbody tr th {\n",
       "        vertical-align: top;\n",
       "    }\n",
       "\n",
       "    .dataframe thead th {\n",
       "        text-align: right;\n",
       "    }\n",
       "</style>\n",
       "<table border=\"1\" class=\"dataframe\">\n",
       "  <thead>\n",
       "    <tr style=\"text-align: right;\">\n",
       "      <th></th>\n",
       "      <th>amount</th>\n",
       "    </tr>\n",
       "  </thead>\n",
       "  <tbody>\n",
       "    <tr>\n",
       "      <th>crypto</th>\n",
       "      <td>53251.144</td>\n",
       "    </tr>\n",
       "    <tr>\n",
       "      <th>stock/bond</th>\n",
       "      <td>70786.500</td>\n",
       "    </tr>\n",
       "  </tbody>\n",
       "</table>\n",
       "</div>"
      ],
      "text/plain": [
       "               amount\n",
       "crypto      53251.144\n",
       "stock/bond  70786.500"
      ]
     },
     "execution_count": 24,
     "metadata": {},
     "output_type": "execute_result"
    }
   ],
   "source": [
    "# Create a Pandas DataFrame called savings_df \n",
    "savings_df = pd.DataFrame(savings_data, columns=[\"amount\"], index=[\"crypto\", \"stock/bond\"])\n",
    "\n",
    "# Display the savings_df DataFrame\n",
    "savings_df\n"
   ]
  },
  {
   "cell_type": "markdown",
   "metadata": {},
   "source": [
    "#### Step 3: Use the `savings_df` DataFrame to plot a pie chart that visualizes the composition of the member’s portfolio. The y-axis of the pie chart uses `amount`. Be sure to add a title."
   ]
  },
  {
   "cell_type": "code",
   "execution_count": 25,
   "metadata": {},
   "outputs": [
    {
     "data": {
      "text/plain": [
       "<AxesSubplot:title={'center':'Member Portfolio Composition'}, ylabel='amount'>"
      ]
     },
     "execution_count": 25,
     "metadata": {},
     "output_type": "execute_result"
    },
    {
     "data": {
      "image/png": "[encoded data removed]",
      "text/plain": [
       "<Figure size 432x288 with 1 Axes>"
      ]
     },
     "metadata": {},
     "output_type": "display_data"
    }
   ],
   "source": [
    "# Plot the total value of the member's portfolio (crypto and stock/bond) in a pie chart\n",
    "savings_df.plot.pie(y='amount', title=\"Member Portfolio Composition\")\n"
   ]
  },
  {
   "cell_type": "markdown",
   "metadata": {},
   "source": [
    "#### Step 4: Using Python, determine if the current portfolio has enough to create an emergency fund as part of the member’s financial plan. Ideally, an emergency fund should equal to three times the member’s monthly income. To do this, implement the following steps:\n",
    "\n",
    "Step 1. Create a variable named `emergency_fund_value`, and set it equal to three times the value of the member’s `monthly_income` of 12000. (You set this earlier in Part 1).\n",
    "\n",
    "Step 2. Create a series of three if statements to determine if the member’s total portfolio is large enough to fund the emergency portfolio:\n",
    "\n",
    "* If the total portfolio value is greater than the emergency fund value, display a message congratulating the member for having enough money in this fund.\n",
    "\n",
    "* Else if the total portfolio value is equal to the emergency fund value, display a message congratulating the member on reaching this important financial goal.\n",
    "\n",
    "* Else the total portfolio is less than the emergency fund value, so display a message showing how many dollars away the member is from reaching the goal. (Subtract the total portfolio value from the emergency fund value.)\n"
   ]
  },
  {
   "cell_type": "markdown",
   "metadata": {},
   "source": [
    "##### Step 4-1: Create a variable named `emergency_fund_value`, and set it equal to three times the value of the member’s `monthly_income` of 12000. (You set this earlier in Part 1)."
   ]
  },
  {
   "cell_type": "code",
   "execution_count": 26,
   "metadata": {},
   "outputs": [],
   "source": [
    "# Create a variable named emergency_fund_value\n",
    "emergency_fund_value = 3 * monthly_income\n"
   ]
  },
  {
   "cell_type": "markdown",
   "metadata": {},
   "source": [
    "##### Step 4-2: Create a series of three if statements to determine if the member’s total portfolio is large enough to fund the emergency portfolio:\n",
    "\n",
    "* If the total portfolio value is greater than the emergency fund value, display a message congratulating the member for having enough money in this fund.\n",
    "\n",
    "* Else if the total portfolio value is equal to the emergency fund value, display a message congratulating the member on reaching this important financial goal.\n",
    "\n",
    "* Else the total portfolio is less than the emergency fund value, so display a message showing how many dollars away the member is from reaching the goal. (Subtract the total portfolio value from the emergency fund value.)"
   ]
  },
  {
   "cell_type": "code",
   "execution_count": 27,
   "metadata": {},
   "outputs": [
    {
     "name": "stdout",
     "output_type": "stream",
     "text": [
      "Congratulations!  You have more than enough saved to fund an emergency fund portfolio\n"
     ]
    }
   ],
   "source": [
    "# Evaluate the possibility of creating an emergency fund with 3 conditions:\n",
    "if (total_portfolio > emergency_fund_value):\n",
    "    print(\"Congratulations!  You have more than enough saved to fund an emergency fund portfolio\")\n",
    "elif (total_portfolio == emergency_fund_value):\n",
    "    print(\"Congratulations! You have reached the specific recommended amount required for an emergency fund\")\n",
    "else:\n",
    "    print(f\"${(emergency_fund_value - total_portfolio): .2f} more is needed before reaching the amount required for an emergency fund\")\n"
   ]
  },
  {
   "cell_type": "markdown",
   "metadata": {},
   "source": [
    "## Part 2: Create a Financial Planner for Retirement"
   ]
  },
  {
   "cell_type": "markdown",
   "metadata": {},
   "source": [
    "### Create the Monte Carlo Simulation\n",
    "\n",
    "In this section, you’ll use the MCForecastTools library to create a Monte Carlo simulation for the member’s savings portfolio. To do this, complete the following steps:\n",
    "\n",
    "1. Make an API call via the Alpaca SDK to get 10 years of historical closing prices for a traditional 60/40 portfolio split: 60% stocks (SPY) and 40% bonds (AGG).\n",
    "\n",
    "2. Run a Monte Carlo simulation of 500 samples and 30 years for the 60/40 portfolio, and then plot the results.The following image shows the overlay line plot resulting from a simulation with these characteristics. However, because a random number generator is used to run each live Monte Carlo simulation, your image will differ slightly from this exact image:\n",
    "\n",
    "![A screenshot depicts the resulting plot.](Images/5-4-monte-carlo-line-plot.png)\n",
    "\n",
    "3. Plot the probability distribution of the Monte Carlo simulation. Plot the probability distribution of the Monte Carlo simulation. The following image shows the histogram plot resulting from a simulation with these characteristics. However, because a random number generator is used to run each live Monte Carlo simulation, your image will differ slightly from this exact image:\n",
    "\n",
    "![A screenshot depicts the histogram plot.](Images/5-4-monte-carlo-histogram.png)\n",
    "\n",
    "4. Generate the summary statistics for the Monte Carlo simulation.\n",
    "\n"
   ]
  },
  {
   "cell_type": "markdown",
   "metadata": {},
   "source": [
    "#### Step 1: Make an API call via the Alpaca SDK to get 10 years of historical closing prices for a traditional 60/40 portfolio split: 60% stocks (SPY) and 40% bonds (AGG)."
   ]
  },
  {
   "cell_type": "code",
   "execution_count": 28,
   "metadata": {},
   "outputs": [],
   "source": [
    "# Set start and end dates of 10 years back from your current date\n",
    "start_date = pd.Timestamp(\"2011-07-02\", tz=\"America/New_York\").isoformat()\n",
    "end_date = pd.Timestamp(\"2021-07-02\", tz=\"America/New_York\").isoformat()\n"
   ]
  },
  {
   "cell_type": "code",
   "execution_count": 29,
   "metadata": {},
   "outputs": [
    {
     "data": {
      "text/html": [
       "<div>\n",
       "<style scoped>\n",
       "    .dataframe tbody tr th:only-of-type {\n",
       "        vertical-align: middle;\n",
       "    }\n",
       "\n",
       "    .dataframe tbody tr th {\n",
       "        vertical-align: top;\n",
       "    }\n",
       "\n",
       "    .dataframe thead tr th {\n",
       "        text-align: left;\n",
       "    }\n",
       "\n",
       "    .dataframe thead tr:last-of-type th {\n",
       "        text-align: right;\n",
       "    }\n",
       "</style>\n",
       "<table border=\"1\" class=\"dataframe\">\n",
       "  <thead>\n",
       "    <tr>\n",
       "      <th></th>\n",
       "      <th colspan=\"5\" halign=\"left\">AGG</th>\n",
       "      <th colspan=\"5\" halign=\"left\">SPY</th>\n",
       "    </tr>\n",
       "    <tr>\n",
       "      <th></th>\n",
       "      <th>open</th>\n",
       "      <th>high</th>\n",
       "      <th>low</th>\n",
       "      <th>close</th>\n",
       "      <th>volume</th>\n",
       "      <th>open</th>\n",
       "      <th>high</th>\n",
       "      <th>low</th>\n",
       "      <th>close</th>\n",
       "      <th>volume</th>\n",
       "    </tr>\n",
       "    <tr>\n",
       "      <th>time</th>\n",
       "      <th></th>\n",
       "      <th></th>\n",
       "      <th></th>\n",
       "      <th></th>\n",
       "      <th></th>\n",
       "      <th></th>\n",
       "      <th></th>\n",
       "      <th></th>\n",
       "      <th></th>\n",
       "      <th></th>\n",
       "    </tr>\n",
       "  </thead>\n",
       "  <tbody>\n",
       "    <tr>\n",
       "      <th>2017-07-13 00:00:00-04:00</th>\n",
       "      <td>109.29</td>\n",
       "      <td>109.3118</td>\n",
       "      <td>109.13</td>\n",
       "      <td>109.24</td>\n",
       "      <td>1432660.0</td>\n",
       "      <td>NaN</td>\n",
       "      <td>NaN</td>\n",
       "      <td>NaN</td>\n",
       "      <td>NaN</td>\n",
       "      <td>NaN</td>\n",
       "    </tr>\n",
       "    <tr>\n",
       "      <th>2017-07-14 00:00:00-04:00</th>\n",
       "      <td>109.54</td>\n",
       "      <td>109.5600</td>\n",
       "      <td>109.29</td>\n",
       "      <td>109.36</td>\n",
       "      <td>1744770.0</td>\n",
       "      <td>244.42</td>\n",
       "      <td>245.97</td>\n",
       "      <td>244.31</td>\n",
       "      <td>245.54</td>\n",
       "      <td>40758038.0</td>\n",
       "    </tr>\n",
       "    <tr>\n",
       "      <th>2017-07-17 00:00:00-04:00</th>\n",
       "      <td>109.40</td>\n",
       "      <td>109.4800</td>\n",
       "      <td>109.32</td>\n",
       "      <td>109.41</td>\n",
       "      <td>1910544.0</td>\n",
       "      <td>245.47</td>\n",
       "      <td>245.91</td>\n",
       "      <td>245.33</td>\n",
       "      <td>245.51</td>\n",
       "      <td>22378971.0</td>\n",
       "    </tr>\n",
       "    <tr>\n",
       "      <th>2017-07-18 00:00:00-04:00</th>\n",
       "      <td>109.64</td>\n",
       "      <td>109.7100</td>\n",
       "      <td>109.58</td>\n",
       "      <td>109.68</td>\n",
       "      <td>2471170.0</td>\n",
       "      <td>245.06</td>\n",
       "      <td>245.72</td>\n",
       "      <td>244.67</td>\n",
       "      <td>245.69</td>\n",
       "      <td>31695494.0</td>\n",
       "    </tr>\n",
       "    <tr>\n",
       "      <th>2017-07-19 00:00:00-04:00</th>\n",
       "      <td>109.72</td>\n",
       "      <td>109.7500</td>\n",
       "      <td>109.63</td>\n",
       "      <td>109.70</td>\n",
       "      <td>1405289.0</td>\n",
       "      <td>246.02</td>\n",
       "      <td>247.00</td>\n",
       "      <td>246.01</td>\n",
       "      <td>246.99</td>\n",
       "      <td>31007738.0</td>\n",
       "    </tr>\n",
       "  </tbody>\n",
       "</table>\n",
       "</div>"
      ],
      "text/plain": [
       "                              AGG                                       \\\n",
       "                             open      high     low   close     volume   \n",
       "time                                                                     \n",
       "2017-07-13 00:00:00-04:00  109.29  109.3118  109.13  109.24  1432660.0   \n",
       "2017-07-14 00:00:00-04:00  109.54  109.5600  109.29  109.36  1744770.0   \n",
       "2017-07-17 00:00:00-04:00  109.40  109.4800  109.32  109.41  1910544.0   \n",
       "2017-07-18 00:00:00-04:00  109.64  109.7100  109.58  109.68  2471170.0   \n",
       "2017-07-19 00:00:00-04:00  109.72  109.7500  109.63  109.70  1405289.0   \n",
       "\n",
       "                              SPY                                      \n",
       "                             open    high     low   close      volume  \n",
       "time                                                                   \n",
       "2017-07-13 00:00:00-04:00     NaN     NaN     NaN     NaN         NaN  \n",
       "2017-07-14 00:00:00-04:00  244.42  245.97  244.31  245.54  40758038.0  \n",
       "2017-07-17 00:00:00-04:00  245.47  245.91  245.33  245.51  22378971.0  \n",
       "2017-07-18 00:00:00-04:00  245.06  245.72  244.67  245.69  31695494.0  \n",
       "2017-07-19 00:00:00-04:00  246.02  247.00  246.01  246.99  31007738.0  "
      ]
     },
     "metadata": {},
     "output_type": "display_data"
    },
    {
     "data": {
      "text/html": [
       "<div>\n",
       "<style scoped>\n",
       "    .dataframe tbody tr th:only-of-type {\n",
       "        vertical-align: middle;\n",
       "    }\n",
       "\n",
       "    .dataframe tbody tr th {\n",
       "        vertical-align: top;\n",
       "    }\n",
       "\n",
       "    .dataframe thead tr th {\n",
       "        text-align: left;\n",
       "    }\n",
       "\n",
       "    .dataframe thead tr:last-of-type th {\n",
       "        text-align: right;\n",
       "    }\n",
       "</style>\n",
       "<table border=\"1\" class=\"dataframe\">\n",
       "  <thead>\n",
       "    <tr>\n",
       "      <th></th>\n",
       "      <th colspan=\"5\" halign=\"left\">AGG</th>\n",
       "      <th colspan=\"5\" halign=\"left\">SPY</th>\n",
       "    </tr>\n",
       "    <tr>\n",
       "      <th></th>\n",
       "      <th>open</th>\n",
       "      <th>high</th>\n",
       "      <th>low</th>\n",
       "      <th>close</th>\n",
       "      <th>volume</th>\n",
       "      <th>open</th>\n",
       "      <th>high</th>\n",
       "      <th>low</th>\n",
       "      <th>close</th>\n",
       "      <th>volume</th>\n",
       "    </tr>\n",
       "    <tr>\n",
       "      <th>time</th>\n",
       "      <th></th>\n",
       "      <th></th>\n",
       "      <th></th>\n",
       "      <th></th>\n",
       "      <th></th>\n",
       "      <th></th>\n",
       "      <th></th>\n",
       "      <th></th>\n",
       "      <th></th>\n",
       "      <th></th>\n",
       "    </tr>\n",
       "  </thead>\n",
       "  <tbody>\n",
       "    <tr>\n",
       "      <th>2021-06-28 00:00:00-04:00</th>\n",
       "      <td>115.04</td>\n",
       "      <td>115.23</td>\n",
       "      <td>115.040</td>\n",
       "      <td>115.160</td>\n",
       "      <td>5523690.0</td>\n",
       "      <td>427.17</td>\n",
       "      <td>427.65</td>\n",
       "      <td>425.8900</td>\n",
       "      <td>427.48</td>\n",
       "      <td>43937373.0</td>\n",
       "    </tr>\n",
       "    <tr>\n",
       "      <th>2021-06-29 00:00:00-04:00</th>\n",
       "      <td>115.06</td>\n",
       "      <td>115.25</td>\n",
       "      <td>115.045</td>\n",
       "      <td>115.250</td>\n",
       "      <td>3469405.0</td>\n",
       "      <td>427.89</td>\n",
       "      <td>428.56</td>\n",
       "      <td>427.1300</td>\n",
       "      <td>427.68</td>\n",
       "      <td>32097572.0</td>\n",
       "    </tr>\n",
       "    <tr>\n",
       "      <th>2021-06-30 00:00:00-04:00</th>\n",
       "      <td>115.36</td>\n",
       "      <td>115.45</td>\n",
       "      <td>115.300</td>\n",
       "      <td>115.350</td>\n",
       "      <td>5984381.0</td>\n",
       "      <td>427.20</td>\n",
       "      <td>428.78</td>\n",
       "      <td>427.1800</td>\n",
       "      <td>428.08</td>\n",
       "      <td>46776402.0</td>\n",
       "    </tr>\n",
       "    <tr>\n",
       "      <th>2021-07-01 00:00:00-04:00</th>\n",
       "      <td>115.15</td>\n",
       "      <td>115.19</td>\n",
       "      <td>115.010</td>\n",
       "      <td>115.115</td>\n",
       "      <td>4439326.0</td>\n",
       "      <td>428.83</td>\n",
       "      <td>430.60</td>\n",
       "      <td>428.8000</td>\n",
       "      <td>430.47</td>\n",
       "      <td>44147835.0</td>\n",
       "    </tr>\n",
       "    <tr>\n",
       "      <th>2021-07-02 00:00:00-04:00</th>\n",
       "      <td>115.23</td>\n",
       "      <td>115.37</td>\n",
       "      <td>115.170</td>\n",
       "      <td>115.370</td>\n",
       "      <td>4219494.0</td>\n",
       "      <td>431.67</td>\n",
       "      <td>434.10</td>\n",
       "      <td>430.5218</td>\n",
       "      <td>433.75</td>\n",
       "      <td>46557070.0</td>\n",
       "    </tr>\n",
       "  </tbody>\n",
       "</table>\n",
       "</div>"
      ],
      "text/plain": [
       "                              AGG                                       \\\n",
       "                             open    high      low    close     volume   \n",
       "time                                                                     \n",
       "2021-06-28 00:00:00-04:00  115.04  115.23  115.040  115.160  5523690.0   \n",
       "2021-06-29 00:00:00-04:00  115.06  115.25  115.045  115.250  3469405.0   \n",
       "2021-06-30 00:00:00-04:00  115.36  115.45  115.300  115.350  5984381.0   \n",
       "2021-07-01 00:00:00-04:00  115.15  115.19  115.010  115.115  4439326.0   \n",
       "2021-07-02 00:00:00-04:00  115.23  115.37  115.170  115.370  4219494.0   \n",
       "\n",
       "                              SPY                                        \n",
       "                             open    high       low   close      volume  \n",
       "time                                                                     \n",
       "2021-06-28 00:00:00-04:00  427.17  427.65  425.8900  427.48  43937373.0  \n",
       "2021-06-29 00:00:00-04:00  427.89  428.56  427.1300  427.68  32097572.0  \n",
       "2021-06-30 00:00:00-04:00  427.20  428.78  427.1800  428.08  46776402.0  \n",
       "2021-07-01 00:00:00-04:00  428.83  430.60  428.8000  430.47  44147835.0  \n",
       "2021-07-02 00:00:00-04:00  431.67  434.10  430.5218  433.75  46557070.0  "
      ]
     },
     "metadata": {},
     "output_type": "display_data"
    }
   ],
   "source": [
    "# Use the Alpaca get_barset function to make the API call to get the 10 years worth of pricing data\n",
    "\n",
    "# Note in practice we are not able to get any more than 1000 data points, so our dataset is limited\n",
    "# to about 4 years worth of data!!!\n",
    "\n",
    "# The tickers and timeframe parameters should have been set in Part 1 of this activity \n",
    "# The start and end dates should be updated with the information set above\n",
    "# Remember to add the df property to the end of the call so the response is returned as a DataFrame\n",
    "df_portfolio = alpaca.get_barset(tickers, timeframe, start=start_date, end=end_date, limit=1000).df\n",
    "\n",
    "\n",
    "# Display both the first and last five rows of the DataFrame\n",
    "display(df_portfolio.head())\n",
    "display(df_portfolio.tail())\n"
   ]
  },
  {
   "cell_type": "markdown",
   "metadata": {},
   "source": [
    "#### Step 2: Run a Monte Carlo simulation of 500 samples and 30 years for the 60/40 portfolio, and then plot the results."
   ]
  },
  {
   "cell_type": "code",
   "execution_count": 30,
   "metadata": {},
   "outputs": [
    {
     "data": {
      "text/html": [
       "<div>\n",
       "<style scoped>\n",
       "    .dataframe tbody tr th:only-of-type {\n",
       "        vertical-align: middle;\n",
       "    }\n",
       "\n",
       "    .dataframe tbody tr th {\n",
       "        vertical-align: top;\n",
       "    }\n",
       "\n",
       "    .dataframe thead tr th {\n",
       "        text-align: left;\n",
       "    }\n",
       "\n",
       "    .dataframe thead tr:last-of-type th {\n",
       "        text-align: right;\n",
       "    }\n",
       "</style>\n",
       "<table border=\"1\" class=\"dataframe\">\n",
       "  <thead>\n",
       "    <tr>\n",
       "      <th></th>\n",
       "      <th colspan=\"6\" halign=\"left\">AGG</th>\n",
       "      <th colspan=\"6\" halign=\"left\">SPY</th>\n",
       "    </tr>\n",
       "    <tr>\n",
       "      <th></th>\n",
       "      <th>open</th>\n",
       "      <th>high</th>\n",
       "      <th>low</th>\n",
       "      <th>close</th>\n",
       "      <th>volume</th>\n",
       "      <th>daily_return</th>\n",
       "      <th>open</th>\n",
       "      <th>high</th>\n",
       "      <th>low</th>\n",
       "      <th>close</th>\n",
       "      <th>volume</th>\n",
       "      <th>daily_return</th>\n",
       "    </tr>\n",
       "    <tr>\n",
       "      <th>time</th>\n",
       "      <th></th>\n",
       "      <th></th>\n",
       "      <th></th>\n",
       "      <th></th>\n",
       "      <th></th>\n",
       "      <th></th>\n",
       "      <th></th>\n",
       "      <th></th>\n",
       "      <th></th>\n",
       "      <th></th>\n",
       "      <th></th>\n",
       "      <th></th>\n",
       "    </tr>\n",
       "  </thead>\n",
       "  <tbody>\n",
       "    <tr>\n",
       "      <th>2017-07-13 00:00:00-04:00</th>\n",
       "      <td>109.29</td>\n",
       "      <td>109.3118</td>\n",
       "      <td>109.13</td>\n",
       "      <td>109.24</td>\n",
       "      <td>1432660.0</td>\n",
       "      <td>NaN</td>\n",
       "      <td>NaN</td>\n",
       "      <td>NaN</td>\n",
       "      <td>NaN</td>\n",
       "      <td>NaN</td>\n",
       "      <td>NaN</td>\n",
       "      <td>NaN</td>\n",
       "    </tr>\n",
       "    <tr>\n",
       "      <th>2017-07-14 00:00:00-04:00</th>\n",
       "      <td>109.54</td>\n",
       "      <td>109.5600</td>\n",
       "      <td>109.29</td>\n",
       "      <td>109.36</td>\n",
       "      <td>1744770.0</td>\n",
       "      <td>0.001098</td>\n",
       "      <td>244.42</td>\n",
       "      <td>245.97</td>\n",
       "      <td>244.31</td>\n",
       "      <td>245.54</td>\n",
       "      <td>40758038.0</td>\n",
       "      <td>NaN</td>\n",
       "    </tr>\n",
       "    <tr>\n",
       "      <th>2017-07-17 00:00:00-04:00</th>\n",
       "      <td>109.40</td>\n",
       "      <td>109.4800</td>\n",
       "      <td>109.32</td>\n",
       "      <td>109.41</td>\n",
       "      <td>1910544.0</td>\n",
       "      <td>0.000457</td>\n",
       "      <td>245.47</td>\n",
       "      <td>245.91</td>\n",
       "      <td>245.33</td>\n",
       "      <td>245.51</td>\n",
       "      <td>22378971.0</td>\n",
       "      <td>-0.000122</td>\n",
       "    </tr>\n",
       "    <tr>\n",
       "      <th>2017-07-18 00:00:00-04:00</th>\n",
       "      <td>109.64</td>\n",
       "      <td>109.7100</td>\n",
       "      <td>109.58</td>\n",
       "      <td>109.68</td>\n",
       "      <td>2471170.0</td>\n",
       "      <td>0.002468</td>\n",
       "      <td>245.06</td>\n",
       "      <td>245.72</td>\n",
       "      <td>244.67</td>\n",
       "      <td>245.69</td>\n",
       "      <td>31695494.0</td>\n",
       "      <td>0.000733</td>\n",
       "    </tr>\n",
       "    <tr>\n",
       "      <th>2017-07-19 00:00:00-04:00</th>\n",
       "      <td>109.72</td>\n",
       "      <td>109.7500</td>\n",
       "      <td>109.63</td>\n",
       "      <td>109.70</td>\n",
       "      <td>1405289.0</td>\n",
       "      <td>0.000182</td>\n",
       "      <td>246.02</td>\n",
       "      <td>247.00</td>\n",
       "      <td>246.01</td>\n",
       "      <td>246.99</td>\n",
       "      <td>31007738.0</td>\n",
       "      <td>0.005291</td>\n",
       "    </tr>\n",
       "  </tbody>\n",
       "</table>\n",
       "</div>"
      ],
      "text/plain": [
       "                              AGG                                       \\\n",
       "                             open      high     low   close     volume   \n",
       "time                                                                     \n",
       "2017-07-13 00:00:00-04:00  109.29  109.3118  109.13  109.24  1432660.0   \n",
       "2017-07-14 00:00:00-04:00  109.54  109.5600  109.29  109.36  1744770.0   \n",
       "2017-07-17 00:00:00-04:00  109.40  109.4800  109.32  109.41  1910544.0   \n",
       "2017-07-18 00:00:00-04:00  109.64  109.7100  109.58  109.68  2471170.0   \n",
       "2017-07-19 00:00:00-04:00  109.72  109.7500  109.63  109.70  1405289.0   \n",
       "\n",
       "                                           SPY                          \\\n",
       "                          daily_return    open    high     low   close   \n",
       "time                                                                     \n",
       "2017-07-13 00:00:00-04:00          NaN     NaN     NaN     NaN     NaN   \n",
       "2017-07-14 00:00:00-04:00     0.001098  244.42  245.97  244.31  245.54   \n",
       "2017-07-17 00:00:00-04:00     0.000457  245.47  245.91  245.33  245.51   \n",
       "2017-07-18 00:00:00-04:00     0.002468  245.06  245.72  244.67  245.69   \n",
       "2017-07-19 00:00:00-04:00     0.000182  246.02  247.00  246.01  246.99   \n",
       "\n",
       "                                                    \n",
       "                               volume daily_return  \n",
       "time                                                \n",
       "2017-07-13 00:00:00-04:00         NaN          NaN  \n",
       "2017-07-14 00:00:00-04:00  40758038.0          NaN  \n",
       "2017-07-17 00:00:00-04:00  22378971.0    -0.000122  \n",
       "2017-07-18 00:00:00-04:00  31695494.0     0.000733  \n",
       "2017-07-19 00:00:00-04:00  31007738.0     0.005291  "
      ]
     },
     "execution_count": 30,
     "metadata": {},
     "output_type": "execute_result"
    }
   ],
   "source": [
    "# Configure the Monte Carlo simulation to forecast 30 years cumulative returns\n",
    "# The weights should be split 40% to AGG and 60% to SPY.\n",
    "# Run 500 samples.\n",
    "mc_30_year = MCSimulation(\n",
    "    portfolio_data=df_portfolio,\n",
    "    weights=[.4, .6],\n",
    "    num_simulation=500,\n",
    "    num_trading_days=252*30\n",
    ")\n",
    "\n",
    "# Review the simulation input data\n",
    "mc_30_year.portfolio_data.head()\n"
   ]
  },
  {
   "cell_type": "code",
   "execution_count": 31,
   "metadata": {},
   "outputs": [
    {
     "name": "stdout",
     "output_type": "stream",
     "text": [
      "Running Monte Carlo simulation number 0.\n",
      "Running Monte Carlo simulation number 10.\n",
      "Running Monte Carlo simulation number 20.\n",
      "Running Monte Carlo simulation number 30.\n",
      "Running Monte Carlo simulation number 40.\n",
      "Running Monte Carlo simulation number 50.\n",
      "Running Monte Carlo simulation number 60.\n",
      "Running Monte Carlo simulation number 70.\n",
      "Running Monte Carlo simulation number 80.\n",
      "Running Monte Carlo simulation number 90.\n",
      "Running Monte Carlo simulation number 100.\n",
      "Running Monte Carlo simulation number 110.\n",
      "Running Monte Carlo simulation number 120.\n",
      "Running Monte Carlo simulation number 130.\n",
      "Running Monte Carlo simulation number 140.\n",
      "Running Monte Carlo simulation number 150.\n",
      "Running Monte Carlo simulation number 160.\n",
      "Running Monte Carlo simulation number 170.\n",
      "Running Monte Carlo simulation number 180.\n",
      "Running Monte Carlo simulation number 190.\n",
      "Running Monte Carlo simulation number 200.\n",
      "Running Monte Carlo simulation number 210.\n",
      "Running Monte Carlo simulation number 220.\n",
      "Running Monte Carlo simulation number 230.\n",
      "Running Monte Carlo simulation number 240.\n",
      "Running Monte Carlo simulation number 250.\n",
      "Running Monte Carlo simulation number 260.\n",
      "Running Monte Carlo simulation number 270.\n",
      "Running Monte Carlo simulation number 280.\n",
      "Running Monte Carlo simulation number 290.\n",
      "Running Monte Carlo simulation number 300.\n",
      "Running Monte Carlo simulation number 310.\n",
      "Running Monte Carlo simulation number 320.\n",
      "Running Monte Carlo simulation number 330.\n",
      "Running Monte Carlo simulation number 340.\n",
      "Running Monte Carlo simulation number 350.\n",
      "Running Monte Carlo simulation number 360.\n",
      "Running Monte Carlo simulation number 370.\n",
      "Running Monte Carlo simulation number 380.\n",
      "Running Monte Carlo simulation number 390.\n",
      "Running Monte Carlo simulation number 400.\n",
      "Running Monte Carlo simulation number 410.\n",
      "Running Monte Carlo simulation number 420.\n",
      "Running Monte Carlo simulation number 430.\n",
      "Running Monte Carlo simulation number 440.\n",
      "Running Monte Carlo simulation number 450.\n",
      "Running Monte Carlo simulation number 460.\n",
      "Running Monte Carlo simulation number 470.\n",
      "Running Monte Carlo simulation number 480.\n",
      "Running Monte Carlo simulation number 490.\n"
     ]
    },
    {
     "data": {
      "text/html": [
       "<div>\n",
       "<style scoped>\n",
       "    .dataframe tbody tr th:only-of-type {\n",
       "        vertical-align: middle;\n",
       "    }\n",
       "\n",
       "    .dataframe tbody tr th {\n",
       "        vertical-align: top;\n",
       "    }\n",
       "\n",
       "    .dataframe thead th {\n",
       "        text-align: right;\n",
       "    }\n",
       "</style>\n",
       "<table border=\"1\" class=\"dataframe\">\n",
       "  <thead>\n",
       "    <tr style=\"text-align: right;\">\n",
       "      <th></th>\n",
       "      <th>0</th>\n",
       "      <th>1</th>\n",
       "      <th>2</th>\n",
       "      <th>3</th>\n",
       "      <th>4</th>\n",
       "      <th>5</th>\n",
       "      <th>6</th>\n",
       "      <th>7</th>\n",
       "      <th>8</th>\n",
       "      <th>9</th>\n",
       "      <th>...</th>\n",
       "      <th>490</th>\n",
       "      <th>491</th>\n",
       "      <th>492</th>\n",
       "      <th>493</th>\n",
       "      <th>494</th>\n",
       "      <th>495</th>\n",
       "      <th>496</th>\n",
       "      <th>497</th>\n",
       "      <th>498</th>\n",
       "      <th>499</th>\n",
       "    </tr>\n",
       "  </thead>\n",
       "  <tbody>\n",
       "    <tr>\n",
       "      <th>0</th>\n",
       "      <td>1.000000</td>\n",
       "      <td>1.000000</td>\n",
       "      <td>1.000000</td>\n",
       "      <td>1.000000</td>\n",
       "      <td>1.000000</td>\n",
       "      <td>1.000000</td>\n",
       "      <td>1.000000</td>\n",
       "      <td>1.000000</td>\n",
       "      <td>1.000000</td>\n",
       "      <td>1.000000</td>\n",
       "      <td>...</td>\n",
       "      <td>1.000000</td>\n",
       "      <td>1.000000</td>\n",
       "      <td>1.000000</td>\n",
       "      <td>1.000000</td>\n",
       "      <td>1.000000</td>\n",
       "      <td>1.000000</td>\n",
       "      <td>1.000000</td>\n",
       "      <td>1.000000</td>\n",
       "      <td>1.000000</td>\n",
       "      <td>1.000000</td>\n",
       "    </tr>\n",
       "    <tr>\n",
       "      <th>1</th>\n",
       "      <td>1.004251</td>\n",
       "      <td>1.004386</td>\n",
       "      <td>0.996460</td>\n",
       "      <td>1.009898</td>\n",
       "      <td>0.996989</td>\n",
       "      <td>0.995301</td>\n",
       "      <td>1.011149</td>\n",
       "      <td>1.001136</td>\n",
       "      <td>1.001737</td>\n",
       "      <td>1.005104</td>\n",
       "      <td>...</td>\n",
       "      <td>1.002439</td>\n",
       "      <td>1.013625</td>\n",
       "      <td>0.993641</td>\n",
       "      <td>0.996926</td>\n",
       "      <td>1.001902</td>\n",
       "      <td>0.993176</td>\n",
       "      <td>1.005113</td>\n",
       "      <td>0.987530</td>\n",
       "      <td>1.010197</td>\n",
       "      <td>1.014818</td>\n",
       "    </tr>\n",
       "    <tr>\n",
       "      <th>2</th>\n",
       "      <td>1.004490</td>\n",
       "      <td>0.998956</td>\n",
       "      <td>0.993545</td>\n",
       "      <td>1.019711</td>\n",
       "      <td>0.998749</td>\n",
       "      <td>1.008515</td>\n",
       "      <td>1.008075</td>\n",
       "      <td>0.993417</td>\n",
       "      <td>1.009238</td>\n",
       "      <td>1.001064</td>\n",
       "      <td>...</td>\n",
       "      <td>1.007923</td>\n",
       "      <td>1.010261</td>\n",
       "      <td>1.000967</td>\n",
       "      <td>1.002512</td>\n",
       "      <td>1.006683</td>\n",
       "      <td>0.994116</td>\n",
       "      <td>0.999546</td>\n",
       "      <td>0.995109</td>\n",
       "      <td>1.013467</td>\n",
       "      <td>1.012304</td>\n",
       "    </tr>\n",
       "    <tr>\n",
       "      <th>3</th>\n",
       "      <td>1.003761</td>\n",
       "      <td>0.992203</td>\n",
       "      <td>0.997523</td>\n",
       "      <td>1.007051</td>\n",
       "      <td>0.986959</td>\n",
       "      <td>1.020919</td>\n",
       "      <td>0.989817</td>\n",
       "      <td>0.983577</td>\n",
       "      <td>1.015954</td>\n",
       "      <td>1.004066</td>\n",
       "      <td>...</td>\n",
       "      <td>1.012188</td>\n",
       "      <td>1.002971</td>\n",
       "      <td>1.004090</td>\n",
       "      <td>1.018662</td>\n",
       "      <td>1.000205</td>\n",
       "      <td>1.009742</td>\n",
       "      <td>0.999727</td>\n",
       "      <td>0.992944</td>\n",
       "      <td>1.007302</td>\n",
       "      <td>1.017555</td>\n",
       "    </tr>\n",
       "    <tr>\n",
       "      <th>4</th>\n",
       "      <td>0.994259</td>\n",
       "      <td>0.995687</td>\n",
       "      <td>0.999192</td>\n",
       "      <td>1.004559</td>\n",
       "      <td>0.979194</td>\n",
       "      <td>1.024457</td>\n",
       "      <td>0.980073</td>\n",
       "      <td>0.986315</td>\n",
       "      <td>1.022862</td>\n",
       "      <td>0.997050</td>\n",
       "      <td>...</td>\n",
       "      <td>1.016259</td>\n",
       "      <td>1.013293</td>\n",
       "      <td>1.000370</td>\n",
       "      <td>1.020043</td>\n",
       "      <td>1.001594</td>\n",
       "      <td>1.010715</td>\n",
       "      <td>0.992390</td>\n",
       "      <td>0.984512</td>\n",
       "      <td>1.001372</td>\n",
       "      <td>1.021969</td>\n",
       "    </tr>\n",
       "    <tr>\n",
       "      <th>...</th>\n",
       "      <td>...</td>\n",
       "      <td>...</td>\n",
       "      <td>...</td>\n",
       "      <td>...</td>\n",
       "      <td>...</td>\n",
       "      <td>...</td>\n",
       "      <td>...</td>\n",
       "      <td>...</td>\n",
       "      <td>...</td>\n",
       "      <td>...</td>\n",
       "      <td>...</td>\n",
       "      <td>...</td>\n",
       "      <td>...</td>\n",
       "      <td>...</td>\n",
       "      <td>...</td>\n",
       "      <td>...</td>\n",
       "      <td>...</td>\n",
       "      <td>...</td>\n",
       "      <td>...</td>\n",
       "      <td>...</td>\n",
       "      <td>...</td>\n",
       "    </tr>\n",
       "    <tr>\n",
       "      <th>7556</th>\n",
       "      <td>16.528375</td>\n",
       "      <td>10.507767</td>\n",
       "      <td>21.375053</td>\n",
       "      <td>6.429892</td>\n",
       "      <td>14.682764</td>\n",
       "      <td>22.345451</td>\n",
       "      <td>9.080429</td>\n",
       "      <td>21.138715</td>\n",
       "      <td>19.479316</td>\n",
       "      <td>8.877377</td>\n",
       "      <td>...</td>\n",
       "      <td>6.184773</td>\n",
       "      <td>12.928930</td>\n",
       "      <td>20.051006</td>\n",
       "      <td>28.952258</td>\n",
       "      <td>8.842584</td>\n",
       "      <td>36.318302</td>\n",
       "      <td>12.251491</td>\n",
       "      <td>8.439530</td>\n",
       "      <td>46.086119</td>\n",
       "      <td>79.258160</td>\n",
       "    </tr>\n",
       "    <tr>\n",
       "      <th>7557</th>\n",
       "      <td>16.437452</td>\n",
       "      <td>10.505455</td>\n",
       "      <td>21.276672</td>\n",
       "      <td>6.429465</td>\n",
       "      <td>14.794569</td>\n",
       "      <td>22.250357</td>\n",
       "      <td>9.067700</td>\n",
       "      <td>21.125382</td>\n",
       "      <td>19.517168</td>\n",
       "      <td>8.930012</td>\n",
       "      <td>...</td>\n",
       "      <td>6.260832</td>\n",
       "      <td>13.103257</td>\n",
       "      <td>20.136913</td>\n",
       "      <td>28.862415</td>\n",
       "      <td>8.623538</td>\n",
       "      <td>36.100345</td>\n",
       "      <td>12.294409</td>\n",
       "      <td>8.468023</td>\n",
       "      <td>46.284154</td>\n",
       "      <td>79.172094</td>\n",
       "    </tr>\n",
       "    <tr>\n",
       "      <th>7558</th>\n",
       "      <td>16.392557</td>\n",
       "      <td>10.549687</td>\n",
       "      <td>21.514616</td>\n",
       "      <td>6.450837</td>\n",
       "      <td>14.914353</td>\n",
       "      <td>22.309516</td>\n",
       "      <td>9.065851</td>\n",
       "      <td>21.162827</td>\n",
       "      <td>19.369790</td>\n",
       "      <td>8.937873</td>\n",
       "      <td>...</td>\n",
       "      <td>6.230696</td>\n",
       "      <td>13.134300</td>\n",
       "      <td>20.263904</td>\n",
       "      <td>28.848274</td>\n",
       "      <td>8.584830</td>\n",
       "      <td>35.745534</td>\n",
       "      <td>12.211583</td>\n",
       "      <td>8.443522</td>\n",
       "      <td>45.506842</td>\n",
       "      <td>78.316565</td>\n",
       "    </tr>\n",
       "    <tr>\n",
       "      <th>7559</th>\n",
       "      <td>16.359874</td>\n",
       "      <td>10.593370</td>\n",
       "      <td>21.939392</td>\n",
       "      <td>6.358705</td>\n",
       "      <td>14.966096</td>\n",
       "      <td>22.007403</td>\n",
       "      <td>9.102936</td>\n",
       "      <td>21.440039</td>\n",
       "      <td>19.481789</td>\n",
       "      <td>8.802081</td>\n",
       "      <td>...</td>\n",
       "      <td>6.271882</td>\n",
       "      <td>12.959004</td>\n",
       "      <td>20.213177</td>\n",
       "      <td>28.855422</td>\n",
       "      <td>8.637004</td>\n",
       "      <td>35.930412</td>\n",
       "      <td>12.278581</td>\n",
       "      <td>8.510433</td>\n",
       "      <td>45.388640</td>\n",
       "      <td>78.360293</td>\n",
       "    </tr>\n",
       "    <tr>\n",
       "      <th>7560</th>\n",
       "      <td>16.323450</td>\n",
       "      <td>10.712912</td>\n",
       "      <td>22.050046</td>\n",
       "      <td>6.401255</td>\n",
       "      <td>14.809319</td>\n",
       "      <td>22.171644</td>\n",
       "      <td>9.065101</td>\n",
       "      <td>21.438035</td>\n",
       "      <td>19.426070</td>\n",
       "      <td>8.779626</td>\n",
       "      <td>...</td>\n",
       "      <td>6.336218</td>\n",
       "      <td>12.938636</td>\n",
       "      <td>19.747660</td>\n",
       "      <td>29.059741</td>\n",
       "      <td>8.702243</td>\n",
       "      <td>36.088528</td>\n",
       "      <td>12.279914</td>\n",
       "      <td>8.501801</td>\n",
       "      <td>45.883271</td>\n",
       "      <td>78.025114</td>\n",
       "    </tr>\n",
       "  </tbody>\n",
       "</table>\n",
       "<p>7561 rows × 500 columns</p>\n",
       "</div>"
      ],
      "text/plain": [
       "            0          1          2         3          4          5    \\\n",
       "0      1.000000   1.000000   1.000000  1.000000   1.000000   1.000000   \n",
       "1      1.004251   1.004386   0.996460  1.009898   0.996989   0.995301   \n",
       "2      1.004490   0.998956   0.993545  1.019711   0.998749   1.008515   \n",
       "3      1.003761   0.992203   0.997523  1.007051   0.986959   1.020919   \n",
       "4      0.994259   0.995687   0.999192  1.004559   0.979194   1.024457   \n",
       "...         ...        ...        ...       ...        ...        ...   \n",
       "7556  16.528375  10.507767  21.375053  6.429892  14.682764  22.345451   \n",
       "7557  16.437452  10.505455  21.276672  6.429465  14.794569  22.250357   \n",
       "7558  16.392557  10.549687  21.514616  6.450837  14.914353  22.309516   \n",
       "7559  16.359874  10.593370  21.939392  6.358705  14.966096  22.007403   \n",
       "7560  16.323450  10.712912  22.050046  6.401255  14.809319  22.171644   \n",
       "\n",
       "           6          7          8         9    ...       490        491  \\\n",
       "0     1.000000   1.000000   1.000000  1.000000  ...  1.000000   1.000000   \n",
       "1     1.011149   1.001136   1.001737  1.005104  ...  1.002439   1.013625   \n",
       "2     1.008075   0.993417   1.009238  1.001064  ...  1.007923   1.010261   \n",
       "3     0.989817   0.983577   1.015954  1.004066  ...  1.012188   1.002971   \n",
       "4     0.980073   0.986315   1.022862  0.997050  ...  1.016259   1.013293   \n",
       "...        ...        ...        ...       ...  ...       ...        ...   \n",
       "7556  9.080429  21.138715  19.479316  8.877377  ...  6.184773  12.928930   \n",
       "7557  9.067700  21.125382  19.517168  8.930012  ...  6.260832  13.103257   \n",
       "7558  9.065851  21.162827  19.369790  8.937873  ...  6.230696  13.134300   \n",
       "7559  9.102936  21.440039  19.481789  8.802081  ...  6.271882  12.959004   \n",
       "7560  9.065101  21.438035  19.426070  8.779626  ...  6.336218  12.938636   \n",
       "\n",
       "            492        493       494        495        496       497  \\\n",
       "0      1.000000   1.000000  1.000000   1.000000   1.000000  1.000000   \n",
       "1      0.993641   0.996926  1.001902   0.993176   1.005113  0.987530   \n",
       "2      1.000967   1.002512  1.006683   0.994116   0.999546  0.995109   \n",
       "3      1.004090   1.018662  1.000205   1.009742   0.999727  0.992944   \n",
       "4      1.000370   1.020043  1.001594   1.010715   0.992390  0.984512   \n",
       "...         ...        ...       ...        ...        ...       ...   \n",
       "7556  20.051006  28.952258  8.842584  36.318302  12.251491  8.439530   \n",
       "7557  20.136913  28.862415  8.623538  36.100345  12.294409  8.468023   \n",
       "7558  20.263904  28.848274  8.584830  35.745534  12.211583  8.443522   \n",
       "7559  20.213177  28.855422  8.637004  35.930412  12.278581  8.510433   \n",
       "7560  19.747660  29.059741  8.702243  36.088528  12.279914  8.501801   \n",
       "\n",
       "            498        499  \n",
       "0      1.000000   1.000000  \n",
       "1      1.010197   1.014818  \n",
       "2      1.013467   1.012304  \n",
       "3      1.007302   1.017555  \n",
       "4      1.001372   1.021969  \n",
       "...         ...        ...  \n",
       "7556  46.086119  79.258160  \n",
       "7557  46.284154  79.172094  \n",
       "7558  45.506842  78.316565  \n",
       "7559  45.388640  78.360293  \n",
       "7560  45.883271  78.025114  \n",
       "\n",
       "[7561 rows x 500 columns]"
      ]
     },
     "execution_count": 31,
     "metadata": {},
     "output_type": "execute_result"
    }
   ],
   "source": [
    "# Run the Monte Carlo simulation to forecast 30 years cumulative returns\n",
    "mc_30_year.calc_cumulative_return()\n"
   ]
  },
  {
   "cell_type": "code",
   "execution_count": 32,
   "metadata": {},
   "outputs": [
    {
     "data": {
      "text/plain": [
       "<AxesSubplot:title={'center':'500 Simulations of Cumulative Portfolio Return Trajectories Over the Next 7560 Trading Days.'}>"
      ]
     },
     "execution_count": 32,
     "metadata": {},
     "output_type": "execute_result"
    },
    {
     "data": {
      "image/png": "[encoded data removed]",
      "text/plain": [
       "<Figure size 432x288 with 1 Axes>"
      ]
     },
     "metadata": {
      "needs_background": "light"
     },
     "output_type": "display_data"
    }
   ],
   "source": [
    "# Visualize the 30-year Monte Carlo simulation by creating an\n",
    "# overlay line plot\n",
    "mc_30_year.plot_simulation()\n"
   ]
  },
  {
   "cell_type": "markdown",
   "metadata": {},
   "source": [
    "#### Step 3: Plot the probability distribution of the Monte Carlo simulation."
   ]
  },
  {
   "cell_type": "code",
   "execution_count": 33,
   "metadata": {},
   "outputs": [
    {
     "data": {
      "text/plain": [
       "<AxesSubplot:title={'center':'Distribution of Final Cumuluative Returns Across All 500 Simulations'}, ylabel='Frequency'>"
      ]
     },
     "execution_count": 33,
     "metadata": {},
     "output_type": "execute_result"
    },
    {
     "data": {
      "image/png": "[encoded data removed]",
      "text/plain": [
       "<Figure size 432x288 with 1 Axes>"
      ]
     },
     "metadata": {
      "needs_background": "light"
     },
     "output_type": "display_data"
    }
   ],
   "source": [
    "# Visualize the probability distribution of the 30-year Monte Carlo simulation \n",
    "# by plotting a histogram\n",
    "mc_30_year.plot_distribution()\n"
   ]
  },
  {
   "cell_type": "markdown",
   "metadata": {},
   "source": [
    "#### Step 4: Generate the summary statistics for the Monte Carlo simulation."
   ]
  },
  {
   "cell_type": "code",
   "execution_count": 35,
   "metadata": {},
   "outputs": [
    {
     "name": "stdout",
     "output_type": "stream",
     "text": [
      "count           500.000000\n",
      "mean             23.247307\n",
      "std              17.003834\n",
      "min               3.438545\n",
      "25%              11.550980\n",
      "50%              18.227906\n",
      "75%              29.437370\n",
      "max             102.048523\n",
      "95% CI Lower      5.537682\n",
      "95% CI Upper     68.039467\n",
      "Name: 7560, dtype: float64\n"
     ]
    }
   ],
   "source": [
    "# Generate summary statistics from the 30-year Monte Carlo simulation results\n",
    "# Save the results as a variable\n",
    "mc_30_year_summary_statistics = mc_30_year.summarize_cumulative_return()\n",
    "\n",
    "\n",
    "# Review the 30-year Monte Carlo summary statistics\n",
    "print(mc_30_year_summary_statistics)"
   ]
  },
  {
   "cell_type": "markdown",
   "metadata": {},
   "source": [
    "### Analyze the Retirement Portfolio Forecasts\n",
    "\n",
    "Using the current value of only the stock and bond portion of the member's portfolio and the summary statistics that you generated from the Monte Carlo simulation, answer the following question in your Jupyter notebook:\n",
    "\n",
    "-  What are the lower and upper bounds for the expected value of the portfolio with a 95% confidence interval?\n"
   ]
  },
  {
   "cell_type": "code",
   "execution_count": 36,
   "metadata": {},
   "outputs": [
    {
     "name": "stdout",
     "output_type": "stream",
     "text": [
      "The current value of the stock and bond portion of the portfolio is $ 70786.50.\n"
     ]
    }
   ],
   "source": [
    "# Print the current balance of the stock and bond portion of the members portfolio\n",
    "print(f\"The current value of the stock and bond portion of the portfolio is ${total_stocks_bonds: .2f}.\")\n"
   ]
  },
  {
   "cell_type": "code",
   "execution_count": 37,
   "metadata": {},
   "outputs": [
    {
     "name": "stdout",
     "output_type": "stream",
     "text": [
      "With 95% statistical confidence, the range of outcomes for the stock and bond portion\n",
      "of the portfolio is $ 391993.15 to $ 4816275.75.\n"
     ]
    }
   ],
   "source": [
    "# Use the lower and upper `95%` confidence intervals to calculate the range of the possible outcomes for the current stock/bond portfolio\n",
    "ci_lower_thirty_cumulative_return = mc_30_year_summary_statistics[8] * total_stocks_bonds\n",
    "ci_upper_thirty_cumulative_return = mc_30_year_summary_statistics[9] * total_stocks_bonds\n",
    "\n",
    "# Print the result of your calculations\n",
    "print(\"With 95% statistical confidence, the range of outcomes for the stock and bond portion\")\n",
    "print(f\"of the portfolio is ${ci_lower_thirty_cumulative_return: .2f} to ${ci_upper_thirty_cumulative_return: .2f}.\")\n"
   ]
  },
  {
   "cell_type": "markdown",
   "metadata": {},
   "source": [
    "### Forecast Cumulative Returns in 10 Years\n",
    "\n",
    "The CTO of the credit union is impressed with your work on these planning tools but wonders if 30 years is a long time to wait until retirement. So, your next task is to adjust the retirement portfolio and run a new Monte Carlo simulation to find out if the changes will allow members to retire earlier.\n",
    "\n",
    "For this new Monte Carlo simulation, do the following: \n",
    "\n",
    "- Forecast the cumulative returns for 10 years from now. Because of the shortened investment horizon (30 years to 10 years), the portfolio needs to invest more heavily in the riskier asset&mdash;that is, stock&mdash;to help accumulate wealth for retirement. \n",
    "\n",
    "- Adjust the weights of the retirement portfolio so that the composition for the Monte Carlo simulation consists of 20% bonds and 80% stocks. \n",
    "\n",
    "- Run the simulation over 500 samples, and use the same data that the API call to Alpaca generated.\n",
    "\n",
    "- Based on the new Monte Carlo simulation, answer the following questions in your Jupyter notebook:\n",
    "\n",
    "    - Using the current value of only the stock and bond portion of the member's portfolio and the summary statistics that you generated from the new Monte Carlo simulation, what are the lower and upper bounds for the expected value of the portfolio (with the new weights) with a 95% confidence interval?\n",
    "\n",
    "    - Will weighting the portfolio more heavily toward stocks allow the credit union members to retire after only 10 years?\n"
   ]
  },
  {
   "cell_type": "code",
   "execution_count": 38,
   "metadata": {},
   "outputs": [
    {
     "data": {
      "text/html": [
       "<div>\n",
       "<style scoped>\n",
       "    .dataframe tbody tr th:only-of-type {\n",
       "        vertical-align: middle;\n",
       "    }\n",
       "\n",
       "    .dataframe tbody tr th {\n",
       "        vertical-align: top;\n",
       "    }\n",
       "\n",
       "    .dataframe thead tr th {\n",
       "        text-align: left;\n",
       "    }\n",
       "\n",
       "    .dataframe thead tr:last-of-type th {\n",
       "        text-align: right;\n",
       "    }\n",
       "</style>\n",
       "<table border=\"1\" class=\"dataframe\">\n",
       "  <thead>\n",
       "    <tr>\n",
       "      <th></th>\n",
       "      <th colspan=\"6\" halign=\"left\">AGG</th>\n",
       "      <th colspan=\"6\" halign=\"left\">SPY</th>\n",
       "    </tr>\n",
       "    <tr>\n",
       "      <th></th>\n",
       "      <th>open</th>\n",
       "      <th>high</th>\n",
       "      <th>low</th>\n",
       "      <th>close</th>\n",
       "      <th>volume</th>\n",
       "      <th>daily_return</th>\n",
       "      <th>open</th>\n",
       "      <th>high</th>\n",
       "      <th>low</th>\n",
       "      <th>close</th>\n",
       "      <th>volume</th>\n",
       "      <th>daily_return</th>\n",
       "    </tr>\n",
       "    <tr>\n",
       "      <th>time</th>\n",
       "      <th></th>\n",
       "      <th></th>\n",
       "      <th></th>\n",
       "      <th></th>\n",
       "      <th></th>\n",
       "      <th></th>\n",
       "      <th></th>\n",
       "      <th></th>\n",
       "      <th></th>\n",
       "      <th></th>\n",
       "      <th></th>\n",
       "      <th></th>\n",
       "    </tr>\n",
       "  </thead>\n",
       "  <tbody>\n",
       "    <tr>\n",
       "      <th>2017-07-13 00:00:00-04:00</th>\n",
       "      <td>109.29</td>\n",
       "      <td>109.3118</td>\n",
       "      <td>109.13</td>\n",
       "      <td>109.24</td>\n",
       "      <td>1432660.0</td>\n",
       "      <td>NaN</td>\n",
       "      <td>NaN</td>\n",
       "      <td>NaN</td>\n",
       "      <td>NaN</td>\n",
       "      <td>NaN</td>\n",
       "      <td>NaN</td>\n",
       "      <td>NaN</td>\n",
       "    </tr>\n",
       "    <tr>\n",
       "      <th>2017-07-14 00:00:00-04:00</th>\n",
       "      <td>109.54</td>\n",
       "      <td>109.5600</td>\n",
       "      <td>109.29</td>\n",
       "      <td>109.36</td>\n",
       "      <td>1744770.0</td>\n",
       "      <td>0.001098</td>\n",
       "      <td>244.42</td>\n",
       "      <td>245.97</td>\n",
       "      <td>244.31</td>\n",
       "      <td>245.54</td>\n",
       "      <td>40758038.0</td>\n",
       "      <td>NaN</td>\n",
       "    </tr>\n",
       "    <tr>\n",
       "      <th>2017-07-17 00:00:00-04:00</th>\n",
       "      <td>109.40</td>\n",
       "      <td>109.4800</td>\n",
       "      <td>109.32</td>\n",
       "      <td>109.41</td>\n",
       "      <td>1910544.0</td>\n",
       "      <td>0.000457</td>\n",
       "      <td>245.47</td>\n",
       "      <td>245.91</td>\n",
       "      <td>245.33</td>\n",
       "      <td>245.51</td>\n",
       "      <td>22378971.0</td>\n",
       "      <td>-0.000122</td>\n",
       "    </tr>\n",
       "    <tr>\n",
       "      <th>2017-07-18 00:00:00-04:00</th>\n",
       "      <td>109.64</td>\n",
       "      <td>109.7100</td>\n",
       "      <td>109.58</td>\n",
       "      <td>109.68</td>\n",
       "      <td>2471170.0</td>\n",
       "      <td>0.002468</td>\n",
       "      <td>245.06</td>\n",
       "      <td>245.72</td>\n",
       "      <td>244.67</td>\n",
       "      <td>245.69</td>\n",
       "      <td>31695494.0</td>\n",
       "      <td>0.000733</td>\n",
       "    </tr>\n",
       "    <tr>\n",
       "      <th>2017-07-19 00:00:00-04:00</th>\n",
       "      <td>109.72</td>\n",
       "      <td>109.7500</td>\n",
       "      <td>109.63</td>\n",
       "      <td>109.70</td>\n",
       "      <td>1405289.0</td>\n",
       "      <td>0.000182</td>\n",
       "      <td>246.02</td>\n",
       "      <td>247.00</td>\n",
       "      <td>246.01</td>\n",
       "      <td>246.99</td>\n",
       "      <td>31007738.0</td>\n",
       "      <td>0.005291</td>\n",
       "    </tr>\n",
       "  </tbody>\n",
       "</table>\n",
       "</div>"
      ],
      "text/plain": [
       "                              AGG                                       \\\n",
       "                             open      high     low   close     volume   \n",
       "time                                                                     \n",
       "2017-07-13 00:00:00-04:00  109.29  109.3118  109.13  109.24  1432660.0   \n",
       "2017-07-14 00:00:00-04:00  109.54  109.5600  109.29  109.36  1744770.0   \n",
       "2017-07-17 00:00:00-04:00  109.40  109.4800  109.32  109.41  1910544.0   \n",
       "2017-07-18 00:00:00-04:00  109.64  109.7100  109.58  109.68  2471170.0   \n",
       "2017-07-19 00:00:00-04:00  109.72  109.7500  109.63  109.70  1405289.0   \n",
       "\n",
       "                                           SPY                          \\\n",
       "                          daily_return    open    high     low   close   \n",
       "time                                                                     \n",
       "2017-07-13 00:00:00-04:00          NaN     NaN     NaN     NaN     NaN   \n",
       "2017-07-14 00:00:00-04:00     0.001098  244.42  245.97  244.31  245.54   \n",
       "2017-07-17 00:00:00-04:00     0.000457  245.47  245.91  245.33  245.51   \n",
       "2017-07-18 00:00:00-04:00     0.002468  245.06  245.72  244.67  245.69   \n",
       "2017-07-19 00:00:00-04:00     0.000182  246.02  247.00  246.01  246.99   \n",
       "\n",
       "                                                    \n",
       "                               volume daily_return  \n",
       "time                                                \n",
       "2017-07-13 00:00:00-04:00         NaN          NaN  \n",
       "2017-07-14 00:00:00-04:00  40758038.0          NaN  \n",
       "2017-07-17 00:00:00-04:00  22378971.0    -0.000122  \n",
       "2017-07-18 00:00:00-04:00  31695494.0     0.000733  \n",
       "2017-07-19 00:00:00-04:00  31007738.0     0.005291  "
      ]
     },
     "execution_count": 38,
     "metadata": {},
     "output_type": "execute_result"
    }
   ],
   "source": [
    "# Configure a Monte Carlo simulation to forecast 10 years cumulative returns\n",
    "# The weights should be split 20% to AGG and 80% to SPY.\n",
    "# Run 500 samples.\n",
    "mc_10_year = MCSimulation(\n",
    "    portfolio_data=df_portfolio,\n",
    "    weights=[.2, .80],\n",
    "    num_simulation=500,\n",
    "    num_trading_days=252*10\n",
    ")\n",
    "\n",
    "# Review the simulation input data\n",
    "mc_10_year.portfolio_data.head()\n"
   ]
  },
  {
   "cell_type": "code",
   "execution_count": 39,
   "metadata": {},
   "outputs": [
    {
     "name": "stdout",
     "output_type": "stream",
     "text": [
      "Running Monte Carlo simulation number 0.\n",
      "Running Monte Carlo simulation number 10.\n",
      "Running Monte Carlo simulation number 20.\n",
      "Running Monte Carlo simulation number 30.\n",
      "Running Monte Carlo simulation number 40.\n",
      "Running Monte Carlo simulation number 50.\n",
      "Running Monte Carlo simulation number 60.\n",
      "Running Monte Carlo simulation number 70.\n",
      "Running Monte Carlo simulation number 80.\n",
      "Running Monte Carlo simulation number 90.\n",
      "Running Monte Carlo simulation number 100.\n",
      "Running Monte Carlo simulation number 110.\n",
      "Running Monte Carlo simulation number 120.\n",
      "Running Monte Carlo simulation number 130.\n",
      "Running Monte Carlo simulation number 140.\n",
      "Running Monte Carlo simulation number 150.\n",
      "Running Monte Carlo simulation number 160.\n",
      "Running Monte Carlo simulation number 170.\n",
      "Running Monte Carlo simulation number 180.\n",
      "Running Monte Carlo simulation number 190.\n",
      "Running Monte Carlo simulation number 200.\n",
      "Running Monte Carlo simulation number 210.\n",
      "Running Monte Carlo simulation number 220.\n",
      "Running Monte Carlo simulation number 230.\n",
      "Running Monte Carlo simulation number 240.\n",
      "Running Monte Carlo simulation number 250.\n",
      "Running Monte Carlo simulation number 260.\n",
      "Running Monte Carlo simulation number 270.\n",
      "Running Monte Carlo simulation number 280.\n",
      "Running Monte Carlo simulation number 290.\n",
      "Running Monte Carlo simulation number 300.\n",
      "Running Monte Carlo simulation number 310.\n",
      "Running Monte Carlo simulation number 320.\n",
      "Running Monte Carlo simulation number 330.\n",
      "Running Monte Carlo simulation number 340.\n",
      "Running Monte Carlo simulation number 350.\n",
      "Running Monte Carlo simulation number 360.\n",
      "Running Monte Carlo simulation number 370.\n",
      "Running Monte Carlo simulation number 380.\n",
      "Running Monte Carlo simulation number 390.\n",
      "Running Monte Carlo simulation number 400.\n",
      "Running Monte Carlo simulation number 410.\n",
      "Running Monte Carlo simulation number 420.\n",
      "Running Monte Carlo simulation number 430.\n",
      "Running Monte Carlo simulation number 440.\n",
      "Running Monte Carlo simulation number 450.\n",
      "Running Monte Carlo simulation number 460.\n",
      "Running Monte Carlo simulation number 470.\n",
      "Running Monte Carlo simulation number 480.\n",
      "Running Monte Carlo simulation number 490.\n"
     ]
    },
    {
     "data": {
      "text/html": [
       "<div>\n",
       "<style scoped>\n",
       "    .dataframe tbody tr th:only-of-type {\n",
       "        vertical-align: middle;\n",
       "    }\n",
       "\n",
       "    .dataframe tbody tr th {\n",
       "        vertical-align: top;\n",
       "    }\n",
       "\n",
       "    .dataframe thead th {\n",
       "        text-align: right;\n",
       "    }\n",
       "</style>\n",
       "<table border=\"1\" class=\"dataframe\">\n",
       "  <thead>\n",
       "    <tr style=\"text-align: right;\">\n",
       "      <th></th>\n",
       "      <th>0</th>\n",
       "      <th>1</th>\n",
       "      <th>2</th>\n",
       "      <th>3</th>\n",
       "      <th>4</th>\n",
       "      <th>5</th>\n",
       "      <th>6</th>\n",
       "      <th>7</th>\n",
       "      <th>8</th>\n",
       "      <th>9</th>\n",
       "      <th>...</th>\n",
       "      <th>490</th>\n",
       "      <th>491</th>\n",
       "      <th>492</th>\n",
       "      <th>493</th>\n",
       "      <th>494</th>\n",
       "      <th>495</th>\n",
       "      <th>496</th>\n",
       "      <th>497</th>\n",
       "      <th>498</th>\n",
       "      <th>499</th>\n",
       "    </tr>\n",
       "  </thead>\n",
       "  <tbody>\n",
       "    <tr>\n",
       "      <th>0</th>\n",
       "      <td>1.000000</td>\n",
       "      <td>1.000000</td>\n",
       "      <td>1.000000</td>\n",
       "      <td>1.000000</td>\n",
       "      <td>1.000000</td>\n",
       "      <td>1.000000</td>\n",
       "      <td>1.000000</td>\n",
       "      <td>1.000000</td>\n",
       "      <td>1.000000</td>\n",
       "      <td>1.000000</td>\n",
       "      <td>...</td>\n",
       "      <td>1.000000</td>\n",
       "      <td>1.000000</td>\n",
       "      <td>1.000000</td>\n",
       "      <td>1.000000</td>\n",
       "      <td>1.000000</td>\n",
       "      <td>1.000000</td>\n",
       "      <td>1.000000</td>\n",
       "      <td>1.000000</td>\n",
       "      <td>1.000000</td>\n",
       "      <td>1.000000</td>\n",
       "    </tr>\n",
       "    <tr>\n",
       "      <th>1</th>\n",
       "      <td>0.997104</td>\n",
       "      <td>0.998384</td>\n",
       "      <td>0.986941</td>\n",
       "      <td>0.996197</td>\n",
       "      <td>1.020845</td>\n",
       "      <td>0.989402</td>\n",
       "      <td>1.002547</td>\n",
       "      <td>0.997709</td>\n",
       "      <td>1.018499</td>\n",
       "      <td>1.011443</td>\n",
       "      <td>...</td>\n",
       "      <td>0.983570</td>\n",
       "      <td>1.000660</td>\n",
       "      <td>0.986664</td>\n",
       "      <td>1.004220</td>\n",
       "      <td>1.005391</td>\n",
       "      <td>0.999396</td>\n",
       "      <td>0.996500</td>\n",
       "      <td>0.997000</td>\n",
       "      <td>1.006529</td>\n",
       "      <td>1.008694</td>\n",
       "    </tr>\n",
       "    <tr>\n",
       "      <th>2</th>\n",
       "      <td>0.990911</td>\n",
       "      <td>1.011345</td>\n",
       "      <td>0.966659</td>\n",
       "      <td>0.998477</td>\n",
       "      <td>1.011729</td>\n",
       "      <td>1.001879</td>\n",
       "      <td>0.994025</td>\n",
       "      <td>0.990704</td>\n",
       "      <td>1.030738</td>\n",
       "      <td>1.043002</td>\n",
       "      <td>...</td>\n",
       "      <td>0.973311</td>\n",
       "      <td>1.018774</td>\n",
       "      <td>0.975824</td>\n",
       "      <td>1.012115</td>\n",
       "      <td>0.991442</td>\n",
       "      <td>1.002277</td>\n",
       "      <td>1.019472</td>\n",
       "      <td>0.987571</td>\n",
       "      <td>0.991363</td>\n",
       "      <td>1.023923</td>\n",
       "    </tr>\n",
       "    <tr>\n",
       "      <th>3</th>\n",
       "      <td>1.000049</td>\n",
       "      <td>1.015869</td>\n",
       "      <td>0.959226</td>\n",
       "      <td>1.014046</td>\n",
       "      <td>1.012966</td>\n",
       "      <td>1.002562</td>\n",
       "      <td>1.018554</td>\n",
       "      <td>0.986722</td>\n",
       "      <td>1.016128</td>\n",
       "      <td>1.045949</td>\n",
       "      <td>...</td>\n",
       "      <td>0.971933</td>\n",
       "      <td>1.016218</td>\n",
       "      <td>0.987604</td>\n",
       "      <td>1.010197</td>\n",
       "      <td>0.988899</td>\n",
       "      <td>0.997030</td>\n",
       "      <td>1.026553</td>\n",
       "      <td>0.985503</td>\n",
       "      <td>0.981806</td>\n",
       "      <td>1.023986</td>\n",
       "    </tr>\n",
       "    <tr>\n",
       "      <th>4</th>\n",
       "      <td>0.999374</td>\n",
       "      <td>1.016740</td>\n",
       "      <td>0.964135</td>\n",
       "      <td>1.017102</td>\n",
       "      <td>1.003862</td>\n",
       "      <td>1.016879</td>\n",
       "      <td>1.020766</td>\n",
       "      <td>0.979784</td>\n",
       "      <td>1.030030</td>\n",
       "      <td>1.061573</td>\n",
       "      <td>...</td>\n",
       "      <td>0.965839</td>\n",
       "      <td>1.025738</td>\n",
       "      <td>0.984319</td>\n",
       "      <td>1.012487</td>\n",
       "      <td>0.985702</td>\n",
       "      <td>0.994929</td>\n",
       "      <td>1.044509</td>\n",
       "      <td>1.005969</td>\n",
       "      <td>0.996943</td>\n",
       "      <td>1.023316</td>\n",
       "    </tr>\n",
       "    <tr>\n",
       "      <th>...</th>\n",
       "      <td>...</td>\n",
       "      <td>...</td>\n",
       "      <td>...</td>\n",
       "      <td>...</td>\n",
       "      <td>...</td>\n",
       "      <td>...</td>\n",
       "      <td>...</td>\n",
       "      <td>...</td>\n",
       "      <td>...</td>\n",
       "      <td>...</td>\n",
       "      <td>...</td>\n",
       "      <td>...</td>\n",
       "      <td>...</td>\n",
       "      <td>...</td>\n",
       "      <td>...</td>\n",
       "      <td>...</td>\n",
       "      <td>...</td>\n",
       "      <td>...</td>\n",
       "      <td>...</td>\n",
       "      <td>...</td>\n",
       "      <td>...</td>\n",
       "    </tr>\n",
       "    <tr>\n",
       "      <th>2516</th>\n",
       "      <td>8.056368</td>\n",
       "      <td>1.746027</td>\n",
       "      <td>5.327601</td>\n",
       "      <td>3.548153</td>\n",
       "      <td>5.509370</td>\n",
       "      <td>0.970244</td>\n",
       "      <td>2.298640</td>\n",
       "      <td>3.901296</td>\n",
       "      <td>4.995185</td>\n",
       "      <td>4.796682</td>\n",
       "      <td>...</td>\n",
       "      <td>3.784690</td>\n",
       "      <td>4.176176</td>\n",
       "      <td>3.526952</td>\n",
       "      <td>2.537569</td>\n",
       "      <td>5.033380</td>\n",
       "      <td>2.781987</td>\n",
       "      <td>2.531626</td>\n",
       "      <td>2.677550</td>\n",
       "      <td>2.284497</td>\n",
       "      <td>1.764548</td>\n",
       "    </tr>\n",
       "    <tr>\n",
       "      <th>2517</th>\n",
       "      <td>8.163420</td>\n",
       "      <td>1.739351</td>\n",
       "      <td>5.265398</td>\n",
       "      <td>3.510268</td>\n",
       "      <td>5.374690</td>\n",
       "      <td>0.973271</td>\n",
       "      <td>2.270702</td>\n",
       "      <td>3.954917</td>\n",
       "      <td>5.103736</td>\n",
       "      <td>4.852644</td>\n",
       "      <td>...</td>\n",
       "      <td>3.766516</td>\n",
       "      <td>4.134186</td>\n",
       "      <td>3.512917</td>\n",
       "      <td>2.579836</td>\n",
       "      <td>5.010775</td>\n",
       "      <td>2.778323</td>\n",
       "      <td>2.536459</td>\n",
       "      <td>2.666723</td>\n",
       "      <td>2.305589</td>\n",
       "      <td>1.782808</td>\n",
       "    </tr>\n",
       "    <tr>\n",
       "      <th>2518</th>\n",
       "      <td>8.238940</td>\n",
       "      <td>1.744001</td>\n",
       "      <td>5.306492</td>\n",
       "      <td>3.502256</td>\n",
       "      <td>5.452258</td>\n",
       "      <td>0.958615</td>\n",
       "      <td>2.237116</td>\n",
       "      <td>3.919593</td>\n",
       "      <td>5.031091</td>\n",
       "      <td>4.815181</td>\n",
       "      <td>...</td>\n",
       "      <td>3.834948</td>\n",
       "      <td>4.191997</td>\n",
       "      <td>3.469174</td>\n",
       "      <td>2.584533</td>\n",
       "      <td>5.006483</td>\n",
       "      <td>2.769358</td>\n",
       "      <td>2.532778</td>\n",
       "      <td>2.638699</td>\n",
       "      <td>2.336217</td>\n",
       "      <td>1.811458</td>\n",
       "    </tr>\n",
       "    <tr>\n",
       "      <th>2519</th>\n",
       "      <td>8.350796</td>\n",
       "      <td>1.760424</td>\n",
       "      <td>5.320925</td>\n",
       "      <td>3.444200</td>\n",
       "      <td>5.516700</td>\n",
       "      <td>0.966725</td>\n",
       "      <td>2.231862</td>\n",
       "      <td>3.878150</td>\n",
       "      <td>4.940058</td>\n",
       "      <td>4.822403</td>\n",
       "      <td>...</td>\n",
       "      <td>3.854505</td>\n",
       "      <td>4.232479</td>\n",
       "      <td>3.434774</td>\n",
       "      <td>2.526523</td>\n",
       "      <td>4.987012</td>\n",
       "      <td>2.755801</td>\n",
       "      <td>2.518476</td>\n",
       "      <td>2.643564</td>\n",
       "      <td>2.325141</td>\n",
       "      <td>1.794118</td>\n",
       "    </tr>\n",
       "    <tr>\n",
       "      <th>2520</th>\n",
       "      <td>8.274541</td>\n",
       "      <td>1.744306</td>\n",
       "      <td>5.349186</td>\n",
       "      <td>3.486374</td>\n",
       "      <td>5.486871</td>\n",
       "      <td>0.954925</td>\n",
       "      <td>2.207310</td>\n",
       "      <td>3.812119</td>\n",
       "      <td>4.940507</td>\n",
       "      <td>4.799933</td>\n",
       "      <td>...</td>\n",
       "      <td>3.843726</td>\n",
       "      <td>4.173204</td>\n",
       "      <td>3.466832</td>\n",
       "      <td>2.541257</td>\n",
       "      <td>5.029374</td>\n",
       "      <td>2.763828</td>\n",
       "      <td>2.538521</td>\n",
       "      <td>2.649818</td>\n",
       "      <td>2.278943</td>\n",
       "      <td>1.788246</td>\n",
       "    </tr>\n",
       "  </tbody>\n",
       "</table>\n",
       "<p>2521 rows × 500 columns</p>\n",
       "</div>"
      ],
      "text/plain": [
       "           0         1         2         3         4         5         6    \\\n",
       "0     1.000000  1.000000  1.000000  1.000000  1.000000  1.000000  1.000000   \n",
       "1     0.997104  0.998384  0.986941  0.996197  1.020845  0.989402  1.002547   \n",
       "2     0.990911  1.011345  0.966659  0.998477  1.011729  1.001879  0.994025   \n",
       "3     1.000049  1.015869  0.959226  1.014046  1.012966  1.002562  1.018554   \n",
       "4     0.999374  1.016740  0.964135  1.017102  1.003862  1.016879  1.020766   \n",
       "...        ...       ...       ...       ...       ...       ...       ...   \n",
       "2516  8.056368  1.746027  5.327601  3.548153  5.509370  0.970244  2.298640   \n",
       "2517  8.163420  1.739351  5.265398  3.510268  5.374690  0.973271  2.270702   \n",
       "2518  8.238940  1.744001  5.306492  3.502256  5.452258  0.958615  2.237116   \n",
       "2519  8.350796  1.760424  5.320925  3.444200  5.516700  0.966725  2.231862   \n",
       "2520  8.274541  1.744306  5.349186  3.486374  5.486871  0.954925  2.207310   \n",
       "\n",
       "           7         8         9    ...       490       491       492  \\\n",
       "0     1.000000  1.000000  1.000000  ...  1.000000  1.000000  1.000000   \n",
       "1     0.997709  1.018499  1.011443  ...  0.983570  1.000660  0.986664   \n",
       "2     0.990704  1.030738  1.043002  ...  0.973311  1.018774  0.975824   \n",
       "3     0.986722  1.016128  1.045949  ...  0.971933  1.016218  0.987604   \n",
       "4     0.979784  1.030030  1.061573  ...  0.965839  1.025738  0.984319   \n",
       "...        ...       ...       ...  ...       ...       ...       ...   \n",
       "2516  3.901296  4.995185  4.796682  ...  3.784690  4.176176  3.526952   \n",
       "2517  3.954917  5.103736  4.852644  ...  3.766516  4.134186  3.512917   \n",
       "2518  3.919593  5.031091  4.815181  ...  3.834948  4.191997  3.469174   \n",
       "2519  3.878150  4.940058  4.822403  ...  3.854505  4.232479  3.434774   \n",
       "2520  3.812119  4.940507  4.799933  ...  3.843726  4.173204  3.466832   \n",
       "\n",
       "           493       494       495       496       497       498       499  \n",
       "0     1.000000  1.000000  1.000000  1.000000  1.000000  1.000000  1.000000  \n",
       "1     1.004220  1.005391  0.999396  0.996500  0.997000  1.006529  1.008694  \n",
       "2     1.012115  0.991442  1.002277  1.019472  0.987571  0.991363  1.023923  \n",
       "3     1.010197  0.988899  0.997030  1.026553  0.985503  0.981806  1.023986  \n",
       "4     1.012487  0.985702  0.994929  1.044509  1.005969  0.996943  1.023316  \n",
       "...        ...       ...       ...       ...       ...       ...       ...  \n",
       "2516  2.537569  5.033380  2.781987  2.531626  2.677550  2.284497  1.764548  \n",
       "2517  2.579836  5.010775  2.778323  2.536459  2.666723  2.305589  1.782808  \n",
       "2518  2.584533  5.006483  2.769358  2.532778  2.638699  2.336217  1.811458  \n",
       "2519  2.526523  4.987012  2.755801  2.518476  2.643564  2.325141  1.794118  \n",
       "2520  2.541257  5.029374  2.763828  2.538521  2.649818  2.278943  1.788246  \n",
       "\n",
       "[2521 rows x 500 columns]"
      ]
     },
     "execution_count": 39,
     "metadata": {},
     "output_type": "execute_result"
    }
   ],
   "source": [
    "# Run the Monte Carlo simulation to forecast 10 years cumulative returns\n",
    "mc_10_year.calc_cumulative_return()\n"
   ]
  },
  {
   "cell_type": "code",
   "execution_count": 40,
   "metadata": {},
   "outputs": [
    {
     "data": {
      "text/plain": [
       "<AxesSubplot:title={'center':'500 Simulations of Cumulative Portfolio Return Trajectories Over the Next 2520 Trading Days.'}>"
      ]
     },
     "execution_count": 40,
     "metadata": {},
     "output_type": "execute_result"
    },
    {
     "data": {
      "image/png": "[encoded data removed]",
      "text/plain": [
       "<Figure size 432x288 with 1 Axes>"
      ]
     },
     "metadata": {
      "needs_background": "light"
     },
     "output_type": "display_data"
    }
   ],
   "source": [
    "# Visualize the 10-year Monte Carlo simulation by creating an\n",
    "# overlay line plot\n",
    "mc_10_year.plot_simulation()\n"
   ]
  },
  {
   "cell_type": "code",
   "execution_count": 41,
   "metadata": {},
   "outputs": [
    {
     "data": {
      "text/plain": [
       "<AxesSubplot:title={'center':'Distribution of Final Cumuluative Returns Across All 500 Simulations'}, ylabel='Frequency'>"
      ]
     },
     "execution_count": 41,
     "metadata": {},
     "output_type": "execute_result"
    },
    {
     "data": {
      "image/png": "[encoded data removed]",
      "text/plain": [
       "<Figure size 432x288 with 1 Axes>"
      ]
     },
     "metadata": {
      "needs_background": "light"
     },
     "output_type": "display_data"
    }
   ],
   "source": [
    "# Visualize the probability distribution of the 10-year Monte Carlo simulation \n",
    "# by plotting a histogram\n",
    "mc_10_year.plot_distribution()\n"
   ]
  },
  {
   "cell_type": "code",
   "execution_count": 43,
   "metadata": {},
   "outputs": [
    {
     "name": "stdout",
     "output_type": "stream",
     "text": [
      "count           500.000000\n",
      "mean              3.906594\n",
      "std               2.043220\n",
      "min               0.743151\n",
      "25%               2.403389\n",
      "50%               3.436294\n",
      "75%               4.984257\n",
      "max              16.410515\n",
      "95% CI Lower      1.255904\n",
      "95% CI Upper      9.005921\n",
      "Name: 2520, dtype: float64\n"
     ]
    }
   ],
   "source": [
    "# Generate summary statistics from the 10-year Monte Carlo simulation results\n",
    "# Save the results as a variable\n",
    "mc_10_year_summary_statistics = mc_10_year.summarize_cumulative_return()\n",
    "\n",
    "\n",
    "# Review the 10-year Monte Carlo summary statistics\n",
    "print(mc_10_year_summary_statistics)"
   ]
  },
  {
   "cell_type": "markdown",
   "metadata": {},
   "source": [
    "### Answer the following questions:"
   ]
  },
  {
   "cell_type": "markdown",
   "metadata": {},
   "source": [
    "#### Question: Using the current value of only the stock and bond portion of the member's portfolio and the summary statistics that you generated from the new Monte Carlo simulation, what are the lower and upper bounds for the expected value of the portfolio (with the new weights) with a 95% confidence interval?"
   ]
  },
  {
   "cell_type": "code",
   "execution_count": 44,
   "metadata": {},
   "outputs": [
    {
     "name": "stdout",
     "output_type": "stream",
     "text": [
      "The current value of the stock and bond portion of the portfolio is $ 70786.50.\n"
     ]
    }
   ],
   "source": [
    "# Print the current balance of the stock and bond portion of the members portfolio\n",
    "print(f\"The current value of the stock and bond portion of the portfolio is ${total_stocks_bonds: .2f}.\")\n"
   ]
  },
  {
   "cell_type": "code",
   "execution_count": 45,
   "metadata": {},
   "outputs": [
    {
     "name": "stdout",
     "output_type": "stream",
     "text": [
      "With 95% statistical confidence, the range of outcomes for the stock and bond portion\n",
      "of the portfolio for a 10-year simulation is $ 88901.03 to $ 637497.64.\n"
     ]
    }
   ],
   "source": [
    "# Use the lower and upper `95%` confidence intervals to calculate the range of the possible outcomes for the current stock/bond portfolio\n",
    "ci_lower_ten_cumulative_return = mc_10_year_summary_statistics[8] * total_stocks_bonds\n",
    "ci_upper_ten_cumulative_return = mc_10_year_summary_statistics[9] * total_stocks_bonds\n",
    "\n",
    "# Print the result of your calculations\n",
    "print(\"With 95% statistical confidence, the range of outcomes for the stock and bond portion\")\n",
    "print(f\"of the portfolio for a 10-year simulation is ${ci_lower_ten_cumulative_return: .2f}\"\n",
    "      f\" to ${ci_upper_ten_cumulative_return: .2f}.\")\n"
   ]
  },
  {
   "cell_type": "markdown",
   "metadata": {},
   "source": [
    "#### Question: Will weighting the portfolio more heavily to stocks allow the credit union members to retire after only 10 years?"
   ]
  },
  {
   "cell_type": "raw",
   "metadata": {},
   "source": [
    "**Answer** With 95% statistical confidence, the highest potential outcome after 10 years of a stock/bond portfolio weighted 80% to stocks is about $637,000 which is a good return but not enough for a long retirement."
   ]
  },
  {
   "cell_type": "code",
   "execution_count": null,
   "metadata": {},
   "outputs": [],
   "source": []
  }
 ],
 "metadata": {
  "kernelspec": {
   "display_name": "dev",
   "language": "python",
   "name": "dev"
  },
  "language_info": {
   "codemirror_mode": {
    "name": "ipython",
    "version": 3
   },
   "file_extension": ".py",
   "mimetype": "text/x-python",
   "name": "python",
   "nbconvert_exporter": "python",
   "pygments_lexer": "ipython3",
   "version": "3.7.10"
  }
 },
 "nbformat": 4,
 "nbformat_minor": 4
}
