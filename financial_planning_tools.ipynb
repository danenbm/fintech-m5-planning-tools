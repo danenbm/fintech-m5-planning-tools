{
 "cells": [
  {
   "cell_type": "markdown",
   "metadata": {},
   "source": [
    "# Financial Planning with APIs and Simulations\n",
    "\n",
    "In this Challenge, you’ll create two financial analysis tools by using a single Jupyter notebook:\n",
    "\n",
    "Part 1: A financial planner for emergencies. The members will be able to use this tool to visualize their current savings. The members can then determine if they have enough reserves for an emergency fund.\n",
    "\n",
    "Part 2: A financial planner for retirement. This tool will forecast the performance of their retirement portfolio in 30 years. To do this, the tool will make an Alpaca API call via the Alpaca SDK to get historical price data for use in Monte Carlo simulations.\n",
    "\n",
    "You’ll use the information from the Monte Carlo simulation to answer questions about the portfolio in your Jupyter notebook.\n",
    "\n"
   ]
  },
  {
   "cell_type": "code",
   "execution_count": 1,
   "metadata": {},
   "outputs": [],
   "source": [
    "# Import the required libraries and dependencies\n",
    "import os\n",
    "import requests\n",
    "import json\n",
    "import pandas as pd\n",
    "from dotenv import load_dotenv\n",
    "import alpaca_trade_api as tradeapi\n",
    "from MCForecastTools import MCSimulation\n",
    "\n",
    "%matplotlib inline"
   ]
  },
  {
   "cell_type": "code",
   "execution_count": 2,
   "metadata": {},
   "outputs": [
    {
     "data": {
      "text/plain": [
       "True"
      ]
     },
     "execution_count": 2,
     "metadata": {},
     "output_type": "execute_result"
    }
   ],
   "source": [
    "# Load the environment variables from the .env file\n",
    "#by calling the load_dotenv function\n",
    "load_dotenv()"
   ]
  },
  {
   "cell_type": "markdown",
   "metadata": {},
   "source": [
    "## Part 1: Create a Financial Planner for Emergencies"
   ]
  },
  {
   "cell_type": "markdown",
   "metadata": {},
   "source": [
    "### Evaluate the Cryptocurrency Wallet by Using the Requests Library\n",
    "\n",
    "In this section, you’ll determine the current value of a member’s cryptocurrency wallet. You’ll collect the current prices for the Bitcoin and Ethereum cryptocurrencies by using the Python Requests library. For the prototype, you’ll assume that the member holds the 1.2 Bitcoins (BTC) and 5.3 Ethereum coins (ETH). To do all this, complete the following steps:\n",
    "\n",
    "1. Create a variable named `monthly_income`, and set its value to `12000`.\n",
    "\n",
    "2. Use the Requests library to get the current price (in US dollars) of Bitcoin (BTC) and Ethereum (ETH) by using the API endpoints that the starter code supplies.\n",
    "\n",
    "3. Navigate the JSON response object to access the current price of each coin, and store each in a variable.\n",
    "\n",
    "    > **Hint** Note the specific identifier for each cryptocurrency in the API JSON response. The Bitcoin identifier is `1`, and the Ethereum identifier is `1027`.\n",
    "\n",
    "4. Calculate the value, in US dollars, of the current amount of each cryptocurrency and of the entire cryptocurrency wallet.\n",
    "\n"
   ]
  },
  {
   "cell_type": "code",
   "execution_count": 3,
   "metadata": {},
   "outputs": [],
   "source": [
    "# The current number of coins for each cryptocurrency asset held in the portfolio.\n",
    "btc_coins = 1.2\n",
    "eth_coins = 5.3"
   ]
  },
  {
   "cell_type": "markdown",
   "metadata": {},
   "source": [
    "#### Step 1: Create a variable named `monthly_income`, and set its value to `12000`."
   ]
  },
  {
   "cell_type": "code",
   "execution_count": 4,
   "metadata": {},
   "outputs": [],
   "source": [
    "# The monthly amount for the member's household income\n",
    "monthly_income = 12000\n"
   ]
  },
  {
   "cell_type": "markdown",
   "metadata": {},
   "source": [
    "#### Review the endpoint URLs for the API calls to Free Crypto API in order to get the current pricing information for both BTC and ETH."
   ]
  },
  {
   "cell_type": "code",
   "execution_count": 5,
   "metadata": {},
   "outputs": [],
   "source": [
    "# The Free Crypto API Call endpoint URLs for the held cryptocurrency assets\n",
    "btc_url = \"https://api.alternative.me/v2/ticker/Bitcoin/?convert=USD\"\n",
    "eth_url = \"https://api.alternative.me/v2/ticker/Ethereum/?convert=USD\""
   ]
  },
  {
   "cell_type": "markdown",
   "metadata": {},
   "source": [
    "#### Step 2. Use the Requests library to get the current price (in US dollars) of Bitcoin (BTC) and Ethereum (ETH) by using the API endpoints that the starter code supplied."
   ]
  },
  {
   "cell_type": "code",
   "execution_count": 6,
   "metadata": {},
   "outputs": [
    {
     "name": "stdout",
     "output_type": "stream",
     "text": [
      "{\n",
      "    \"data\": {\n",
      "        \"1\": {\n",
      "            \"circulating_supply\": 18748256,\n",
      "            \"id\": 1,\n",
      "            \"last_updated\": 1625467164,\n",
      "            \"max_supply\": 21000000,\n",
      "            \"name\": \"Bitcoin\",\n",
      "            \"quotes\": {\n",
      "                \"USD\": {\n",
      "                    \"market_cap\": 645729203611,\n",
      "                    \"percent_change_1h\": 0.618149069879059,\n",
      "                    \"percent_change_24h\": -2.64701525248594,\n",
      "                    \"percent_change_7d\": -0.629906724106044,\n",
      "                    \"percentage_change_1h\": 0.618149069879059,\n",
      "                    \"percentage_change_24h\": -2.64701525248594,\n",
      "                    \"percentage_change_7d\": -0.629906724106044,\n",
      "                    \"price\": 34389.0,\n",
      "                    \"volume_24h\": 24409192571\n",
      "                }\n",
      "            },\n",
      "            \"rank\": 1,\n",
      "            \"symbol\": \"BTC\",\n",
      "            \"total_supply\": 18748256,\n",
      "            \"website_slug\": \"bitcoin\"\n",
      "        }\n",
      "    },\n",
      "    \"metadata\": {\n",
      "        \"error\": null,\n",
      "        \"num_cryptocurrencies\": 1278,\n",
      "        \"timestamp\": 1625467164\n",
      "    }\n",
      "}\n"
     ]
    }
   ],
   "source": [
    "# Using the Python requests library, make an API call to access the current price of BTC\n",
    "btc_response = requests.get(btc_url).json()\n",
    "\n",
    "# Use the json.dumps function to review the response data from the API call\n",
    "# Use the indent and sort_keys parameters to make the response object readable\n",
    "print(json.dumps(btc_response, indent=4, sort_keys=True))\n"
   ]
  },
  {
   "cell_type": "code",
   "execution_count": 7,
   "metadata": {},
   "outputs": [
    {
     "name": "stdout",
     "output_type": "stream",
     "text": [
      "{\n",
      "    \"data\": {\n",
      "        \"1027\": {\n",
      "            \"circulating_supply\": 116565204,\n",
      "            \"id\": 1027,\n",
      "            \"last_updated\": 1625467159,\n",
      "            \"max_supply\": 0,\n",
      "            \"name\": \"Ethereum\",\n",
      "            \"quotes\": {\n",
      "                \"USD\": {\n",
      "                    \"market_cap\": 267211432472,\n",
      "                    \"percent_change_1h\": 1.21025258928446,\n",
      "                    \"percent_change_24h\": -0.10042535150142,\n",
      "                    \"percent_change_7d\": 15.8924075098604,\n",
      "                    \"percentage_change_1h\": 1.21025258928446,\n",
      "                    \"percentage_change_24h\": -0.10042535150142,\n",
      "                    \"percentage_change_7d\": 15.8924075098604,\n",
      "                    \"price\": 2287.63,\n",
      "                    \"volume_24h\": 22270491386\n",
      "                }\n",
      "            },\n",
      "            \"rank\": 2,\n",
      "            \"symbol\": \"ETH\",\n",
      "            \"total_supply\": 116565204,\n",
      "            \"website_slug\": \"ethereum\"\n",
      "        }\n",
      "    },\n",
      "    \"metadata\": {\n",
      "        \"error\": null,\n",
      "        \"num_cryptocurrencies\": 1278,\n",
      "        \"timestamp\": 1625467159\n",
      "    }\n",
      "}\n"
     ]
    }
   ],
   "source": [
    "# Using the Python requests library, make an API call to access the current price ETH\n",
    "eth_response = requests.get(eth_url).json()\n",
    "\n",
    "# Use the json.dumps function to review the response data from the API call\n",
    "# Use the indent and sort_keys parameters to make the response object readable\n",
    "print(json.dumps(eth_response, indent=4, sort_keys=True))\n"
   ]
  },
  {
   "cell_type": "markdown",
   "metadata": {},
   "source": [
    "#### Step 3: Navigate the JSON response object to access the current price of each coin, and store each in a variable."
   ]
  },
  {
   "cell_type": "code",
   "execution_count": 8,
   "metadata": {},
   "outputs": [
    {
     "name": "stdout",
     "output_type": "stream",
     "text": [
      "The current BTC price is $ 34389.00.\n"
     ]
    }
   ],
   "source": [
    "# Navigate the BTC response object to access the current price of BTC\n",
    "btc_price = btc_response[\"data\"][\"1\"][\"quotes\"][\"USD\"][\"price\"]\n",
    "\n",
    "# Print the current price of BTC\n",
    "print(f\"The current BTC price is ${btc_price: .2f}.\")\n"
   ]
  },
  {
   "cell_type": "code",
   "execution_count": 9,
   "metadata": {},
   "outputs": [
    {
     "name": "stdout",
     "output_type": "stream",
     "text": [
      "The current ETH price is $ 2287.63.\n"
     ]
    }
   ],
   "source": [
    "# Navigate the BTC response object to access the current price of ETH\n",
    "eth_price = eth_response[\"data\"][\"1027\"][\"quotes\"][\"USD\"][\"price\"]\n",
    "\n",
    "# Print the current price of ETH\n",
    "print(f\"The current ETH price is ${eth_price: .2f}.\")\n"
   ]
  },
  {
   "cell_type": "markdown",
   "metadata": {},
   "source": [
    "### Step 4: Calculate the value, in US dollars, of the current amount of each cryptocurrency and of the entire cryptocurrency wallet."
   ]
  },
  {
   "cell_type": "code",
   "execution_count": 10,
   "metadata": {},
   "outputs": [
    {
     "name": "stdout",
     "output_type": "stream",
     "text": [
      "The current value of the BTC holding is $ 41266.80.\n"
     ]
    }
   ],
   "source": [
    "# Compute the current value of the BTC holding \n",
    "btc_value = btc_coins * btc_price\n",
    "\n",
    "# Print current value of your holding in BTC\n",
    "print(f\"The current value of the BTC holding is ${btc_value: .2f}.\")\n"
   ]
  },
  {
   "cell_type": "code",
   "execution_count": 11,
   "metadata": {},
   "outputs": [
    {
     "name": "stdout",
     "output_type": "stream",
     "text": [
      "The current value of the ETH holding is $ 12124.44.\n"
     ]
    }
   ],
   "source": [
    "# Compute the current value of the ETH holding \n",
    "eth_value = eth_coins * eth_price\n",
    "\n",
    "# Print current value of your holding in ETH\n",
    "print(f\"The current value of the ETH holding is ${eth_value: .2f}.\")\n"
   ]
  },
  {
   "cell_type": "code",
   "execution_count": 12,
   "metadata": {},
   "outputs": [
    {
     "name": "stdout",
     "output_type": "stream",
     "text": [
      "The current cryptocurrency wallet balance is $ 53391.24.\n"
     ]
    }
   ],
   "source": [
    "# Compute the total value of the cryptocurrency wallet\n",
    "# Add the value of the BTC holding to the value of the ETH holding\n",
    "total_crypto_wallet = btc_value + eth_value\n",
    "\n",
    "# Print current cryptocurrency wallet balance\n",
    "print(f\"The current cryptocurrency wallet balance is ${total_crypto_wallet: .2f}.\")\n"
   ]
  },
  {
   "cell_type": "markdown",
   "metadata": {},
   "source": [
    "### Evaluate the Stock and Bond Holdings by Using the Alpaca SDK\n",
    "\n",
    "In this section, you’ll determine the current value of a member’s stock and bond holdings. You’ll make an API call to Alpaca via the Alpaca SDK to get the current closing prices of the SPDR S&P 500 ETF Trust (ticker: SPY) and of the iShares Core US Aggregate Bond ETF (ticker: AGG). For the prototype, assume that the member holds 110 shares of SPY, which represents the stock portion of their portfolio, and 200 shares of AGG, which represents the bond portion. To do all this, complete the following steps:\n",
    "\n",
    "1. In the `Starter_Code` folder, create an environment file (`.env`) to store the values of your Alpaca API key and Alpaca secret key.\n",
    "\n",
    "2. Set the variables for the Alpaca API and secret keys. Using the Alpaca SDK, create the Alpaca `tradeapi.REST` object. In this object, include the parameters for the Alpaca API key, the secret key, and the version number.\n",
    "\n",
    "3. Set the following parameters for the Alpaca API call:\n",
    "\n",
    "    - `tickers`: Use the tickers for the member’s stock and bond holdings.\n",
    "\n",
    "    - `timeframe`: Use a time frame of one day.\n",
    "\n",
    "    - `start_date` and `end_date`: Use the same date for these parameters, and format them with the date of the previous weekday (or `2020-08-07`). This is because you want the one closing price for the most-recent trading day.\n",
    "\n",
    "4. Get the current closing prices for `SPY` and `AGG` by using the Alpaca `get_barset` function. Format the response as a Pandas DataFrame by including the `df` property at the end of the `get_barset` function.\n",
    "\n",
    "5. Navigating the Alpaca response DataFrame, select the `SPY` and `AGG` closing prices, and store them as variables.\n",
    "\n",
    "6. Calculate the value, in US dollars, of the current amount of shares in each of the stock and bond portions of the portfolio, and print the results.\n"
   ]
  },
  {
   "cell_type": "markdown",
   "metadata": {},
   "source": [
    "#### Review the total number of shares held in both (SPY) and (AGG)."
   ]
  },
  {
   "cell_type": "code",
   "execution_count": 13,
   "metadata": {},
   "outputs": [],
   "source": [
    "# Current amount of shares held in both the stock (SPY) and bond (AGG) portion of the portfolio.\n",
    "spy_shares = 110\n",
    "agg_shares = 200\n"
   ]
  },
  {
   "cell_type": "markdown",
   "metadata": {},
   "source": [
    "#### Step 1: In the `Starter_Code` folder, create an environment file (`.env`) to store the values of your Alpaca API key and Alpaca secret key."
   ]
  },
  {
   "cell_type": "markdown",
   "metadata": {},
   "source": [
    "#### Step 2: Set the variables for the Alpaca API and secret keys. Using the Alpaca SDK, create the Alpaca `tradeapi.REST` object. In this object, include the parameters for the Alpaca API key, the secret key, and the version number."
   ]
  },
  {
   "cell_type": "code",
   "execution_count": 14,
   "metadata": {},
   "outputs": [],
   "source": [
    "# Set the variables for the Alpaca API and secret keys\n",
    "alpaca_api_key = os.getenv(\"ALPACA_API_KEY\")\n",
    "alpaca_secret_key = os.getenv(\"ALPACA_SECRET_KEY\")\n",
    "\n",
    "# Create the Alpaca tradeapi.REST object\n",
    "alpaca = tradeapi.REST(alpaca_api_key, alpaca_secret_key, api_version=\"v2\")\n"
   ]
  },
  {
   "cell_type": "markdown",
   "metadata": {},
   "source": [
    "#### Step 3: Set the following parameters for the Alpaca API call:\n",
    "\n",
    "- `tickers`: Use the tickers for the member’s stock and bond holdings.\n",
    "\n",
    "- `timeframe`: Use a time frame of one day.\n",
    "\n",
    "- `start_date` and `end_date`: Use the same date for these parameters, and format them with the date of the previous weekday (or `2020-08-07`). This is because you want the one closing price for the most-recent trading day.\n"
   ]
  },
  {
   "cell_type": "code",
   "execution_count": 15,
   "metadata": {},
   "outputs": [],
   "source": [
    "# Set the tickers for both the bond and stock portion of the portfolio\n",
    "tickers = [\"SPY\", \"AGG\"]\n",
    "\n",
    "# Set timeframe to 1D \n",
    "timeframe = \"1D\"\n",
    "\n",
    "# Format current date as ISO format\n",
    "# Set both the start and end date at the date of your prior weekday \n",
    "# This will give you the closing price of the previous trading day\n",
    "# Alternatively you can use a start and end date of 2020-08-07\n",
    "start_date = pd.Timestamp(\"2021-07-02\", tz=\"America/New_York\").isoformat()\n",
    "end_date = pd.Timestamp(\"2021-07-02\", tz=\"America/New_York\").isoformat()\n"
   ]
  },
  {
   "cell_type": "markdown",
   "metadata": {},
   "source": [
    "#### Step 4: Get the current closing prices for `SPY` and `AGG` by using the Alpaca `get_barset` function. Format the response as a Pandas DataFrame by including the `df` property at the end of the `get_barset` function."
   ]
  },
  {
   "cell_type": "code",
   "execution_count": 16,
   "metadata": {},
   "outputs": [
    {
     "data": {
      "text/html": [
       "<div>\n",
       "<style scoped>\n",
       "    .dataframe tbody tr th:only-of-type {\n",
       "        vertical-align: middle;\n",
       "    }\n",
       "\n",
       "    .dataframe tbody tr th {\n",
       "        vertical-align: top;\n",
       "    }\n",
       "\n",
       "    .dataframe thead tr th {\n",
       "        text-align: left;\n",
       "    }\n",
       "\n",
       "    .dataframe thead tr:last-of-type th {\n",
       "        text-align: right;\n",
       "    }\n",
       "</style>\n",
       "<table border=\"1\" class=\"dataframe\">\n",
       "  <thead>\n",
       "    <tr>\n",
       "      <th></th>\n",
       "      <th colspan=\"5\" halign=\"left\">AGG</th>\n",
       "      <th colspan=\"5\" halign=\"left\">SPY</th>\n",
       "    </tr>\n",
       "    <tr>\n",
       "      <th></th>\n",
       "      <th>open</th>\n",
       "      <th>high</th>\n",
       "      <th>low</th>\n",
       "      <th>close</th>\n",
       "      <th>volume</th>\n",
       "      <th>open</th>\n",
       "      <th>high</th>\n",
       "      <th>low</th>\n",
       "      <th>close</th>\n",
       "      <th>volume</th>\n",
       "    </tr>\n",
       "    <tr>\n",
       "      <th>time</th>\n",
       "      <th></th>\n",
       "      <th></th>\n",
       "      <th></th>\n",
       "      <th></th>\n",
       "      <th></th>\n",
       "      <th></th>\n",
       "      <th></th>\n",
       "      <th></th>\n",
       "      <th></th>\n",
       "      <th></th>\n",
       "    </tr>\n",
       "  </thead>\n",
       "  <tbody>\n",
       "    <tr>\n",
       "      <th>2021-07-02 00:00:00-04:00</th>\n",
       "      <td>115.23</td>\n",
       "      <td>115.37</td>\n",
       "      <td>115.17</td>\n",
       "      <td>115.37</td>\n",
       "      <td>4219494</td>\n",
       "      <td>431.67</td>\n",
       "      <td>434.1</td>\n",
       "      <td>430.5218</td>\n",
       "      <td>433.75</td>\n",
       "      <td>46557070</td>\n",
       "    </tr>\n",
       "  </tbody>\n",
       "</table>\n",
       "</div>"
      ],
      "text/plain": [
       "                              AGG                                      SPY  \\\n",
       "                             open    high     low   close   volume    open   \n",
       "time                                                                         \n",
       "2021-07-02 00:00:00-04:00  115.23  115.37  115.17  115.37  4219494  431.67   \n",
       "\n",
       "                                                              \n",
       "                            high       low   close    volume  \n",
       "time                                                          \n",
       "2021-07-02 00:00:00-04:00  434.1  430.5218  433.75  46557070  "
      ]
     },
     "execution_count": 16,
     "metadata": {},
     "output_type": "execute_result"
    }
   ],
   "source": [
    "# Use the Alpaca get_barset function to get current closing prices the portfolio\n",
    "# Be sure to set the `df` property after the function to format the response object as a DataFrame\n",
    "df_portfolio = alpaca.get_barset(tickers, timeframe, start=start_date, end=end_date).df\n",
    "\n",
    "# Review the first 5 rows of the Alpaca DataFrame\n",
    "df_portfolio.head()\n"
   ]
  },
  {
   "cell_type": "markdown",
   "metadata": {},
   "source": [
    "#### Step 5: Navigating the Alpaca response DataFrame, select the `SPY` and `AGG` closing prices, and store them as variables."
   ]
  },
  {
   "cell_type": "code",
   "execution_count": 17,
   "metadata": {},
   "outputs": [
    {
     "name": "stdout",
     "output_type": "stream",
     "text": [
      "The AGG closing price is: $ 115.37.\n"
     ]
    }
   ],
   "source": [
    "# Access the closing price for AGG from the Alpaca DataFrame\n",
    "# Converting the value to a floating point number\n",
    "agg_close_price = df_portfolio[\"AGG\"][\"close\"][0]\n",
    "\n",
    "# Print the AGG closing price\n",
    "print(f\"The AGG closing price is: ${agg_close_price: .2f}.\")\n"
   ]
  },
  {
   "cell_type": "code",
   "execution_count": 18,
   "metadata": {},
   "outputs": [
    {
     "name": "stdout",
     "output_type": "stream",
     "text": [
      "The SPY closing price is: $ 433.75.\n"
     ]
    }
   ],
   "source": [
    "# Access the closing price for SPY from the Alpaca DataFrame\n",
    "# Converting the value to a floating point number\n",
    "spy_close_price = df_portfolio[\"SPY\"][\"close\"][0]\n",
    "\n",
    "# Print the SPY closing price\n",
    "print(f\"The SPY closing price is: ${spy_close_price: .2f}.\")\n"
   ]
  },
  {
   "cell_type": "markdown",
   "metadata": {},
   "source": [
    "#### Step 6: Calculate the value, in US dollars, of the current amount of shares in each of the stock and bond portions of the portfolio, and print the results."
   ]
  },
  {
   "cell_type": "code",
   "execution_count": 19,
   "metadata": {},
   "outputs": [
    {
     "name": "stdout",
     "output_type": "stream",
     "text": [
      "The current value of the bond portfolio is $ 23074.00.\n"
     ]
    }
   ],
   "source": [
    "# Calculate the current value of the bond portion of the portfolio\n",
    "agg_value = agg_shares * agg_close_price\n",
    "\n",
    "# Print the current value of the bond portfolio\n",
    "print(f\"The current value of the bond portfolio is ${agg_value: .2f}.\")\n"
   ]
  },
  {
   "cell_type": "code",
   "execution_count": 20,
   "metadata": {},
   "outputs": [
    {
     "name": "stdout",
     "output_type": "stream",
     "text": [
      "The current value of the stock portfolio is $ 47712.50.\n"
     ]
    }
   ],
   "source": [
    "# Calculate the current value of the stock portion of the portfolio\n",
    "spy_value = spy_shares * spy_close_price\n",
    "\n",
    "# Print the current value of the stock portfolio\n",
    "print(f\"The current value of the stock portfolio is ${spy_value: .2f}.\")\n"
   ]
  },
  {
   "cell_type": "code",
   "execution_count": 21,
   "metadata": {},
   "outputs": [
    {
     "name": "stdout",
     "output_type": "stream",
     "text": [
      "The current value of the stock and bond portion of the portfolio is $ 70786.50.\n"
     ]
    }
   ],
   "source": [
    "# Calculate the total value of the stock and bond portion of the portfolio\n",
    "total_stocks_bonds = spy_value + agg_value\n",
    "\n",
    "# Print the current balance of the stock and bond portion of the portfolio\n",
    "print(f\"The current value of the stock and bond portion of the portfolio is ${total_stocks_bonds: .2f}.\")\n"
   ]
  },
  {
   "cell_type": "code",
   "execution_count": 22,
   "metadata": {},
   "outputs": [
    {
     "name": "stdout",
     "output_type": "stream",
     "text": [
      "The total current value of the portfolio is $ 124177.74.\n"
     ]
    }
   ],
   "source": [
    "# Calculate the total value of the member's entire savings portfolio\n",
    "# Add the value of the cryptocurrency walled to the value of the total stocks and bonds\n",
    "total_portfolio = total_crypto_wallet + total_stocks_bonds\n",
    "\n",
    "# Print total portfolio balance\n",
    "print(f\"The total current value of the portfolio is ${total_portfolio: .2f}.\")\n"
   ]
  },
  {
   "cell_type": "markdown",
   "metadata": {},
   "source": [
    "### Evaluate the Emergency Fund\n",
    "\n",
    "In this section, you’ll use the valuations for the cryptocurrency wallet and for the stock and bond portions of the portfolio to determine if the credit union member has enough savings to build an emergency fund into their financial plan. To do this, complete the following steps:\n",
    "\n",
    "1. Create a Python list named `savings_data` that has two elements. The first element contains the total value of the cryptocurrency wallet. The second element contains the total value of the stock and bond portions of the portfolio.\n",
    "\n",
    "2. Use the `savings_data` list to create a Pandas DataFrame named `savings_df`, and then display this DataFrame. The function to create the DataFrame should take the following three parameters:\n",
    "\n",
    "    - `savings_data`: Use the list that you just created.\n",
    "\n",
    "    - `columns`: Set this parameter equal to a Python list with a single value called `amount`.\n",
    "\n",
    "    - `index`: Set this parameter equal to a Python list with the values of `crypto` and `stock/bond`.\n",
    "\n",
    "3. Use the `savings_df` DataFrame to plot a pie chart that visualizes the composition of the member’s portfolio. The y-axis of the pie chart uses `amount`. Be sure to add a title.\n",
    "\n",
    "4. Using Python, determine if the current portfolio has enough to create an emergency fund as part of the member’s financial plan. Ideally, an emergency fund should equal to three times the member’s monthly income. To do this, implement the following steps:\n",
    "\n",
    "    1. Create a variable named `emergency_fund_value`, and set it equal to three times the value of the member’s `monthly_income` of $12000. (You set this earlier in Part 1).\n",
    "\n",
    "    2. Create a series of three if statements to determine if the member’s total portfolio is large enough to fund the emergency portfolio:\n",
    "\n",
    "        1. If the total portfolio value is greater than the emergency fund value, display a message congratulating the member for having enough money in this fund.\n",
    "\n",
    "        2. Else if the total portfolio value is equal to the emergency fund value, display a message congratulating the member on reaching this important financial goal.\n",
    "\n",
    "        3. Else the total portfolio is less than the emergency fund value, so display a message showing how many dollars away the member is from reaching the goal. (Subtract the total portfolio value from the emergency fund value.)\n"
   ]
  },
  {
   "cell_type": "markdown",
   "metadata": {},
   "source": [
    "#### Step 1: Create a Python list named `savings_data` that has two elements. The first element contains the total value of the cryptocurrency wallet. The second element contains the total value of the stock and bond portions of the portfolio."
   ]
  },
  {
   "cell_type": "code",
   "execution_count": 23,
   "metadata": {},
   "outputs": [
    {
     "name": "stdout",
     "output_type": "stream",
     "text": [
      "Savings data: [53391.238999999994, 70786.5]\n"
     ]
    }
   ],
   "source": [
    "# Consolidate financial assets data into a Python list\n",
    "savings_data = [total_crypto_wallet, total_stocks_bonds]\n",
    "\n",
    "# Review the Python list savings_data\n",
    "print(f\"Savings data: {savings_data}\")\n",
    "    "
   ]
  },
  {
   "cell_type": "markdown",
   "metadata": {},
   "source": [
    "#### Step 2: Use the `savings_data` list to create a Pandas DataFrame named `savings_df`, and then display this DataFrame. The function to create the DataFrame should take the following three parameters:\n",
    "\n",
    "- `savings_data`: Use the list that you just created.\n",
    "\n",
    "- `columns`: Set this parameter equal to a Python list with a single value called `amount`.\n",
    "\n",
    "- `index`: Set this parameter equal to a Python list with the values of `crypto` and `stock/bond`.\n"
   ]
  },
  {
   "cell_type": "code",
   "execution_count": 24,
   "metadata": {},
   "outputs": [
    {
     "data": {
      "text/html": [
       "<div>\n",
       "<style scoped>\n",
       "    .dataframe tbody tr th:only-of-type {\n",
       "        vertical-align: middle;\n",
       "    }\n",
       "\n",
       "    .dataframe tbody tr th {\n",
       "        vertical-align: top;\n",
       "    }\n",
       "\n",
       "    .dataframe thead th {\n",
       "        text-align: right;\n",
       "    }\n",
       "</style>\n",
       "<table border=\"1\" class=\"dataframe\">\n",
       "  <thead>\n",
       "    <tr style=\"text-align: right;\">\n",
       "      <th></th>\n",
       "      <th>amount</th>\n",
       "    </tr>\n",
       "  </thead>\n",
       "  <tbody>\n",
       "    <tr>\n",
       "      <th>crypto</th>\n",
       "      <td>53391.239</td>\n",
       "    </tr>\n",
       "    <tr>\n",
       "      <th>stock/bond</th>\n",
       "      <td>70786.500</td>\n",
       "    </tr>\n",
       "  </tbody>\n",
       "</table>\n",
       "</div>"
      ],
      "text/plain": [
       "               amount\n",
       "crypto      53391.239\n",
       "stock/bond  70786.500"
      ]
     },
     "execution_count": 24,
     "metadata": {},
     "output_type": "execute_result"
    }
   ],
   "source": [
    "# Create a Pandas DataFrame called savings_df \n",
    "savings_df = pd.DataFrame(savings_data, columns=[\"amount\"], index=[\"crypto\", \"stock/bond\"])\n",
    "\n",
    "# Display the savings_df DataFrame\n",
    "savings_df\n"
   ]
  },
  {
   "cell_type": "markdown",
   "metadata": {},
   "source": [
    "#### Step 3: Use the `savings_df` DataFrame to plot a pie chart that visualizes the composition of the member’s portfolio. The y-axis of the pie chart uses `amount`. Be sure to add a title."
   ]
  },
  {
   "cell_type": "code",
   "execution_count": 25,
   "metadata": {},
   "outputs": [
    {
     "data": {
      "text/plain": [
       "<AxesSubplot:title={'center':'Member Portfolio Composition'}, ylabel='amount'>"
      ]
     },
     "execution_count": 25,
     "metadata": {},
     "output_type": "execute_result"
    },
    {
     "data": {
      "image/png": "[encoded data removed]",
      "text/plain": [
       "<Figure size 432x288 with 1 Axes>"
      ]
     },
     "metadata": {},
     "output_type": "display_data"
    }
   ],
   "source": [
    "# Plot the total value of the member's portfolio (crypto and stock/bond) in a pie chart\n",
    "savings_df.plot.pie(y='amount', title=\"Member Portfolio Composition\")\n"
   ]
  },
  {
   "cell_type": "markdown",
   "metadata": {},
   "source": [
    "#### Step 4: Using Python, determine if the current portfolio has enough to create an emergency fund as part of the member’s financial plan. Ideally, an emergency fund should equal to three times the member’s monthly income. To do this, implement the following steps:\n",
    "\n",
    "Step 1. Create a variable named `emergency_fund_value`, and set it equal to three times the value of the member’s `monthly_income` of 12000. (You set this earlier in Part 1).\n",
    "\n",
    "Step 2. Create a series of three if statements to determine if the member’s total portfolio is large enough to fund the emergency portfolio:\n",
    "\n",
    "* If the total portfolio value is greater than the emergency fund value, display a message congratulating the member for having enough money in this fund.\n",
    "\n",
    "* Else if the total portfolio value is equal to the emergency fund value, display a message congratulating the member on reaching this important financial goal.\n",
    "\n",
    "* Else the total portfolio is less than the emergency fund value, so display a message showing how many dollars away the member is from reaching the goal. (Subtract the total portfolio value from the emergency fund value.)\n"
   ]
  },
  {
   "cell_type": "markdown",
   "metadata": {},
   "source": [
    "##### Step 4-1: Create a variable named `emergency_fund_value`, and set it equal to three times the value of the member’s `monthly_income` of 12000. (You set this earlier in Part 1)."
   ]
  },
  {
   "cell_type": "code",
   "execution_count": 26,
   "metadata": {},
   "outputs": [],
   "source": [
    "# Create a variable named emergency_fund_value\n",
    "emergency_fund_value = 3 * monthly_income\n"
   ]
  },
  {
   "cell_type": "markdown",
   "metadata": {},
   "source": [
    "##### Step 4-2: Create a series of three if statements to determine if the member’s total portfolio is large enough to fund the emergency portfolio:\n",
    "\n",
    "* If the total portfolio value is greater than the emergency fund value, display a message congratulating the member for having enough money in this fund.\n",
    "\n",
    "* Else if the total portfolio value is equal to the emergency fund value, display a message congratulating the member on reaching this important financial goal.\n",
    "\n",
    "* Else the total portfolio is less than the emergency fund value, so display a message showing how many dollars away the member is from reaching the goal. (Subtract the total portfolio value from the emergency fund value.)"
   ]
  },
  {
   "cell_type": "code",
   "execution_count": 27,
   "metadata": {},
   "outputs": [
    {
     "name": "stdout",
     "output_type": "stream",
     "text": [
      "Congratulations!  You have more than enough saved to fund an emergency fund portfolio\n"
     ]
    }
   ],
   "source": [
    "# Evaluate the possibility of creating an emergency fund with 3 conditions:\n",
    "if (total_portfolio > emergency_fund_value):\n",
    "    print(\"Congratulations!  You have more than enough saved to fund an emergency fund portfolio\")\n",
    "elif (total_portfolio == emergency_fund_value):\n",
    "    print(\"Congratulations! You have reached the specific recommended amount required for an emergency fund\")\n",
    "else:\n",
    "    print(f\"${(emergency_fund_value - total_portfolio): .2f} more is needed before reaching the amount required for an emergency fund\")\n"
   ]
  },
  {
   "cell_type": "markdown",
   "metadata": {},
   "source": [
    "## Part 2: Create a Financial Planner for Retirement"
   ]
  },
  {
   "cell_type": "markdown",
   "metadata": {},
   "source": [
    "### Create the Monte Carlo Simulation\n",
    "\n",
    "In this section, you’ll use the MCForecastTools library to create a Monte Carlo simulation for the member’s savings portfolio. To do this, complete the following steps:\n",
    "\n",
    "1. Make an API call via the Alpaca SDK to get 10 years of historical closing prices for a traditional 60/40 portfolio split: 60% stocks (SPY) and 40% bonds (AGG).\n",
    "\n",
    "2. Run a Monte Carlo simulation of 500 samples and 30 years for the 60/40 portfolio, and then plot the results.The following image shows the overlay line plot resulting from a simulation with these characteristics. However, because a random number generator is used to run each live Monte Carlo simulation, your image will differ slightly from this exact image:\n",
    "\n",
    "![A screenshot depicts the resulting plot.](Images/5-4-monte-carlo-line-plot.png)\n",
    "\n",
    "3. Plot the probability distribution of the Monte Carlo simulation. Plot the probability distribution of the Monte Carlo simulation. The following image shows the histogram plot resulting from a simulation with these characteristics. However, because a random number generator is used to run each live Monte Carlo simulation, your image will differ slightly from this exact image:\n",
    "\n",
    "![A screenshot depicts the histogram plot.](Images/5-4-monte-carlo-histogram.png)\n",
    "\n",
    "4. Generate the summary statistics for the Monte Carlo simulation.\n",
    "\n"
   ]
  },
  {
   "cell_type": "markdown",
   "metadata": {},
   "source": [
    "#### Step 1: Make an API call via the Alpaca SDK to get 10 years of historical closing prices for a traditional 60/40 portfolio split: 60% stocks (SPY) and 40% bonds (AGG)."
   ]
  },
  {
   "cell_type": "code",
   "execution_count": 28,
   "metadata": {},
   "outputs": [],
   "source": [
    "# Set start and end dates of 10 years back from your current date\n",
    "start_date = pd.Timestamp(\"2011-07-02\", tz=\"America/New_York\").isoformat()\n",
    "end_date = pd.Timestamp(\"2021-07-02\", tz=\"America/New_York\").isoformat()\n"
   ]
  },
  {
   "cell_type": "code",
   "execution_count": 34,
   "metadata": {},
   "outputs": [
    {
     "data": {
      "text/html": [
       "<div>\n",
       "<style scoped>\n",
       "    .dataframe tbody tr th:only-of-type {\n",
       "        vertical-align: middle;\n",
       "    }\n",
       "\n",
       "    .dataframe tbody tr th {\n",
       "        vertical-align: top;\n",
       "    }\n",
       "\n",
       "    .dataframe thead tr th {\n",
       "        text-align: left;\n",
       "    }\n",
       "\n",
       "    .dataframe thead tr:last-of-type th {\n",
       "        text-align: right;\n",
       "    }\n",
       "</style>\n",
       "<table border=\"1\" class=\"dataframe\">\n",
       "  <thead>\n",
       "    <tr>\n",
       "      <th></th>\n",
       "      <th colspan=\"5\" halign=\"left\">AGG</th>\n",
       "      <th colspan=\"5\" halign=\"left\">SPY</th>\n",
       "    </tr>\n",
       "    <tr>\n",
       "      <th></th>\n",
       "      <th>open</th>\n",
       "      <th>high</th>\n",
       "      <th>low</th>\n",
       "      <th>close</th>\n",
       "      <th>volume</th>\n",
       "      <th>open</th>\n",
       "      <th>high</th>\n",
       "      <th>low</th>\n",
       "      <th>close</th>\n",
       "      <th>volume</th>\n",
       "    </tr>\n",
       "    <tr>\n",
       "      <th>time</th>\n",
       "      <th></th>\n",
       "      <th></th>\n",
       "      <th></th>\n",
       "      <th></th>\n",
       "      <th></th>\n",
       "      <th></th>\n",
       "      <th></th>\n",
       "      <th></th>\n",
       "      <th></th>\n",
       "      <th></th>\n",
       "    </tr>\n",
       "  </thead>\n",
       "  <tbody>\n",
       "    <tr>\n",
       "      <th>2017-07-13 00:00:00-04:00</th>\n",
       "      <td>109.29</td>\n",
       "      <td>109.3118</td>\n",
       "      <td>109.13</td>\n",
       "      <td>109.24</td>\n",
       "      <td>1432660.0</td>\n",
       "      <td>NaN</td>\n",
       "      <td>NaN</td>\n",
       "      <td>NaN</td>\n",
       "      <td>NaN</td>\n",
       "      <td>NaN</td>\n",
       "    </tr>\n",
       "    <tr>\n",
       "      <th>2017-07-14 00:00:00-04:00</th>\n",
       "      <td>109.54</td>\n",
       "      <td>109.5600</td>\n",
       "      <td>109.29</td>\n",
       "      <td>109.36</td>\n",
       "      <td>1744770.0</td>\n",
       "      <td>244.42</td>\n",
       "      <td>245.97</td>\n",
       "      <td>244.31</td>\n",
       "      <td>245.54</td>\n",
       "      <td>40758038.0</td>\n",
       "    </tr>\n",
       "    <tr>\n",
       "      <th>2017-07-17 00:00:00-04:00</th>\n",
       "      <td>109.40</td>\n",
       "      <td>109.4800</td>\n",
       "      <td>109.32</td>\n",
       "      <td>109.41</td>\n",
       "      <td>1910544.0</td>\n",
       "      <td>245.47</td>\n",
       "      <td>245.91</td>\n",
       "      <td>245.33</td>\n",
       "      <td>245.51</td>\n",
       "      <td>22378971.0</td>\n",
       "    </tr>\n",
       "    <tr>\n",
       "      <th>2017-07-18 00:00:00-04:00</th>\n",
       "      <td>109.64</td>\n",
       "      <td>109.7100</td>\n",
       "      <td>109.58</td>\n",
       "      <td>109.68</td>\n",
       "      <td>2471170.0</td>\n",
       "      <td>245.06</td>\n",
       "      <td>245.72</td>\n",
       "      <td>244.67</td>\n",
       "      <td>245.69</td>\n",
       "      <td>31695494.0</td>\n",
       "    </tr>\n",
       "    <tr>\n",
       "      <th>2017-07-19 00:00:00-04:00</th>\n",
       "      <td>109.72</td>\n",
       "      <td>109.7500</td>\n",
       "      <td>109.63</td>\n",
       "      <td>109.70</td>\n",
       "      <td>1405289.0</td>\n",
       "      <td>246.02</td>\n",
       "      <td>247.00</td>\n",
       "      <td>246.01</td>\n",
       "      <td>246.99</td>\n",
       "      <td>31007738.0</td>\n",
       "    </tr>\n",
       "  </tbody>\n",
       "</table>\n",
       "</div>"
      ],
      "text/plain": [
       "                              AGG                                       \\\n",
       "                             open      high     low   close     volume   \n",
       "time                                                                     \n",
       "2017-07-13 00:00:00-04:00  109.29  109.3118  109.13  109.24  1432660.0   \n",
       "2017-07-14 00:00:00-04:00  109.54  109.5600  109.29  109.36  1744770.0   \n",
       "2017-07-17 00:00:00-04:00  109.40  109.4800  109.32  109.41  1910544.0   \n",
       "2017-07-18 00:00:00-04:00  109.64  109.7100  109.58  109.68  2471170.0   \n",
       "2017-07-19 00:00:00-04:00  109.72  109.7500  109.63  109.70  1405289.0   \n",
       "\n",
       "                              SPY                                      \n",
       "                             open    high     low   close      volume  \n",
       "time                                                                   \n",
       "2017-07-13 00:00:00-04:00     NaN     NaN     NaN     NaN         NaN  \n",
       "2017-07-14 00:00:00-04:00  244.42  245.97  244.31  245.54  40758038.0  \n",
       "2017-07-17 00:00:00-04:00  245.47  245.91  245.33  245.51  22378971.0  \n",
       "2017-07-18 00:00:00-04:00  245.06  245.72  244.67  245.69  31695494.0  \n",
       "2017-07-19 00:00:00-04:00  246.02  247.00  246.01  246.99  31007738.0  "
      ]
     },
     "metadata": {},
     "output_type": "display_data"
    },
    {
     "data": {
      "text/html": [
       "<div>\n",
       "<style scoped>\n",
       "    .dataframe tbody tr th:only-of-type {\n",
       "        vertical-align: middle;\n",
       "    }\n",
       "\n",
       "    .dataframe tbody tr th {\n",
       "        vertical-align: top;\n",
       "    }\n",
       "\n",
       "    .dataframe thead tr th {\n",
       "        text-align: left;\n",
       "    }\n",
       "\n",
       "    .dataframe thead tr:last-of-type th {\n",
       "        text-align: right;\n",
       "    }\n",
       "</style>\n",
       "<table border=\"1\" class=\"dataframe\">\n",
       "  <thead>\n",
       "    <tr>\n",
       "      <th></th>\n",
       "      <th colspan=\"5\" halign=\"left\">AGG</th>\n",
       "      <th colspan=\"5\" halign=\"left\">SPY</th>\n",
       "    </tr>\n",
       "    <tr>\n",
       "      <th></th>\n",
       "      <th>open</th>\n",
       "      <th>high</th>\n",
       "      <th>low</th>\n",
       "      <th>close</th>\n",
       "      <th>volume</th>\n",
       "      <th>open</th>\n",
       "      <th>high</th>\n",
       "      <th>low</th>\n",
       "      <th>close</th>\n",
       "      <th>volume</th>\n",
       "    </tr>\n",
       "    <tr>\n",
       "      <th>time</th>\n",
       "      <th></th>\n",
       "      <th></th>\n",
       "      <th></th>\n",
       "      <th></th>\n",
       "      <th></th>\n",
       "      <th></th>\n",
       "      <th></th>\n",
       "      <th></th>\n",
       "      <th></th>\n",
       "      <th></th>\n",
       "    </tr>\n",
       "  </thead>\n",
       "  <tbody>\n",
       "    <tr>\n",
       "      <th>2021-06-28 00:00:00-04:00</th>\n",
       "      <td>115.04</td>\n",
       "      <td>115.23</td>\n",
       "      <td>115.040</td>\n",
       "      <td>115.160</td>\n",
       "      <td>5523690.0</td>\n",
       "      <td>427.17</td>\n",
       "      <td>427.65</td>\n",
       "      <td>425.8900</td>\n",
       "      <td>427.48</td>\n",
       "      <td>43937373.0</td>\n",
       "    </tr>\n",
       "    <tr>\n",
       "      <th>2021-06-29 00:00:00-04:00</th>\n",
       "      <td>115.06</td>\n",
       "      <td>115.25</td>\n",
       "      <td>115.045</td>\n",
       "      <td>115.250</td>\n",
       "      <td>3469405.0</td>\n",
       "      <td>427.89</td>\n",
       "      <td>428.56</td>\n",
       "      <td>427.1300</td>\n",
       "      <td>427.68</td>\n",
       "      <td>32097572.0</td>\n",
       "    </tr>\n",
       "    <tr>\n",
       "      <th>2021-06-30 00:00:00-04:00</th>\n",
       "      <td>115.36</td>\n",
       "      <td>115.45</td>\n",
       "      <td>115.300</td>\n",
       "      <td>115.350</td>\n",
       "      <td>5984381.0</td>\n",
       "      <td>427.20</td>\n",
       "      <td>428.78</td>\n",
       "      <td>427.1800</td>\n",
       "      <td>428.08</td>\n",
       "      <td>46776402.0</td>\n",
       "    </tr>\n",
       "    <tr>\n",
       "      <th>2021-07-01 00:00:00-04:00</th>\n",
       "      <td>115.15</td>\n",
       "      <td>115.19</td>\n",
       "      <td>115.010</td>\n",
       "      <td>115.115</td>\n",
       "      <td>4439326.0</td>\n",
       "      <td>428.83</td>\n",
       "      <td>430.60</td>\n",
       "      <td>428.8000</td>\n",
       "      <td>430.47</td>\n",
       "      <td>44147835.0</td>\n",
       "    </tr>\n",
       "    <tr>\n",
       "      <th>2021-07-02 00:00:00-04:00</th>\n",
       "      <td>115.23</td>\n",
       "      <td>115.37</td>\n",
       "      <td>115.170</td>\n",
       "      <td>115.370</td>\n",
       "      <td>4219494.0</td>\n",
       "      <td>431.67</td>\n",
       "      <td>434.10</td>\n",
       "      <td>430.5218</td>\n",
       "      <td>433.75</td>\n",
       "      <td>46557070.0</td>\n",
       "    </tr>\n",
       "  </tbody>\n",
       "</table>\n",
       "</div>"
      ],
      "text/plain": [
       "                              AGG                                       \\\n",
       "                             open    high      low    close     volume   \n",
       "time                                                                     \n",
       "2021-06-28 00:00:00-04:00  115.04  115.23  115.040  115.160  5523690.0   \n",
       "2021-06-29 00:00:00-04:00  115.06  115.25  115.045  115.250  3469405.0   \n",
       "2021-06-30 00:00:00-04:00  115.36  115.45  115.300  115.350  5984381.0   \n",
       "2021-07-01 00:00:00-04:00  115.15  115.19  115.010  115.115  4439326.0   \n",
       "2021-07-02 00:00:00-04:00  115.23  115.37  115.170  115.370  4219494.0   \n",
       "\n",
       "                              SPY                                        \n",
       "                             open    high       low   close      volume  \n",
       "time                                                                     \n",
       "2021-06-28 00:00:00-04:00  427.17  427.65  425.8900  427.48  43937373.0  \n",
       "2021-06-29 00:00:00-04:00  427.89  428.56  427.1300  427.68  32097572.0  \n",
       "2021-06-30 00:00:00-04:00  427.20  428.78  427.1800  428.08  46776402.0  \n",
       "2021-07-01 00:00:00-04:00  428.83  430.60  428.8000  430.47  44147835.0  \n",
       "2021-07-02 00:00:00-04:00  431.67  434.10  430.5218  433.75  46557070.0  "
      ]
     },
     "metadata": {},
     "output_type": "display_data"
    }
   ],
   "source": [
    "# Use the Alpaca get_barset function to make the API call to get the 10 years worth of pricing data\n",
    "\n",
    "# Note in practice we are not able to get any more than 1000 data points, so our dataset is limited\n",
    "# to about 4 years worth of data!!!\n",
    "\n",
    "# The tickers and timeframe parameters should have been set in Part 1 of this activity \n",
    "# The start and end dates should be updated with the information set above\n",
    "# Remember to add the df property to the end of the call so the response is returned as a DataFrame\n",
    "df_portfolio = alpaca.get_barset(tickers, timeframe, start=start_date, end=end_date, limit=1000).df\n",
    "\n",
    "\n",
    "# Display both the first and last five rows of the DataFrame\n",
    "display(df_portfolio.head())\n",
    "display(df_portfolio.tail())\n"
   ]
  },
  {
   "cell_type": "markdown",
   "metadata": {},
   "source": [
    "#### Step 2: Run a Monte Carlo simulation of 500 samples and 30 years for the 60/40 portfolio, and then plot the results."
   ]
  },
  {
   "cell_type": "code",
   "execution_count": 35,
   "metadata": {},
   "outputs": [
    {
     "data": {
      "text/html": [
       "<div>\n",
       "<style scoped>\n",
       "    .dataframe tbody tr th:only-of-type {\n",
       "        vertical-align: middle;\n",
       "    }\n",
       "\n",
       "    .dataframe tbody tr th {\n",
       "        vertical-align: top;\n",
       "    }\n",
       "\n",
       "    .dataframe thead tr th {\n",
       "        text-align: left;\n",
       "    }\n",
       "\n",
       "    .dataframe thead tr:last-of-type th {\n",
       "        text-align: right;\n",
       "    }\n",
       "</style>\n",
       "<table border=\"1\" class=\"dataframe\">\n",
       "  <thead>\n",
       "    <tr>\n",
       "      <th></th>\n",
       "      <th colspan=\"6\" halign=\"left\">AGG</th>\n",
       "      <th colspan=\"6\" halign=\"left\">SPY</th>\n",
       "    </tr>\n",
       "    <tr>\n",
       "      <th></th>\n",
       "      <th>open</th>\n",
       "      <th>high</th>\n",
       "      <th>low</th>\n",
       "      <th>close</th>\n",
       "      <th>volume</th>\n",
       "      <th>daily_return</th>\n",
       "      <th>open</th>\n",
       "      <th>high</th>\n",
       "      <th>low</th>\n",
       "      <th>close</th>\n",
       "      <th>volume</th>\n",
       "      <th>daily_return</th>\n",
       "    </tr>\n",
       "    <tr>\n",
       "      <th>time</th>\n",
       "      <th></th>\n",
       "      <th></th>\n",
       "      <th></th>\n",
       "      <th></th>\n",
       "      <th></th>\n",
       "      <th></th>\n",
       "      <th></th>\n",
       "      <th></th>\n",
       "      <th></th>\n",
       "      <th></th>\n",
       "      <th></th>\n",
       "      <th></th>\n",
       "    </tr>\n",
       "  </thead>\n",
       "  <tbody>\n",
       "    <tr>\n",
       "      <th>2017-07-13 00:00:00-04:00</th>\n",
       "      <td>109.29</td>\n",
       "      <td>109.3118</td>\n",
       "      <td>109.13</td>\n",
       "      <td>109.24</td>\n",
       "      <td>1432660.0</td>\n",
       "      <td>NaN</td>\n",
       "      <td>NaN</td>\n",
       "      <td>NaN</td>\n",
       "      <td>NaN</td>\n",
       "      <td>NaN</td>\n",
       "      <td>NaN</td>\n",
       "      <td>NaN</td>\n",
       "    </tr>\n",
       "    <tr>\n",
       "      <th>2017-07-14 00:00:00-04:00</th>\n",
       "      <td>109.54</td>\n",
       "      <td>109.5600</td>\n",
       "      <td>109.29</td>\n",
       "      <td>109.36</td>\n",
       "      <td>1744770.0</td>\n",
       "      <td>0.001098</td>\n",
       "      <td>244.42</td>\n",
       "      <td>245.97</td>\n",
       "      <td>244.31</td>\n",
       "      <td>245.54</td>\n",
       "      <td>40758038.0</td>\n",
       "      <td>NaN</td>\n",
       "    </tr>\n",
       "    <tr>\n",
       "      <th>2017-07-17 00:00:00-04:00</th>\n",
       "      <td>109.40</td>\n",
       "      <td>109.4800</td>\n",
       "      <td>109.32</td>\n",
       "      <td>109.41</td>\n",
       "      <td>1910544.0</td>\n",
       "      <td>0.000457</td>\n",
       "      <td>245.47</td>\n",
       "      <td>245.91</td>\n",
       "      <td>245.33</td>\n",
       "      <td>245.51</td>\n",
       "      <td>22378971.0</td>\n",
       "      <td>-0.000122</td>\n",
       "    </tr>\n",
       "    <tr>\n",
       "      <th>2017-07-18 00:00:00-04:00</th>\n",
       "      <td>109.64</td>\n",
       "      <td>109.7100</td>\n",
       "      <td>109.58</td>\n",
       "      <td>109.68</td>\n",
       "      <td>2471170.0</td>\n",
       "      <td>0.002468</td>\n",
       "      <td>245.06</td>\n",
       "      <td>245.72</td>\n",
       "      <td>244.67</td>\n",
       "      <td>245.69</td>\n",
       "      <td>31695494.0</td>\n",
       "      <td>0.000733</td>\n",
       "    </tr>\n",
       "    <tr>\n",
       "      <th>2017-07-19 00:00:00-04:00</th>\n",
       "      <td>109.72</td>\n",
       "      <td>109.7500</td>\n",
       "      <td>109.63</td>\n",
       "      <td>109.70</td>\n",
       "      <td>1405289.0</td>\n",
       "      <td>0.000182</td>\n",
       "      <td>246.02</td>\n",
       "      <td>247.00</td>\n",
       "      <td>246.01</td>\n",
       "      <td>246.99</td>\n",
       "      <td>31007738.0</td>\n",
       "      <td>0.005291</td>\n",
       "    </tr>\n",
       "  </tbody>\n",
       "</table>\n",
       "</div>"
      ],
      "text/plain": [
       "                              AGG                                       \\\n",
       "                             open      high     low   close     volume   \n",
       "time                                                                     \n",
       "2017-07-13 00:00:00-04:00  109.29  109.3118  109.13  109.24  1432660.0   \n",
       "2017-07-14 00:00:00-04:00  109.54  109.5600  109.29  109.36  1744770.0   \n",
       "2017-07-17 00:00:00-04:00  109.40  109.4800  109.32  109.41  1910544.0   \n",
       "2017-07-18 00:00:00-04:00  109.64  109.7100  109.58  109.68  2471170.0   \n",
       "2017-07-19 00:00:00-04:00  109.72  109.7500  109.63  109.70  1405289.0   \n",
       "\n",
       "                                           SPY                          \\\n",
       "                          daily_return    open    high     low   close   \n",
       "time                                                                     \n",
       "2017-07-13 00:00:00-04:00          NaN     NaN     NaN     NaN     NaN   \n",
       "2017-07-14 00:00:00-04:00     0.001098  244.42  245.97  244.31  245.54   \n",
       "2017-07-17 00:00:00-04:00     0.000457  245.47  245.91  245.33  245.51   \n",
       "2017-07-18 00:00:00-04:00     0.002468  245.06  245.72  244.67  245.69   \n",
       "2017-07-19 00:00:00-04:00     0.000182  246.02  247.00  246.01  246.99   \n",
       "\n",
       "                                                    \n",
       "                               volume daily_return  \n",
       "time                                                \n",
       "2017-07-13 00:00:00-04:00         NaN          NaN  \n",
       "2017-07-14 00:00:00-04:00  40758038.0          NaN  \n",
       "2017-07-17 00:00:00-04:00  22378971.0    -0.000122  \n",
       "2017-07-18 00:00:00-04:00  31695494.0     0.000733  \n",
       "2017-07-19 00:00:00-04:00  31007738.0     0.005291  "
      ]
     },
     "execution_count": 35,
     "metadata": {},
     "output_type": "execute_result"
    }
   ],
   "source": [
    "# Configure the Monte Carlo simulation to forecast 30 years cumulative returns\n",
    "# The weights should be split 40% to AGG and 60% to SPY.\n",
    "# Run 500 samples.\n",
    "MC_30_year = MCSimulation(\n",
    "    portfolio_data=df_portfolio,\n",
    "    weights=[.4, .6],\n",
    "    num_simulation=500,\n",
    "    num_trading_days=252*30\n",
    ")\n",
    "\n",
    "# Review the simulation input data\n",
    "MC_30_year.portfolio_data.head()\n"
   ]
  },
  {
   "cell_type": "code",
   "execution_count": 36,
   "metadata": {},
   "outputs": [
    {
     "name": "stdout",
     "output_type": "stream",
     "text": [
      "Running Monte Carlo simulation number 0.\n",
      "Running Monte Carlo simulation number 10.\n",
      "Running Monte Carlo simulation number 20.\n",
      "Running Monte Carlo simulation number 30.\n",
      "Running Monte Carlo simulation number 40.\n",
      "Running Monte Carlo simulation number 50.\n",
      "Running Monte Carlo simulation number 60.\n",
      "Running Monte Carlo simulation number 70.\n",
      "Running Monte Carlo simulation number 80.\n",
      "Running Monte Carlo simulation number 90.\n",
      "Running Monte Carlo simulation number 100.\n",
      "Running Monte Carlo simulation number 110.\n",
      "Running Monte Carlo simulation number 120.\n",
      "Running Monte Carlo simulation number 130.\n",
      "Running Monte Carlo simulation number 140.\n",
      "Running Monte Carlo simulation number 150.\n",
      "Running Monte Carlo simulation number 160.\n",
      "Running Monte Carlo simulation number 170.\n",
      "Running Monte Carlo simulation number 180.\n",
      "Running Monte Carlo simulation number 190.\n",
      "Running Monte Carlo simulation number 200.\n",
      "Running Monte Carlo simulation number 210.\n",
      "Running Monte Carlo simulation number 220.\n",
      "Running Monte Carlo simulation number 230.\n",
      "Running Monte Carlo simulation number 240.\n",
      "Running Monte Carlo simulation number 250.\n",
      "Running Monte Carlo simulation number 260.\n",
      "Running Monte Carlo simulation number 270.\n",
      "Running Monte Carlo simulation number 280.\n",
      "Running Monte Carlo simulation number 290.\n",
      "Running Monte Carlo simulation number 300.\n",
      "Running Monte Carlo simulation number 310.\n",
      "Running Monte Carlo simulation number 320.\n",
      "Running Monte Carlo simulation number 330.\n",
      "Running Monte Carlo simulation number 340.\n",
      "Running Monte Carlo simulation number 350.\n",
      "Running Monte Carlo simulation number 360.\n",
      "Running Monte Carlo simulation number 370.\n",
      "Running Monte Carlo simulation number 380.\n",
      "Running Monte Carlo simulation number 390.\n",
      "Running Monte Carlo simulation number 400.\n",
      "Running Monte Carlo simulation number 410.\n",
      "Running Monte Carlo simulation number 420.\n",
      "Running Monte Carlo simulation number 430.\n",
      "Running Monte Carlo simulation number 440.\n",
      "Running Monte Carlo simulation number 450.\n",
      "Running Monte Carlo simulation number 460.\n",
      "Running Monte Carlo simulation number 470.\n",
      "Running Monte Carlo simulation number 480.\n",
      "Running Monte Carlo simulation number 490.\n"
     ]
    },
    {
     "data": {
      "text/html": [
       "<div>\n",
       "<style scoped>\n",
       "    .dataframe tbody tr th:only-of-type {\n",
       "        vertical-align: middle;\n",
       "    }\n",
       "\n",
       "    .dataframe tbody tr th {\n",
       "        vertical-align: top;\n",
       "    }\n",
       "\n",
       "    .dataframe thead th {\n",
       "        text-align: right;\n",
       "    }\n",
       "</style>\n",
       "<table border=\"1\" class=\"dataframe\">\n",
       "  <thead>\n",
       "    <tr style=\"text-align: right;\">\n",
       "      <th></th>\n",
       "      <th>0</th>\n",
       "      <th>1</th>\n",
       "      <th>2</th>\n",
       "      <th>3</th>\n",
       "      <th>4</th>\n",
       "      <th>5</th>\n",
       "      <th>6</th>\n",
       "      <th>7</th>\n",
       "      <th>8</th>\n",
       "      <th>9</th>\n",
       "      <th>...</th>\n",
       "      <th>490</th>\n",
       "      <th>491</th>\n",
       "      <th>492</th>\n",
       "      <th>493</th>\n",
       "      <th>494</th>\n",
       "      <th>495</th>\n",
       "      <th>496</th>\n",
       "      <th>497</th>\n",
       "      <th>498</th>\n",
       "      <th>499</th>\n",
       "    </tr>\n",
       "  </thead>\n",
       "  <tbody>\n",
       "    <tr>\n",
       "      <th>0</th>\n",
       "      <td>1.000000</td>\n",
       "      <td>1.000000</td>\n",
       "      <td>1.000000</td>\n",
       "      <td>1.000000</td>\n",
       "      <td>1.000000</td>\n",
       "      <td>1.000000</td>\n",
       "      <td>1.000000</td>\n",
       "      <td>1.000000</td>\n",
       "      <td>1.000000</td>\n",
       "      <td>1.000000</td>\n",
       "      <td>...</td>\n",
       "      <td>1.000000</td>\n",
       "      <td>1.000000</td>\n",
       "      <td>1.000000</td>\n",
       "      <td>1.000000</td>\n",
       "      <td>1.000000</td>\n",
       "      <td>1.000000</td>\n",
       "      <td>1.000000</td>\n",
       "      <td>1.000000</td>\n",
       "      <td>1.000000</td>\n",
       "      <td>1.000000</td>\n",
       "    </tr>\n",
       "    <tr>\n",
       "      <th>1</th>\n",
       "      <td>0.999087</td>\n",
       "      <td>1.009538</td>\n",
       "      <td>0.984700</td>\n",
       "      <td>0.986868</td>\n",
       "      <td>0.984843</td>\n",
       "      <td>1.009466</td>\n",
       "      <td>1.005057</td>\n",
       "      <td>0.993293</td>\n",
       "      <td>0.997608</td>\n",
       "      <td>1.000042</td>\n",
       "      <td>...</td>\n",
       "      <td>0.997047</td>\n",
       "      <td>1.002924</td>\n",
       "      <td>1.013498</td>\n",
       "      <td>1.006407</td>\n",
       "      <td>0.983487</td>\n",
       "      <td>0.997879</td>\n",
       "      <td>1.009153</td>\n",
       "      <td>0.999254</td>\n",
       "      <td>0.996545</td>\n",
       "      <td>1.006820</td>\n",
       "    </tr>\n",
       "    <tr>\n",
       "      <th>2</th>\n",
       "      <td>1.007580</td>\n",
       "      <td>1.009965</td>\n",
       "      <td>0.986815</td>\n",
       "      <td>1.001010</td>\n",
       "      <td>0.982344</td>\n",
       "      <td>1.005650</td>\n",
       "      <td>1.008879</td>\n",
       "      <td>1.000921</td>\n",
       "      <td>1.002527</td>\n",
       "      <td>1.003191</td>\n",
       "      <td>...</td>\n",
       "      <td>0.992130</td>\n",
       "      <td>1.005958</td>\n",
       "      <td>1.024251</td>\n",
       "      <td>1.003531</td>\n",
       "      <td>0.972376</td>\n",
       "      <td>0.998701</td>\n",
       "      <td>1.007881</td>\n",
       "      <td>1.002312</td>\n",
       "      <td>0.985156</td>\n",
       "      <td>1.004629</td>\n",
       "    </tr>\n",
       "    <tr>\n",
       "      <th>3</th>\n",
       "      <td>1.013907</td>\n",
       "      <td>1.010048</td>\n",
       "      <td>0.996223</td>\n",
       "      <td>1.007996</td>\n",
       "      <td>0.996904</td>\n",
       "      <td>1.009256</td>\n",
       "      <td>1.011934</td>\n",
       "      <td>1.008326</td>\n",
       "      <td>1.000643</td>\n",
       "      <td>1.003399</td>\n",
       "      <td>...</td>\n",
       "      <td>0.994995</td>\n",
       "      <td>1.017770</td>\n",
       "      <td>1.013334</td>\n",
       "      <td>1.011234</td>\n",
       "      <td>0.968079</td>\n",
       "      <td>0.992148</td>\n",
       "      <td>1.006132</td>\n",
       "      <td>0.997959</td>\n",
       "      <td>0.977170</td>\n",
       "      <td>1.016135</td>\n",
       "    </tr>\n",
       "    <tr>\n",
       "      <th>4</th>\n",
       "      <td>1.013880</td>\n",
       "      <td>1.024679</td>\n",
       "      <td>0.991550</td>\n",
       "      <td>1.013951</td>\n",
       "      <td>0.996754</td>\n",
       "      <td>1.013994</td>\n",
       "      <td>0.996905</td>\n",
       "      <td>1.009323</td>\n",
       "      <td>1.004969</td>\n",
       "      <td>1.002366</td>\n",
       "      <td>...</td>\n",
       "      <td>0.997601</td>\n",
       "      <td>1.022458</td>\n",
       "      <td>1.018858</td>\n",
       "      <td>1.010971</td>\n",
       "      <td>0.956592</td>\n",
       "      <td>0.993858</td>\n",
       "      <td>1.007578</td>\n",
       "      <td>1.002145</td>\n",
       "      <td>0.964427</td>\n",
       "      <td>1.008451</td>\n",
       "    </tr>\n",
       "    <tr>\n",
       "      <th>...</th>\n",
       "      <td>...</td>\n",
       "      <td>...</td>\n",
       "      <td>...</td>\n",
       "      <td>...</td>\n",
       "      <td>...</td>\n",
       "      <td>...</td>\n",
       "      <td>...</td>\n",
       "      <td>...</td>\n",
       "      <td>...</td>\n",
       "      <td>...</td>\n",
       "      <td>...</td>\n",
       "      <td>...</td>\n",
       "      <td>...</td>\n",
       "      <td>...</td>\n",
       "      <td>...</td>\n",
       "      <td>...</td>\n",
       "      <td>...</td>\n",
       "      <td>...</td>\n",
       "      <td>...</td>\n",
       "      <td>...</td>\n",
       "      <td>...</td>\n",
       "    </tr>\n",
       "    <tr>\n",
       "      <th>7556</th>\n",
       "      <td>36.005539</td>\n",
       "      <td>48.754898</td>\n",
       "      <td>20.546417</td>\n",
       "      <td>6.636039</td>\n",
       "      <td>36.620152</td>\n",
       "      <td>23.350450</td>\n",
       "      <td>10.494761</td>\n",
       "      <td>24.190701</td>\n",
       "      <td>11.676314</td>\n",
       "      <td>14.843404</td>\n",
       "      <td>...</td>\n",
       "      <td>31.242390</td>\n",
       "      <td>53.608725</td>\n",
       "      <td>6.699828</td>\n",
       "      <td>8.461046</td>\n",
       "      <td>27.034514</td>\n",
       "      <td>6.034487</td>\n",
       "      <td>20.650783</td>\n",
       "      <td>3.873776</td>\n",
       "      <td>9.805979</td>\n",
       "      <td>5.523546</td>\n",
       "    </tr>\n",
       "    <tr>\n",
       "      <th>7557</th>\n",
       "      <td>35.942935</td>\n",
       "      <td>48.594285</td>\n",
       "      <td>20.810686</td>\n",
       "      <td>6.530680</td>\n",
       "      <td>36.706260</td>\n",
       "      <td>23.274952</td>\n",
       "      <td>10.526618</td>\n",
       "      <td>24.653378</td>\n",
       "      <td>11.663386</td>\n",
       "      <td>14.707478</td>\n",
       "      <td>...</td>\n",
       "      <td>31.331539</td>\n",
       "      <td>53.243621</td>\n",
       "      <td>6.708374</td>\n",
       "      <td>8.580529</td>\n",
       "      <td>26.956088</td>\n",
       "      <td>6.011784</td>\n",
       "      <td>20.706896</td>\n",
       "      <td>3.833345</td>\n",
       "      <td>9.886695</td>\n",
       "      <td>5.491827</td>\n",
       "    </tr>\n",
       "    <tr>\n",
       "      <th>7558</th>\n",
       "      <td>35.694406</td>\n",
       "      <td>48.356656</td>\n",
       "      <td>20.532566</td>\n",
       "      <td>6.691772</td>\n",
       "      <td>36.903990</td>\n",
       "      <td>23.373320</td>\n",
       "      <td>10.519580</td>\n",
       "      <td>24.603877</td>\n",
       "      <td>11.709544</td>\n",
       "      <td>14.688107</td>\n",
       "      <td>...</td>\n",
       "      <td>31.252057</td>\n",
       "      <td>52.439468</td>\n",
       "      <td>6.743283</td>\n",
       "      <td>8.670995</td>\n",
       "      <td>26.973368</td>\n",
       "      <td>6.003041</td>\n",
       "      <td>20.598617</td>\n",
       "      <td>3.806173</td>\n",
       "      <td>9.815198</td>\n",
       "      <td>5.451697</td>\n",
       "    </tr>\n",
       "    <tr>\n",
       "      <th>7559</th>\n",
       "      <td>35.830947</td>\n",
       "      <td>48.303804</td>\n",
       "      <td>20.236936</td>\n",
       "      <td>6.666203</td>\n",
       "      <td>36.830193</td>\n",
       "      <td>23.501659</td>\n",
       "      <td>10.469833</td>\n",
       "      <td>24.934209</td>\n",
       "      <td>11.755767</td>\n",
       "      <td>14.745543</td>\n",
       "      <td>...</td>\n",
       "      <td>31.257505</td>\n",
       "      <td>52.453388</td>\n",
       "      <td>6.711933</td>\n",
       "      <td>8.846399</td>\n",
       "      <td>27.143212</td>\n",
       "      <td>5.935545</td>\n",
       "      <td>20.424135</td>\n",
       "      <td>3.849315</td>\n",
       "      <td>9.766677</td>\n",
       "      <td>5.419779</td>\n",
       "    </tr>\n",
       "    <tr>\n",
       "      <th>7560</th>\n",
       "      <td>35.700653</td>\n",
       "      <td>48.332650</td>\n",
       "      <td>20.498662</td>\n",
       "      <td>6.726639</td>\n",
       "      <td>36.629436</td>\n",
       "      <td>23.342880</td>\n",
       "      <td>10.592339</td>\n",
       "      <td>24.831060</td>\n",
       "      <td>11.803986</td>\n",
       "      <td>14.721061</td>\n",
       "      <td>...</td>\n",
       "      <td>31.394813</td>\n",
       "      <td>52.489532</td>\n",
       "      <td>6.589330</td>\n",
       "      <td>8.830892</td>\n",
       "      <td>27.366845</td>\n",
       "      <td>5.984471</td>\n",
       "      <td>20.660418</td>\n",
       "      <td>3.841928</td>\n",
       "      <td>9.720401</td>\n",
       "      <td>5.455285</td>\n",
       "    </tr>\n",
       "  </tbody>\n",
       "</table>\n",
       "<p>7561 rows × 500 columns</p>\n",
       "</div>"
      ],
      "text/plain": [
       "            0          1          2         3          4          5    \\\n",
       "0      1.000000   1.000000   1.000000  1.000000   1.000000   1.000000   \n",
       "1      0.999087   1.009538   0.984700  0.986868   0.984843   1.009466   \n",
       "2      1.007580   1.009965   0.986815  1.001010   0.982344   1.005650   \n",
       "3      1.013907   1.010048   0.996223  1.007996   0.996904   1.009256   \n",
       "4      1.013880   1.024679   0.991550  1.013951   0.996754   1.013994   \n",
       "...         ...        ...        ...       ...        ...        ...   \n",
       "7556  36.005539  48.754898  20.546417  6.636039  36.620152  23.350450   \n",
       "7557  35.942935  48.594285  20.810686  6.530680  36.706260  23.274952   \n",
       "7558  35.694406  48.356656  20.532566  6.691772  36.903990  23.373320   \n",
       "7559  35.830947  48.303804  20.236936  6.666203  36.830193  23.501659   \n",
       "7560  35.700653  48.332650  20.498662  6.726639  36.629436  23.342880   \n",
       "\n",
       "            6          7          8          9    ...        490        491  \\\n",
       "0      1.000000   1.000000   1.000000   1.000000  ...   1.000000   1.000000   \n",
       "1      1.005057   0.993293   0.997608   1.000042  ...   0.997047   1.002924   \n",
       "2      1.008879   1.000921   1.002527   1.003191  ...   0.992130   1.005958   \n",
       "3      1.011934   1.008326   1.000643   1.003399  ...   0.994995   1.017770   \n",
       "4      0.996905   1.009323   1.004969   1.002366  ...   0.997601   1.022458   \n",
       "...         ...        ...        ...        ...  ...        ...        ...   \n",
       "7556  10.494761  24.190701  11.676314  14.843404  ...  31.242390  53.608725   \n",
       "7557  10.526618  24.653378  11.663386  14.707478  ...  31.331539  53.243621   \n",
       "7558  10.519580  24.603877  11.709544  14.688107  ...  31.252057  52.439468   \n",
       "7559  10.469833  24.934209  11.755767  14.745543  ...  31.257505  52.453388   \n",
       "7560  10.592339  24.831060  11.803986  14.721061  ...  31.394813  52.489532   \n",
       "\n",
       "           492       493        494       495        496       497       498  \\\n",
       "0     1.000000  1.000000   1.000000  1.000000   1.000000  1.000000  1.000000   \n",
       "1     1.013498  1.006407   0.983487  0.997879   1.009153  0.999254  0.996545   \n",
       "2     1.024251  1.003531   0.972376  0.998701   1.007881  1.002312  0.985156   \n",
       "3     1.013334  1.011234   0.968079  0.992148   1.006132  0.997959  0.977170   \n",
       "4     1.018858  1.010971   0.956592  0.993858   1.007578  1.002145  0.964427   \n",
       "...        ...       ...        ...       ...        ...       ...       ...   \n",
       "7556  6.699828  8.461046  27.034514  6.034487  20.650783  3.873776  9.805979   \n",
       "7557  6.708374  8.580529  26.956088  6.011784  20.706896  3.833345  9.886695   \n",
       "7558  6.743283  8.670995  26.973368  6.003041  20.598617  3.806173  9.815198   \n",
       "7559  6.711933  8.846399  27.143212  5.935545  20.424135  3.849315  9.766677   \n",
       "7560  6.589330  8.830892  27.366845  5.984471  20.660418  3.841928  9.720401   \n",
       "\n",
       "           499  \n",
       "0     1.000000  \n",
       "1     1.006820  \n",
       "2     1.004629  \n",
       "3     1.016135  \n",
       "4     1.008451  \n",
       "...        ...  \n",
       "7556  5.523546  \n",
       "7557  5.491827  \n",
       "7558  5.451697  \n",
       "7559  5.419779  \n",
       "7560  5.455285  \n",
       "\n",
       "[7561 rows x 500 columns]"
      ]
     },
     "execution_count": 36,
     "metadata": {},
     "output_type": "execute_result"
    }
   ],
   "source": [
    "# Run the Monte Carlo simulation to forecast 30 years cumulative returns\n",
    "MC_30_year.calc_cumulative_return()\n"
   ]
  },
  {
   "cell_type": "code",
   "execution_count": 37,
   "metadata": {},
   "outputs": [
    {
     "data": {
      "text/plain": [
       "<AxesSubplot:title={'center':'500 Simulations of Cumulative Portfolio Return Trajectories Over the Next 7560 Trading Days.'}>"
      ]
     },
     "execution_count": 37,
     "metadata": {},
     "output_type": "execute_result"
    },
    {
     "data": {
      "image/png": "[encoded data removed]",
      "text/plain": [
       "<Figure size 432x288 with 1 Axes>"
      ]
     },
     "metadata": {
      "needs_background": "light"
     },
     "output_type": "display_data"
    }
   ],
   "source": [
    "# Visualize the 30-year Monte Carlo simulation by creating an\n",
    "# overlay line plot\n",
    "MC_30_year.plot_simulation()\n"
   ]
  },
  {
   "cell_type": "markdown",
   "metadata": {},
   "source": [
    "#### Step 3: Plot the probability distribution of the Monte Carlo simulation."
   ]
  },
  {
   "cell_type": "code",
   "execution_count": 38,
   "metadata": {},
   "outputs": [
    {
     "data": {
      "text/plain": [
       "<AxesSubplot:title={'center':'Distribution of Final Cumuluative Returns Across All 500 Simulations'}, ylabel='Frequency'>"
      ]
     },
     "execution_count": 38,
     "metadata": {},
     "output_type": "execute_result"
    },
    {
     "data": {
      "image/png": "[encoded data removed]",
      "text/plain": [
       "<Figure size 432x288 with 1 Axes>"
      ]
     },
     "metadata": {
      "needs_background": "light"
     },
     "output_type": "display_data"
    }
   ],
   "source": [
    "# Visualize the probability distribution of the 30-year Monte Carlo simulation \n",
    "# by plotting a histogram\n",
    "MC_30_year.plot_distribution()\n"
   ]
  },
  {
   "cell_type": "markdown",
   "metadata": {},
   "source": [
    "#### Step 4: Generate the summary statistics for the Monte Carlo simulation."
   ]
  },
  {
   "cell_type": "code",
   "execution_count": 39,
   "metadata": {},
   "outputs": [
    {
     "name": "stdout",
     "output_type": "stream",
     "text": [
      "count           500.000000\n",
      "mean             24.913513\n",
      "std              19.610227\n",
      "min               3.584055\n",
      "25%              11.993869\n",
      "50%              20.087627\n",
      "75%              30.835366\n",
      "max             164.631510\n",
      "95% CI Lower      5.451751\n",
      "95% CI Upper     71.157682\n",
      "Name: 7560, dtype: float64\n"
     ]
    }
   ],
   "source": [
    "# Generate summary statistics from the 30-year Monte Carlo simulation results\n",
    "# Save the results as a variable\n",
    "MC_30_year_summary_statistics = MC_30_year.summarize_cumulative_return()\n",
    "\n",
    "\n",
    "# Review the 30-year Monte Carlo summary statistics\n",
    "print(MC_30_year_summary_statistics)"
   ]
  },
  {
   "cell_type": "markdown",
   "metadata": {},
   "source": [
    "### Analyze the Retirement Portfolio Forecasts\n",
    "\n",
    "Using the current value of only the stock and bond portion of the member's portfolio and the summary statistics that you generated from the Monte Carlo simulation, answer the following question in your Jupyter notebook:\n",
    "\n",
    "-  What are the lower and upper bounds for the expected value of the portfolio with a 95% confidence interval?\n"
   ]
  },
  {
   "cell_type": "code",
   "execution_count": 40,
   "metadata": {},
   "outputs": [
    {
     "name": "stdout",
     "output_type": "stream",
     "text": [
      "The current value of the stock and bond portion of the portfolio is $ 70786.50.\n"
     ]
    }
   ],
   "source": [
    "# Print the current balance of the stock and bond portion of the members portfolio\n",
    "print(f\"The current value of the stock and bond portion of the portfolio is ${total_stocks_bonds: .2f}.\")\n"
   ]
  },
  {
   "cell_type": "code",
   "execution_count": 41,
   "metadata": {},
   "outputs": [
    {
     "name": "stdout",
     "output_type": "stream",
     "text": [
      "With 95% statistical confidence, the range of outcomes for the stock and bond portion\n",
      "of the portfolio is $ 385910.35 to $ 5037003.28.\n"
     ]
    }
   ],
   "source": [
    "# Use the lower and upper `95%` confidence intervals to calculate the range of the possible outcomes for the current stock/bond portfolio\n",
    "ci_lower_thirty_cumulative_return = MC_30_year_summary_statistics[8] * total_stocks_bonds\n",
    "ci_upper_thirty_cumulative_return = MC_30_year_summary_statistics[9] * total_stocks_bonds\n",
    "\n",
    "# Print the result of your calculations\n",
    "print(\"With 95% statistical confidence, the range of outcomes for the stock and bond portion\")\n",
    "print(f\"of the portfolio is ${ci_lower_thirty_cumulative_return: .2f} to ${ci_upper_thirty_cumulative_return: .2f}.\")\n"
   ]
  },
  {
   "cell_type": "markdown",
   "metadata": {},
   "source": [
    "### Forecast Cumulative Returns in 10 Years\n",
    "\n",
    "The CTO of the credit union is impressed with your work on these planning tools but wonders if 30 years is a long time to wait until retirement. So, your next task is to adjust the retirement portfolio and run a new Monte Carlo simulation to find out if the changes will allow members to retire earlier.\n",
    "\n",
    "For this new Monte Carlo simulation, do the following: \n",
    "\n",
    "- Forecast the cumulative returns for 10 years from now. Because of the shortened investment horizon (30 years to 10 years), the portfolio needs to invest more heavily in the riskier asset&mdash;that is, stock&mdash;to help accumulate wealth for retirement. \n",
    "\n",
    "- Adjust the weights of the retirement portfolio so that the composition for the Monte Carlo simulation consists of 20% bonds and 80% stocks. \n",
    "\n",
    "- Run the simulation over 500 samples, and use the same data that the API call to Alpaca generated.\n",
    "\n",
    "- Based on the new Monte Carlo simulation, answer the following questions in your Jupyter notebook:\n",
    "\n",
    "    - Using the current value of only the stock and bond portion of the member's portfolio and the summary statistics that you generated from the new Monte Carlo simulation, what are the lower and upper bounds for the expected value of the portfolio (with the new weights) with a 95% confidence interval?\n",
    "\n",
    "    - Will weighting the portfolio more heavily toward stocks allow the credit union members to retire after only 10 years?\n"
   ]
  },
  {
   "cell_type": "code",
   "execution_count": 42,
   "metadata": {},
   "outputs": [
    {
     "data": {
      "text/html": [
       "<div>\n",
       "<style scoped>\n",
       "    .dataframe tbody tr th:only-of-type {\n",
       "        vertical-align: middle;\n",
       "    }\n",
       "\n",
       "    .dataframe tbody tr th {\n",
       "        vertical-align: top;\n",
       "    }\n",
       "\n",
       "    .dataframe thead tr th {\n",
       "        text-align: left;\n",
       "    }\n",
       "\n",
       "    .dataframe thead tr:last-of-type th {\n",
       "        text-align: right;\n",
       "    }\n",
       "</style>\n",
       "<table border=\"1\" class=\"dataframe\">\n",
       "  <thead>\n",
       "    <tr>\n",
       "      <th></th>\n",
       "      <th colspan=\"6\" halign=\"left\">AGG</th>\n",
       "      <th colspan=\"6\" halign=\"left\">SPY</th>\n",
       "    </tr>\n",
       "    <tr>\n",
       "      <th></th>\n",
       "      <th>open</th>\n",
       "      <th>high</th>\n",
       "      <th>low</th>\n",
       "      <th>close</th>\n",
       "      <th>volume</th>\n",
       "      <th>daily_return</th>\n",
       "      <th>open</th>\n",
       "      <th>high</th>\n",
       "      <th>low</th>\n",
       "      <th>close</th>\n",
       "      <th>volume</th>\n",
       "      <th>daily_return</th>\n",
       "    </tr>\n",
       "    <tr>\n",
       "      <th>time</th>\n",
       "      <th></th>\n",
       "      <th></th>\n",
       "      <th></th>\n",
       "      <th></th>\n",
       "      <th></th>\n",
       "      <th></th>\n",
       "      <th></th>\n",
       "      <th></th>\n",
       "      <th></th>\n",
       "      <th></th>\n",
       "      <th></th>\n",
       "      <th></th>\n",
       "    </tr>\n",
       "  </thead>\n",
       "  <tbody>\n",
       "    <tr>\n",
       "      <th>2017-07-13 00:00:00-04:00</th>\n",
       "      <td>109.29</td>\n",
       "      <td>109.3118</td>\n",
       "      <td>109.13</td>\n",
       "      <td>109.24</td>\n",
       "      <td>1432660.0</td>\n",
       "      <td>NaN</td>\n",
       "      <td>NaN</td>\n",
       "      <td>NaN</td>\n",
       "      <td>NaN</td>\n",
       "      <td>NaN</td>\n",
       "      <td>NaN</td>\n",
       "      <td>NaN</td>\n",
       "    </tr>\n",
       "    <tr>\n",
       "      <th>2017-07-14 00:00:00-04:00</th>\n",
       "      <td>109.54</td>\n",
       "      <td>109.5600</td>\n",
       "      <td>109.29</td>\n",
       "      <td>109.36</td>\n",
       "      <td>1744770.0</td>\n",
       "      <td>0.001098</td>\n",
       "      <td>244.42</td>\n",
       "      <td>245.97</td>\n",
       "      <td>244.31</td>\n",
       "      <td>245.54</td>\n",
       "      <td>40758038.0</td>\n",
       "      <td>NaN</td>\n",
       "    </tr>\n",
       "    <tr>\n",
       "      <th>2017-07-17 00:00:00-04:00</th>\n",
       "      <td>109.40</td>\n",
       "      <td>109.4800</td>\n",
       "      <td>109.32</td>\n",
       "      <td>109.41</td>\n",
       "      <td>1910544.0</td>\n",
       "      <td>0.000457</td>\n",
       "      <td>245.47</td>\n",
       "      <td>245.91</td>\n",
       "      <td>245.33</td>\n",
       "      <td>245.51</td>\n",
       "      <td>22378971.0</td>\n",
       "      <td>-0.000122</td>\n",
       "    </tr>\n",
       "    <tr>\n",
       "      <th>2017-07-18 00:00:00-04:00</th>\n",
       "      <td>109.64</td>\n",
       "      <td>109.7100</td>\n",
       "      <td>109.58</td>\n",
       "      <td>109.68</td>\n",
       "      <td>2471170.0</td>\n",
       "      <td>0.002468</td>\n",
       "      <td>245.06</td>\n",
       "      <td>245.72</td>\n",
       "      <td>244.67</td>\n",
       "      <td>245.69</td>\n",
       "      <td>31695494.0</td>\n",
       "      <td>0.000733</td>\n",
       "    </tr>\n",
       "    <tr>\n",
       "      <th>2017-07-19 00:00:00-04:00</th>\n",
       "      <td>109.72</td>\n",
       "      <td>109.7500</td>\n",
       "      <td>109.63</td>\n",
       "      <td>109.70</td>\n",
       "      <td>1405289.0</td>\n",
       "      <td>0.000182</td>\n",
       "      <td>246.02</td>\n",
       "      <td>247.00</td>\n",
       "      <td>246.01</td>\n",
       "      <td>246.99</td>\n",
       "      <td>31007738.0</td>\n",
       "      <td>0.005291</td>\n",
       "    </tr>\n",
       "  </tbody>\n",
       "</table>\n",
       "</div>"
      ],
      "text/plain": [
       "                              AGG                                       \\\n",
       "                             open      high     low   close     volume   \n",
       "time                                                                     \n",
       "2017-07-13 00:00:00-04:00  109.29  109.3118  109.13  109.24  1432660.0   \n",
       "2017-07-14 00:00:00-04:00  109.54  109.5600  109.29  109.36  1744770.0   \n",
       "2017-07-17 00:00:00-04:00  109.40  109.4800  109.32  109.41  1910544.0   \n",
       "2017-07-18 00:00:00-04:00  109.64  109.7100  109.58  109.68  2471170.0   \n",
       "2017-07-19 00:00:00-04:00  109.72  109.7500  109.63  109.70  1405289.0   \n",
       "\n",
       "                                           SPY                          \\\n",
       "                          daily_return    open    high     low   close   \n",
       "time                                                                     \n",
       "2017-07-13 00:00:00-04:00          NaN     NaN     NaN     NaN     NaN   \n",
       "2017-07-14 00:00:00-04:00     0.001098  244.42  245.97  244.31  245.54   \n",
       "2017-07-17 00:00:00-04:00     0.000457  245.47  245.91  245.33  245.51   \n",
       "2017-07-18 00:00:00-04:00     0.002468  245.06  245.72  244.67  245.69   \n",
       "2017-07-19 00:00:00-04:00     0.000182  246.02  247.00  246.01  246.99   \n",
       "\n",
       "                                                    \n",
       "                               volume daily_return  \n",
       "time                                                \n",
       "2017-07-13 00:00:00-04:00         NaN          NaN  \n",
       "2017-07-14 00:00:00-04:00  40758038.0          NaN  \n",
       "2017-07-17 00:00:00-04:00  22378971.0    -0.000122  \n",
       "2017-07-18 00:00:00-04:00  31695494.0     0.000733  \n",
       "2017-07-19 00:00:00-04:00  31007738.0     0.005291  "
      ]
     },
     "execution_count": 42,
     "metadata": {},
     "output_type": "execute_result"
    }
   ],
   "source": [
    "# Configure a Monte Carlo simulation to forecast 10 years cumulative returns\n",
    "# The weights should be split 20% to AGG and 80% to SPY.\n",
    "# Run 500 samples.\n",
    "MC_10_year = MCSimulation(\n",
    "    portfolio_data=df_portfolio,\n",
    "    weights=[.2, .80],\n",
    "    num_simulation=500,\n",
    "    num_trading_days=252*10\n",
    ")\n",
    "\n",
    "# Review the simulation input data\n",
    "MC_10_year.portfolio_data.head()\n"
   ]
  },
  {
   "cell_type": "code",
   "execution_count": 43,
   "metadata": {},
   "outputs": [
    {
     "name": "stdout",
     "output_type": "stream",
     "text": [
      "Running Monte Carlo simulation number 0.\n",
      "Running Monte Carlo simulation number 10.\n",
      "Running Monte Carlo simulation number 20.\n",
      "Running Monte Carlo simulation number 30.\n",
      "Running Monte Carlo simulation number 40.\n",
      "Running Monte Carlo simulation number 50.\n",
      "Running Monte Carlo simulation number 60.\n",
      "Running Monte Carlo simulation number 70.\n",
      "Running Monte Carlo simulation number 80.\n",
      "Running Monte Carlo simulation number 90.\n",
      "Running Monte Carlo simulation number 100.\n",
      "Running Monte Carlo simulation number 110.\n",
      "Running Monte Carlo simulation number 120.\n",
      "Running Monte Carlo simulation number 130.\n",
      "Running Monte Carlo simulation number 140.\n",
      "Running Monte Carlo simulation number 150.\n",
      "Running Monte Carlo simulation number 160.\n",
      "Running Monte Carlo simulation number 170.\n",
      "Running Monte Carlo simulation number 180.\n",
      "Running Monte Carlo simulation number 190.\n",
      "Running Monte Carlo simulation number 200.\n",
      "Running Monte Carlo simulation number 210.\n",
      "Running Monte Carlo simulation number 220.\n",
      "Running Monte Carlo simulation number 230.\n",
      "Running Monte Carlo simulation number 240.\n",
      "Running Monte Carlo simulation number 250.\n",
      "Running Monte Carlo simulation number 260.\n",
      "Running Monte Carlo simulation number 270.\n",
      "Running Monte Carlo simulation number 280.\n",
      "Running Monte Carlo simulation number 290.\n",
      "Running Monte Carlo simulation number 300.\n",
      "Running Monte Carlo simulation number 310.\n",
      "Running Monte Carlo simulation number 320.\n",
      "Running Monte Carlo simulation number 330.\n",
      "Running Monte Carlo simulation number 340.\n",
      "Running Monte Carlo simulation number 350.\n",
      "Running Monte Carlo simulation number 360.\n",
      "Running Monte Carlo simulation number 370.\n",
      "Running Monte Carlo simulation number 380.\n",
      "Running Monte Carlo simulation number 390.\n",
      "Running Monte Carlo simulation number 400.\n",
      "Running Monte Carlo simulation number 410.\n",
      "Running Monte Carlo simulation number 420.\n",
      "Running Monte Carlo simulation number 430.\n",
      "Running Monte Carlo simulation number 440.\n",
      "Running Monte Carlo simulation number 450.\n",
      "Running Monte Carlo simulation number 460.\n",
      "Running Monte Carlo simulation number 470.\n",
      "Running Monte Carlo simulation number 480.\n",
      "Running Monte Carlo simulation number 490.\n"
     ]
    },
    {
     "data": {
      "text/html": [
       "<div>\n",
       "<style scoped>\n",
       "    .dataframe tbody tr th:only-of-type {\n",
       "        vertical-align: middle;\n",
       "    }\n",
       "\n",
       "    .dataframe tbody tr th {\n",
       "        vertical-align: top;\n",
       "    }\n",
       "\n",
       "    .dataframe thead th {\n",
       "        text-align: right;\n",
       "    }\n",
       "</style>\n",
       "<table border=\"1\" class=\"dataframe\">\n",
       "  <thead>\n",
       "    <tr style=\"text-align: right;\">\n",
       "      <th></th>\n",
       "      <th>0</th>\n",
       "      <th>1</th>\n",
       "      <th>2</th>\n",
       "      <th>3</th>\n",
       "      <th>4</th>\n",
       "      <th>5</th>\n",
       "      <th>6</th>\n",
       "      <th>7</th>\n",
       "      <th>8</th>\n",
       "      <th>9</th>\n",
       "      <th>...</th>\n",
       "      <th>490</th>\n",
       "      <th>491</th>\n",
       "      <th>492</th>\n",
       "      <th>493</th>\n",
       "      <th>494</th>\n",
       "      <th>495</th>\n",
       "      <th>496</th>\n",
       "      <th>497</th>\n",
       "      <th>498</th>\n",
       "      <th>499</th>\n",
       "    </tr>\n",
       "  </thead>\n",
       "  <tbody>\n",
       "    <tr>\n",
       "      <th>0</th>\n",
       "      <td>1.000000</td>\n",
       "      <td>1.000000</td>\n",
       "      <td>1.000000</td>\n",
       "      <td>1.000000</td>\n",
       "      <td>1.000000</td>\n",
       "      <td>1.000000</td>\n",
       "      <td>1.000000</td>\n",
       "      <td>1.000000</td>\n",
       "      <td>1.000000</td>\n",
       "      <td>1.000000</td>\n",
       "      <td>...</td>\n",
       "      <td>1.000000</td>\n",
       "      <td>1.000000</td>\n",
       "      <td>1.000000</td>\n",
       "      <td>1.000000</td>\n",
       "      <td>1.000000</td>\n",
       "      <td>1.000000</td>\n",
       "      <td>1.000000</td>\n",
       "      <td>1.000000</td>\n",
       "      <td>1.000000</td>\n",
       "      <td>1.000000</td>\n",
       "    </tr>\n",
       "    <tr>\n",
       "      <th>1</th>\n",
       "      <td>0.996337</td>\n",
       "      <td>0.989805</td>\n",
       "      <td>1.013861</td>\n",
       "      <td>0.997228</td>\n",
       "      <td>1.018575</td>\n",
       "      <td>0.991061</td>\n",
       "      <td>0.983416</td>\n",
       "      <td>1.003361</td>\n",
       "      <td>1.020749</td>\n",
       "      <td>1.017272</td>\n",
       "      <td>...</td>\n",
       "      <td>1.010351</td>\n",
       "      <td>0.988928</td>\n",
       "      <td>1.001983</td>\n",
       "      <td>1.001974</td>\n",
       "      <td>1.008229</td>\n",
       "      <td>0.998159</td>\n",
       "      <td>0.993740</td>\n",
       "      <td>0.994670</td>\n",
       "      <td>0.996765</td>\n",
       "      <td>1.018361</td>\n",
       "    </tr>\n",
       "    <tr>\n",
       "      <th>2</th>\n",
       "      <td>1.013842</td>\n",
       "      <td>0.982391</td>\n",
       "      <td>1.009872</td>\n",
       "      <td>1.013352</td>\n",
       "      <td>1.007067</td>\n",
       "      <td>0.976392</td>\n",
       "      <td>0.974423</td>\n",
       "      <td>1.009980</td>\n",
       "      <td>1.018163</td>\n",
       "      <td>1.015325</td>\n",
       "      <td>...</td>\n",
       "      <td>1.013693</td>\n",
       "      <td>0.971056</td>\n",
       "      <td>1.018113</td>\n",
       "      <td>1.009166</td>\n",
       "      <td>1.013704</td>\n",
       "      <td>0.985510</td>\n",
       "      <td>1.003717</td>\n",
       "      <td>1.004537</td>\n",
       "      <td>0.994576</td>\n",
       "      <td>1.018585</td>\n",
       "    </tr>\n",
       "    <tr>\n",
       "      <th>3</th>\n",
       "      <td>1.018893</td>\n",
       "      <td>0.973700</td>\n",
       "      <td>0.998947</td>\n",
       "      <td>0.995330</td>\n",
       "      <td>0.997836</td>\n",
       "      <td>0.983181</td>\n",
       "      <td>0.998807</td>\n",
       "      <td>1.014578</td>\n",
       "      <td>1.028221</td>\n",
       "      <td>1.031392</td>\n",
       "      <td>...</td>\n",
       "      <td>1.019961</td>\n",
       "      <td>0.972376</td>\n",
       "      <td>1.020525</td>\n",
       "      <td>0.998933</td>\n",
       "      <td>1.005798</td>\n",
       "      <td>0.992600</td>\n",
       "      <td>1.012115</td>\n",
       "      <td>0.999981</td>\n",
       "      <td>1.003154</td>\n",
       "      <td>0.992282</td>\n",
       "    </tr>\n",
       "    <tr>\n",
       "      <th>4</th>\n",
       "      <td>1.023672</td>\n",
       "      <td>0.978190</td>\n",
       "      <td>1.002648</td>\n",
       "      <td>1.001645</td>\n",
       "      <td>1.003385</td>\n",
       "      <td>0.977734</td>\n",
       "      <td>0.994881</td>\n",
       "      <td>1.018242</td>\n",
       "      <td>1.022225</td>\n",
       "      <td>1.020419</td>\n",
       "      <td>...</td>\n",
       "      <td>1.015944</td>\n",
       "      <td>0.974454</td>\n",
       "      <td>1.022334</td>\n",
       "      <td>0.994637</td>\n",
       "      <td>0.998940</td>\n",
       "      <td>0.994990</td>\n",
       "      <td>1.014345</td>\n",
       "      <td>0.992961</td>\n",
       "      <td>0.993027</td>\n",
       "      <td>0.992401</td>\n",
       "    </tr>\n",
       "    <tr>\n",
       "      <th>...</th>\n",
       "      <td>...</td>\n",
       "      <td>...</td>\n",
       "      <td>...</td>\n",
       "      <td>...</td>\n",
       "      <td>...</td>\n",
       "      <td>...</td>\n",
       "      <td>...</td>\n",
       "      <td>...</td>\n",
       "      <td>...</td>\n",
       "      <td>...</td>\n",
       "      <td>...</td>\n",
       "      <td>...</td>\n",
       "      <td>...</td>\n",
       "      <td>...</td>\n",
       "      <td>...</td>\n",
       "      <td>...</td>\n",
       "      <td>...</td>\n",
       "      <td>...</td>\n",
       "      <td>...</td>\n",
       "      <td>...</td>\n",
       "      <td>...</td>\n",
       "    </tr>\n",
       "    <tr>\n",
       "      <th>2516</th>\n",
       "      <td>3.565488</td>\n",
       "      <td>1.984927</td>\n",
       "      <td>1.762170</td>\n",
       "      <td>2.207600</td>\n",
       "      <td>3.494142</td>\n",
       "      <td>2.009271</td>\n",
       "      <td>2.158971</td>\n",
       "      <td>3.484998</td>\n",
       "      <td>4.144545</td>\n",
       "      <td>2.690130</td>\n",
       "      <td>...</td>\n",
       "      <td>6.898865</td>\n",
       "      <td>3.219693</td>\n",
       "      <td>2.299110</td>\n",
       "      <td>5.427239</td>\n",
       "      <td>3.067945</td>\n",
       "      <td>1.727638</td>\n",
       "      <td>2.315401</td>\n",
       "      <td>3.185001</td>\n",
       "      <td>6.202394</td>\n",
       "      <td>1.396421</td>\n",
       "    </tr>\n",
       "    <tr>\n",
       "      <th>2517</th>\n",
       "      <td>3.523828</td>\n",
       "      <td>1.997429</td>\n",
       "      <td>1.785385</td>\n",
       "      <td>2.214603</td>\n",
       "      <td>3.514812</td>\n",
       "      <td>1.991775</td>\n",
       "      <td>2.182583</td>\n",
       "      <td>3.457321</td>\n",
       "      <td>4.063456</td>\n",
       "      <td>2.716598</td>\n",
       "      <td>...</td>\n",
       "      <td>6.789251</td>\n",
       "      <td>3.220429</td>\n",
       "      <td>2.317327</td>\n",
       "      <td>5.390117</td>\n",
       "      <td>3.088343</td>\n",
       "      <td>1.739330</td>\n",
       "      <td>2.277255</td>\n",
       "      <td>3.191643</td>\n",
       "      <td>6.234692</td>\n",
       "      <td>1.389642</td>\n",
       "    </tr>\n",
       "    <tr>\n",
       "      <th>2518</th>\n",
       "      <td>3.462939</td>\n",
       "      <td>1.981749</td>\n",
       "      <td>1.783765</td>\n",
       "      <td>2.172982</td>\n",
       "      <td>3.440605</td>\n",
       "      <td>2.008183</td>\n",
       "      <td>2.162659</td>\n",
       "      <td>3.444328</td>\n",
       "      <td>4.126388</td>\n",
       "      <td>2.739076</td>\n",
       "      <td>...</td>\n",
       "      <td>6.765864</td>\n",
       "      <td>3.256357</td>\n",
       "      <td>2.315739</td>\n",
       "      <td>5.441392</td>\n",
       "      <td>3.124548</td>\n",
       "      <td>1.741400</td>\n",
       "      <td>2.253442</td>\n",
       "      <td>3.235521</td>\n",
       "      <td>6.238930</td>\n",
       "      <td>1.406564</td>\n",
       "    </tr>\n",
       "    <tr>\n",
       "      <th>2519</th>\n",
       "      <td>3.444261</td>\n",
       "      <td>2.007448</td>\n",
       "      <td>1.791557</td>\n",
       "      <td>2.173827</td>\n",
       "      <td>3.429534</td>\n",
       "      <td>2.038547</td>\n",
       "      <td>2.173512</td>\n",
       "      <td>3.491591</td>\n",
       "      <td>4.155015</td>\n",
       "      <td>2.762704</td>\n",
       "      <td>...</td>\n",
       "      <td>6.768684</td>\n",
       "      <td>3.295710</td>\n",
       "      <td>2.339842</td>\n",
       "      <td>5.432573</td>\n",
       "      <td>3.169161</td>\n",
       "      <td>1.732698</td>\n",
       "      <td>2.247155</td>\n",
       "      <td>3.206498</td>\n",
       "      <td>6.135966</td>\n",
       "      <td>1.395361</td>\n",
       "    </tr>\n",
       "    <tr>\n",
       "      <th>2520</th>\n",
       "      <td>3.437703</td>\n",
       "      <td>2.008674</td>\n",
       "      <td>1.814519</td>\n",
       "      <td>2.185949</td>\n",
       "      <td>3.381277</td>\n",
       "      <td>2.025108</td>\n",
       "      <td>2.181252</td>\n",
       "      <td>3.444189</td>\n",
       "      <td>4.119861</td>\n",
       "      <td>2.771183</td>\n",
       "      <td>...</td>\n",
       "      <td>6.729366</td>\n",
       "      <td>3.270398</td>\n",
       "      <td>2.326267</td>\n",
       "      <td>5.356991</td>\n",
       "      <td>3.107458</td>\n",
       "      <td>1.750792</td>\n",
       "      <td>2.226915</td>\n",
       "      <td>3.224257</td>\n",
       "      <td>6.213497</td>\n",
       "      <td>1.407851</td>\n",
       "    </tr>\n",
       "  </tbody>\n",
       "</table>\n",
       "<p>2521 rows × 500 columns</p>\n",
       "</div>"
      ],
      "text/plain": [
       "           0         1         2         3         4         5         6    \\\n",
       "0     1.000000  1.000000  1.000000  1.000000  1.000000  1.000000  1.000000   \n",
       "1     0.996337  0.989805  1.013861  0.997228  1.018575  0.991061  0.983416   \n",
       "2     1.013842  0.982391  1.009872  1.013352  1.007067  0.976392  0.974423   \n",
       "3     1.018893  0.973700  0.998947  0.995330  0.997836  0.983181  0.998807   \n",
       "4     1.023672  0.978190  1.002648  1.001645  1.003385  0.977734  0.994881   \n",
       "...        ...       ...       ...       ...       ...       ...       ...   \n",
       "2516  3.565488  1.984927  1.762170  2.207600  3.494142  2.009271  2.158971   \n",
       "2517  3.523828  1.997429  1.785385  2.214603  3.514812  1.991775  2.182583   \n",
       "2518  3.462939  1.981749  1.783765  2.172982  3.440605  2.008183  2.162659   \n",
       "2519  3.444261  2.007448  1.791557  2.173827  3.429534  2.038547  2.173512   \n",
       "2520  3.437703  2.008674  1.814519  2.185949  3.381277  2.025108  2.181252   \n",
       "\n",
       "           7         8         9    ...       490       491       492  \\\n",
       "0     1.000000  1.000000  1.000000  ...  1.000000  1.000000  1.000000   \n",
       "1     1.003361  1.020749  1.017272  ...  1.010351  0.988928  1.001983   \n",
       "2     1.009980  1.018163  1.015325  ...  1.013693  0.971056  1.018113   \n",
       "3     1.014578  1.028221  1.031392  ...  1.019961  0.972376  1.020525   \n",
       "4     1.018242  1.022225  1.020419  ...  1.015944  0.974454  1.022334   \n",
       "...        ...       ...       ...  ...       ...       ...       ...   \n",
       "2516  3.484998  4.144545  2.690130  ...  6.898865  3.219693  2.299110   \n",
       "2517  3.457321  4.063456  2.716598  ...  6.789251  3.220429  2.317327   \n",
       "2518  3.444328  4.126388  2.739076  ...  6.765864  3.256357  2.315739   \n",
       "2519  3.491591  4.155015  2.762704  ...  6.768684  3.295710  2.339842   \n",
       "2520  3.444189  4.119861  2.771183  ...  6.729366  3.270398  2.326267   \n",
       "\n",
       "           493       494       495       496       497       498       499  \n",
       "0     1.000000  1.000000  1.000000  1.000000  1.000000  1.000000  1.000000  \n",
       "1     1.001974  1.008229  0.998159  0.993740  0.994670  0.996765  1.018361  \n",
       "2     1.009166  1.013704  0.985510  1.003717  1.004537  0.994576  1.018585  \n",
       "3     0.998933  1.005798  0.992600  1.012115  0.999981  1.003154  0.992282  \n",
       "4     0.994637  0.998940  0.994990  1.014345  0.992961  0.993027  0.992401  \n",
       "...        ...       ...       ...       ...       ...       ...       ...  \n",
       "2516  5.427239  3.067945  1.727638  2.315401  3.185001  6.202394  1.396421  \n",
       "2517  5.390117  3.088343  1.739330  2.277255  3.191643  6.234692  1.389642  \n",
       "2518  5.441392  3.124548  1.741400  2.253442  3.235521  6.238930  1.406564  \n",
       "2519  5.432573  3.169161  1.732698  2.247155  3.206498  6.135966  1.395361  \n",
       "2520  5.356991  3.107458  1.750792  2.226915  3.224257  6.213497  1.407851  \n",
       "\n",
       "[2521 rows x 500 columns]"
      ]
     },
     "execution_count": 43,
     "metadata": {},
     "output_type": "execute_result"
    }
   ],
   "source": [
    "# Run the Monte Carlo simulation to forecast 10 years cumulative returns\n",
    "MC_10_year.calc_cumulative_return()\n"
   ]
  },
  {
   "cell_type": "code",
   "execution_count": 44,
   "metadata": {},
   "outputs": [
    {
     "data": {
      "text/plain": [
       "<AxesSubplot:title={'center':'500 Simulations of Cumulative Portfolio Return Trajectories Over the Next 2520 Trading Days.'}>"
      ]
     },
     "execution_count": 44,
     "metadata": {},
     "output_type": "execute_result"
    },
    {
     "data": {
      "image/png": "[encoded data removed]",
      "text/plain": [
       "<Figure size 432x288 with 1 Axes>"
      ]
     },
     "metadata": {
      "needs_background": "light"
     },
     "output_type": "display_data"
    }
   ],
   "source": [
    "# Visualize the 10-year Monte Carlo simulation by creating an\n",
    "# overlay line plot\n",
    "MC_10_year.plot_simulation()\n"
   ]
  },
  {
   "cell_type": "code",
   "execution_count": 45,
   "metadata": {},
   "outputs": [
    {
     "data": {
      "text/plain": [
       "<AxesSubplot:title={'center':'Distribution of Final Cumuluative Returns Across All 500 Simulations'}, ylabel='Frequency'>"
      ]
     },
     "execution_count": 45,
     "metadata": {},
     "output_type": "execute_result"
    },
    {
     "data": {
      "image/png": "[encoded data removed]",
      "text/plain": [
       "<Figure size 432x288 with 1 Axes>"
      ]
     },
     "metadata": {
      "needs_background": "light"
     },
     "output_type": "display_data"
    }
   ],
   "source": [
    "# Visualize the probability distribution of the 10-year Monte Carlo simulation \n",
    "# by plotting a histogram\n",
    "MC_10_year.plot_distribution()\n"
   ]
  },
  {
   "cell_type": "code",
   "execution_count": 46,
   "metadata": {},
   "outputs": [
    {
     "name": "stdout",
     "output_type": "stream",
     "text": [
      "count           500.000000\n",
      "mean              3.920030\n",
      "std               2.348002\n",
      "min               0.752897\n",
      "25%               2.349121\n",
      "50%               3.360853\n",
      "75%               4.764679\n",
      "max              19.122284\n",
      "95% CI Lower      1.286207\n",
      "95% CI Upper      9.439701\n",
      "Name: 2520, dtype: float64\n"
     ]
    }
   ],
   "source": [
    "# Generate summary statistics from the 10-year Monte Carlo simulation results\n",
    "# Save the results as a variable\n",
    "MC_10_year_summary_statistics = MC_10_year.summarize_cumulative_return()\n",
    "\n",
    "\n",
    "# Review the 10-year Monte Carlo summary statistics\n",
    "print(MC_10_year_summary_statistics)"
   ]
  },
  {
   "cell_type": "markdown",
   "metadata": {},
   "source": [
    "### Answer the following questions:"
   ]
  },
  {
   "cell_type": "markdown",
   "metadata": {},
   "source": [
    "#### Question: Using the current value of only the stock and bond portion of the member's portfolio and the summary statistics that you generated from the new Monte Carlo simulation, what are the lower and upper bounds for the expected value of the portfolio (with the new weights) with a 95% confidence interval?"
   ]
  },
  {
   "cell_type": "code",
   "execution_count": 47,
   "metadata": {},
   "outputs": [
    {
     "name": "stdout",
     "output_type": "stream",
     "text": [
      "The current value of the stock and bond portion of the portfolio is $ 70786.50.\n"
     ]
    }
   ],
   "source": [
    "# Print the current balance of the stock and bond portion of the members portfolio\n",
    "print(f\"The current value of the stock and bond portion of the portfolio is ${total_stocks_bonds: .2f}.\")\n"
   ]
  },
  {
   "cell_type": "code",
   "execution_count": 50,
   "metadata": {},
   "outputs": [
    {
     "name": "stdout",
     "output_type": "stream",
     "text": [
      "With 95% statistical confidence, the range of outcomes for the stock and bond portion\n",
      "of the portfolio for a 10-year simulation is $ 91046.11 to $ 668203.41.\n"
     ]
    }
   ],
   "source": [
    "# Use the lower and upper `95%` confidence intervals to calculate the range of the possible outcomes for the current stock/bond portfolio\n",
    "ci_lower_ten_cumulative_return = MC_10_year_summary_statistics[8] * total_stocks_bonds\n",
    "ci_upper_ten_cumulative_return = MC_10_year_summary_statistics[9] * total_stocks_bonds\n",
    "\n",
    "# Print the result of your calculations\n",
    "print(\"With 95% statistical confidence, the range of outcomes for the stock and bond portion\")\n",
    "print(f\"of the portfolio for a 10-year simulation is ${ci_lower_ten_cumulative_return: .2f}\"\n",
    "      f\" to ${ci_upper_ten_cumulative_return: .2f}.\")\n"
   ]
  },
  {
   "cell_type": "markdown",
   "metadata": {},
   "source": [
    "#### Question: Will weighting the portfolio more heavily to stocks allow the credit union members to retire after only 10 years?"
   ]
  },
  {
   "cell_type": "raw",
   "metadata": {},
   "source": [
    "**Answer** With 95% statistical confidence, the highest potential outcome after 10 years of a stock/bond portfolio weighted 80% to stocks is about $668,000 which is a good return but not enough for a long retirement."
   ]
  },
  {
   "cell_type": "code",
   "execution_count": null,
   "metadata": {},
   "outputs": [],
   "source": []
  }
 ],
 "metadata": {
  "kernelspec": {
   "display_name": "dev",
   "language": "python",
   "name": "dev"
  },
  "language_info": {
   "codemirror_mode": {
    "name": "ipython",
    "version": 3
   },
   "file_extension": ".py",
   "mimetype": "text/x-python",
   "name": "python",
   "nbconvert_exporter": "python",
   "pygments_lexer": "ipython3",
   "version": "3.7.10"
  }
 },
 "nbformat": 4,
 "nbformat_minor": 4
}
