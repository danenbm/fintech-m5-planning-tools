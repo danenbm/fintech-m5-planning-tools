{
 "cells": [
  {
   "cell_type": "markdown",
   "metadata": {},
   "source": [
    "# Financial Planning with APIs and Simulations\n",
    "\n",
    "In this Challenge, you’ll create two financial analysis tools by using a single Jupyter notebook:\n",
    "\n",
    "Part 1: A financial planner for emergencies. The members will be able to use this tool to visualize their current savings. The members can then determine if they have enough reserves for an emergency fund.\n",
    "\n",
    "Part 2: A financial planner for retirement. This tool will forecast the performance of their retirement portfolio in 30 years. To do this, the tool will make an Alpaca API call via the Alpaca SDK to get historical price data for use in Monte Carlo simulations.\n",
    "\n",
    "You’ll use the information from the Monte Carlo simulation to answer questions about the portfolio in your Jupyter notebook.\n",
    "\n"
   ]
  },
  {
   "cell_type": "code",
   "execution_count": 1,
   "metadata": {},
   "outputs": [],
   "source": [
    "# Import the required libraries and dependencies\n",
    "import os\n",
    "import requests\n",
    "import json\n",
    "import pandas as pd\n",
    "from dotenv import load_dotenv\n",
    "import alpaca_trade_api as tradeapi\n",
    "from MCForecastTools import MCSimulation\n",
    "\n",
    "%matplotlib inline"
   ]
  },
  {
   "cell_type": "code",
   "execution_count": 2,
   "metadata": {},
   "outputs": [
    {
     "data": {
      "text/plain": [
       "True"
      ]
     },
     "execution_count": 2,
     "metadata": {},
     "output_type": "execute_result"
    }
   ],
   "source": [
    "# Load the environment variables from the .env file\n",
    "#by calling the load_dotenv function\n",
    "load_dotenv()"
   ]
  },
  {
   "cell_type": "markdown",
   "metadata": {},
   "source": [
    "## Part 1: Create a Financial Planner for Emergencies"
   ]
  },
  {
   "cell_type": "markdown",
   "metadata": {},
   "source": [
    "### Evaluate the Cryptocurrency Wallet by Using the Requests Library\n",
    "\n",
    "In this section, you’ll determine the current value of a member’s cryptocurrency wallet. You’ll collect the current prices for the Bitcoin and Ethereum cryptocurrencies by using the Python Requests library. For the prototype, you’ll assume that the member holds the 1.2 Bitcoins (BTC) and 5.3 Ethereum coins (ETH). To do all this, complete the following steps:\n",
    "\n",
    "1. Create a variable named `monthly_income`, and set its value to `12000`.\n",
    "\n",
    "2. Use the Requests library to get the current price (in US dollars) of Bitcoin (BTC) and Ethereum (ETH) by using the API endpoints that the starter code supplies.\n",
    "\n",
    "3. Navigate the JSON response object to access the current price of each coin, and store each in a variable.\n",
    "\n",
    "    > **Hint** Note the specific identifier for each cryptocurrency in the API JSON response. The Bitcoin identifier is `1`, and the Ethereum identifier is `1027`.\n",
    "\n",
    "4. Calculate the value, in US dollars, of the current amount of each cryptocurrency and of the entire cryptocurrency wallet.\n",
    "\n"
   ]
  },
  {
   "cell_type": "code",
   "execution_count": 3,
   "metadata": {},
   "outputs": [],
   "source": [
    "# The current number of coins for each cryptocurrency asset held in the portfolio.\n",
    "btc_coins = 1.2\n",
    "eth_coins = 5.3"
   ]
  },
  {
   "cell_type": "markdown",
   "metadata": {},
   "source": [
    "#### Step 1: Create a variable named `monthly_income`, and set its value to `12000`."
   ]
  },
  {
   "cell_type": "code",
   "execution_count": 4,
   "metadata": {},
   "outputs": [],
   "source": [
    "# The monthly amount for the member's household income\n",
    "monthly_income = 12000\n"
   ]
  },
  {
   "cell_type": "markdown",
   "metadata": {},
   "source": [
    "#### Review the endpoint URLs for the API calls to Free Crypto API in order to get the current pricing information for both BTC and ETH."
   ]
  },
  {
   "cell_type": "code",
   "execution_count": 5,
   "metadata": {},
   "outputs": [],
   "source": [
    "# The Free Crypto API Call endpoint URLs for the held cryptocurrency assets\n",
    "btc_url = \"https://api.alternative.me/v2/ticker/Bitcoin/?convert=USD\"\n",
    "eth_url = \"https://api.alternative.me/v2/ticker/Ethereum/?convert=USD\""
   ]
  },
  {
   "cell_type": "markdown",
   "metadata": {},
   "source": [
    "#### Step 2. Use the Requests library to get the current price (in US dollars) of Bitcoin (BTC) and Ethereum (ETH) by using the API endpoints that the starter code supplied."
   ]
  },
  {
   "cell_type": "code",
   "execution_count": 6,
   "metadata": {},
   "outputs": [
    {
     "name": "stdout",
     "output_type": "stream",
     "text": [
      "{\n",
      "    \"data\": {\n",
      "        \"1\": {\n",
      "            \"circulating_supply\": 18748300,\n",
      "            \"id\": 1,\n",
      "            \"last_updated\": 1625471080,\n",
      "            \"max_supply\": 21000000,\n",
      "            \"name\": \"Bitcoin\",\n",
      "            \"quotes\": {\n",
      "                \"USD\": {\n",
      "                    \"market_cap\": 642464546174,\n",
      "                    \"percent_change_1h\": -0.335370420462864,\n",
      "                    \"percent_change_24h\": -3.4798771440865,\n",
      "                    \"percent_change_7d\": -0.946375083938824,\n",
      "                    \"percentage_change_1h\": -0.335370420462864,\n",
      "                    \"percentage_change_24h\": -3.4798771440865,\n",
      "                    \"percentage_change_7d\": -0.946375083938824,\n",
      "                    \"price\": 34280.0,\n",
      "                    \"volume_24h\": 23618620320\n",
      "                }\n",
      "            },\n",
      "            \"rank\": 1,\n",
      "            \"symbol\": \"BTC\",\n",
      "            \"total_supply\": 18748300,\n",
      "            \"website_slug\": \"bitcoin\"\n",
      "        }\n",
      "    },\n",
      "    \"metadata\": {\n",
      "        \"error\": null,\n",
      "        \"num_cryptocurrencies\": 1277,\n",
      "        \"timestamp\": 1625471080\n",
      "    }\n",
      "}\n"
     ]
    }
   ],
   "source": [
    "# Using the Python requests library, make an API call to access the current price of BTC\n",
    "btc_response = requests.get(btc_url).json()\n",
    "\n",
    "# Use the json.dumps function to review the response data from the API call\n",
    "# Use the indent and sort_keys parameters to make the response object readable\n",
    "print(json.dumps(btc_response, indent=4, sort_keys=True))\n"
   ]
  },
  {
   "cell_type": "code",
   "execution_count": 7,
   "metadata": {},
   "outputs": [
    {
     "name": "stdout",
     "output_type": "stream",
     "text": [
      "{\n",
      "    \"data\": {\n",
      "        \"1027\": {\n",
      "            \"circulating_supply\": 116565878,\n",
      "            \"id\": 1027,\n",
      "            \"last_updated\": 1625471092,\n",
      "            \"max_supply\": 0,\n",
      "            \"name\": \"Ethereum\",\n",
      "            \"quotes\": {\n",
      "                \"USD\": {\n",
      "                    \"market_cap\": 265265742893,\n",
      "                    \"percent_change_1h\": -0.410522237129546,\n",
      "                    \"percent_change_24h\": -2.55217215331914,\n",
      "                    \"percent_change_7d\": 15.3502829970361,\n",
      "                    \"percentage_change_1h\": -0.410522237129546,\n",
      "                    \"percentage_change_24h\": -2.55217215331914,\n",
      "                    \"percentage_change_7d\": 15.3502829970361,\n",
      "                    \"price\": 2276.93,\n",
      "                    \"volume_24h\": 21662544472\n",
      "                }\n",
      "            },\n",
      "            \"rank\": 2,\n",
      "            \"symbol\": \"ETH\",\n",
      "            \"total_supply\": 116565878,\n",
      "            \"website_slug\": \"ethereum\"\n",
      "        }\n",
      "    },\n",
      "    \"metadata\": {\n",
      "        \"error\": null,\n",
      "        \"num_cryptocurrencies\": 1277,\n",
      "        \"timestamp\": 1625471092\n",
      "    }\n",
      "}\n"
     ]
    }
   ],
   "source": [
    "# Using the Python requests library, make an API call to access the current price ETH\n",
    "eth_response = requests.get(eth_url).json()\n",
    "\n",
    "# Use the json.dumps function to review the response data from the API call\n",
    "# Use the indent and sort_keys parameters to make the response object readable\n",
    "print(json.dumps(eth_response, indent=4, sort_keys=True))\n"
   ]
  },
  {
   "cell_type": "markdown",
   "metadata": {},
   "source": [
    "#### Step 3: Navigate the JSON response object to access the current price of each coin, and store each in a variable."
   ]
  },
  {
   "cell_type": "code",
   "execution_count": 8,
   "metadata": {},
   "outputs": [
    {
     "name": "stdout",
     "output_type": "stream",
     "text": [
      "The current BTC price is $ 34280.00.\n"
     ]
    }
   ],
   "source": [
    "# Navigate the BTC response object to access the current price of BTC\n",
    "btc_price = btc_response[\"data\"][\"1\"][\"quotes\"][\"USD\"][\"price\"]\n",
    "\n",
    "# Print the current price of BTC\n",
    "print(f\"The current BTC price is ${btc_price: .2f}.\")\n"
   ]
  },
  {
   "cell_type": "code",
   "execution_count": 9,
   "metadata": {},
   "outputs": [
    {
     "name": "stdout",
     "output_type": "stream",
     "text": [
      "The current ETH price is $ 2276.93.\n"
     ]
    }
   ],
   "source": [
    "# Navigate the BTC response object to access the current price of ETH\n",
    "eth_price = eth_response[\"data\"][\"1027\"][\"quotes\"][\"USD\"][\"price\"]\n",
    "\n",
    "# Print the current price of ETH\n",
    "print(f\"The current ETH price is ${eth_price: .2f}.\")\n"
   ]
  },
  {
   "cell_type": "markdown",
   "metadata": {},
   "source": [
    "### Step 4: Calculate the value, in US dollars, of the current amount of each cryptocurrency and of the entire cryptocurrency wallet."
   ]
  },
  {
   "cell_type": "code",
   "execution_count": 10,
   "metadata": {},
   "outputs": [
    {
     "name": "stdout",
     "output_type": "stream",
     "text": [
      "The current value of the BTC holding is $ 41136.00.\n"
     ]
    }
   ],
   "source": [
    "# Compute the current value of the BTC holding \n",
    "btc_value = btc_coins * btc_price\n",
    "\n",
    "# Print current value of your holding in BTC\n",
    "print(f\"The current value of the BTC holding is ${btc_value: .2f}.\")\n"
   ]
  },
  {
   "cell_type": "code",
   "execution_count": 11,
   "metadata": {},
   "outputs": [
    {
     "name": "stdout",
     "output_type": "stream",
     "text": [
      "The current value of the ETH holding is $ 12067.73.\n"
     ]
    }
   ],
   "source": [
    "# Compute the current value of the ETH holding \n",
    "eth_value = eth_coins * eth_price\n",
    "\n",
    "# Print current value of your holding in ETH\n",
    "print(f\"The current value of the ETH holding is ${eth_value: .2f}.\")\n"
   ]
  },
  {
   "cell_type": "code",
   "execution_count": 12,
   "metadata": {},
   "outputs": [
    {
     "name": "stdout",
     "output_type": "stream",
     "text": [
      "The current cryptocurrency wallet balance is $ 53203.73.\n"
     ]
    }
   ],
   "source": [
    "# Compute the total value of the cryptocurrency wallet\n",
    "# Add the value of the BTC holding to the value of the ETH holding\n",
    "total_crypto_wallet = btc_value + eth_value\n",
    "\n",
    "# Print current cryptocurrency wallet balance\n",
    "print(f\"The current cryptocurrency wallet balance is ${total_crypto_wallet: .2f}.\")\n"
   ]
  },
  {
   "cell_type": "markdown",
   "metadata": {},
   "source": [
    "### Evaluate the Stock and Bond Holdings by Using the Alpaca SDK\n",
    "\n",
    "In this section, you’ll determine the current value of a member’s stock and bond holdings. You’ll make an API call to Alpaca via the Alpaca SDK to get the current closing prices of the SPDR S&P 500 ETF Trust (ticker: SPY) and of the iShares Core US Aggregate Bond ETF (ticker: AGG). For the prototype, assume that the member holds 110 shares of SPY, which represents the stock portion of their portfolio, and 200 shares of AGG, which represents the bond portion. To do all this, complete the following steps:\n",
    "\n",
    "1. In the `Starter_Code` folder, create an environment file (`.env`) to store the values of your Alpaca API key and Alpaca secret key.\n",
    "\n",
    "2. Set the variables for the Alpaca API and secret keys. Using the Alpaca SDK, create the Alpaca `tradeapi.REST` object. In this object, include the parameters for the Alpaca API key, the secret key, and the version number.\n",
    "\n",
    "3. Set the following parameters for the Alpaca API call:\n",
    "\n",
    "    - `tickers`: Use the tickers for the member’s stock and bond holdings.\n",
    "\n",
    "    - `timeframe`: Use a time frame of one day.\n",
    "\n",
    "    - `start_date` and `end_date`: Use the same date for these parameters, and format them with the date of the previous weekday (or `2020-08-07`). This is because you want the one closing price for the most-recent trading day.\n",
    "\n",
    "4. Get the current closing prices for `SPY` and `AGG` by using the Alpaca `get_barset` function. Format the response as a Pandas DataFrame by including the `df` property at the end of the `get_barset` function.\n",
    "\n",
    "5. Navigating the Alpaca response DataFrame, select the `SPY` and `AGG` closing prices, and store them as variables.\n",
    "\n",
    "6. Calculate the value, in US dollars, of the current amount of shares in each of the stock and bond portions of the portfolio, and print the results.\n"
   ]
  },
  {
   "cell_type": "markdown",
   "metadata": {},
   "source": [
    "#### Review the total number of shares held in both (SPY) and (AGG)."
   ]
  },
  {
   "cell_type": "code",
   "execution_count": 13,
   "metadata": {},
   "outputs": [],
   "source": [
    "# Current amount of shares held in both the stock (SPY) and bond (AGG) portion of the portfolio.\n",
    "spy_shares = 110\n",
    "agg_shares = 200\n"
   ]
  },
  {
   "cell_type": "markdown",
   "metadata": {},
   "source": [
    "#### Step 1: In the `Starter_Code` folder, create an environment file (`.env`) to store the values of your Alpaca API key and Alpaca secret key."
   ]
  },
  {
   "cell_type": "markdown",
   "metadata": {},
   "source": [
    "#### Step 2: Set the variables for the Alpaca API and secret keys. Using the Alpaca SDK, create the Alpaca `tradeapi.REST` object. In this object, include the parameters for the Alpaca API key, the secret key, and the version number."
   ]
  },
  {
   "cell_type": "code",
   "execution_count": 14,
   "metadata": {},
   "outputs": [],
   "source": [
    "# Set the variables for the Alpaca API and secret keys\n",
    "alpaca_api_key = os.getenv(\"ALPACA_API_KEY\")\n",
    "alpaca_secret_key = os.getenv(\"ALPACA_SECRET_KEY\")\n",
    "\n",
    "# Create the Alpaca tradeapi.REST object\n",
    "alpaca = tradeapi.REST(alpaca_api_key, alpaca_secret_key, api_version=\"v2\")\n"
   ]
  },
  {
   "cell_type": "markdown",
   "metadata": {},
   "source": [
    "#### Step 3: Set the following parameters for the Alpaca API call:\n",
    "\n",
    "- `tickers`: Use the tickers for the member’s stock and bond holdings.\n",
    "\n",
    "- `timeframe`: Use a time frame of one day.\n",
    "\n",
    "- `start_date` and `end_date`: Use the same date for these parameters, and format them with the date of the previous weekday (or `2020-08-07`). This is because you want the one closing price for the most-recent trading day.\n"
   ]
  },
  {
   "cell_type": "code",
   "execution_count": 15,
   "metadata": {},
   "outputs": [],
   "source": [
    "# Set the tickers for both the bond and stock portion of the portfolio\n",
    "tickers = [\"SPY\", \"AGG\"]\n",
    "\n",
    "# Set timeframe to 1D \n",
    "timeframe = \"1D\"\n",
    "\n",
    "# Format current date as ISO format\n",
    "# Set both the start and end date at the date of your prior weekday \n",
    "# This will give you the closing price of the previous trading day\n",
    "# Alternatively you can use a start and end date of 2020-08-07\n",
    "start_date = pd.Timestamp(\"2021-07-02\", tz=\"America/New_York\").isoformat()\n",
    "end_date = pd.Timestamp(\"2021-07-02\", tz=\"America/New_York\").isoformat()\n"
   ]
  },
  {
   "cell_type": "markdown",
   "metadata": {},
   "source": [
    "#### Step 4: Get the current closing prices for `SPY` and `AGG` by using the Alpaca `get_barset` function. Format the response as a Pandas DataFrame by including the `df` property at the end of the `get_barset` function."
   ]
  },
  {
   "cell_type": "code",
   "execution_count": 16,
   "metadata": {},
   "outputs": [
    {
     "data": {
      "text/html": [
       "<div>\n",
       "<style scoped>\n",
       "    .dataframe tbody tr th:only-of-type {\n",
       "        vertical-align: middle;\n",
       "    }\n",
       "\n",
       "    .dataframe tbody tr th {\n",
       "        vertical-align: top;\n",
       "    }\n",
       "\n",
       "    .dataframe thead tr th {\n",
       "        text-align: left;\n",
       "    }\n",
       "\n",
       "    .dataframe thead tr:last-of-type th {\n",
       "        text-align: right;\n",
       "    }\n",
       "</style>\n",
       "<table border=\"1\" class=\"dataframe\">\n",
       "  <thead>\n",
       "    <tr>\n",
       "      <th></th>\n",
       "      <th colspan=\"5\" halign=\"left\">AGG</th>\n",
       "      <th colspan=\"5\" halign=\"left\">SPY</th>\n",
       "    </tr>\n",
       "    <tr>\n",
       "      <th></th>\n",
       "      <th>open</th>\n",
       "      <th>high</th>\n",
       "      <th>low</th>\n",
       "      <th>close</th>\n",
       "      <th>volume</th>\n",
       "      <th>open</th>\n",
       "      <th>high</th>\n",
       "      <th>low</th>\n",
       "      <th>close</th>\n",
       "      <th>volume</th>\n",
       "    </tr>\n",
       "    <tr>\n",
       "      <th>time</th>\n",
       "      <th></th>\n",
       "      <th></th>\n",
       "      <th></th>\n",
       "      <th></th>\n",
       "      <th></th>\n",
       "      <th></th>\n",
       "      <th></th>\n",
       "      <th></th>\n",
       "      <th></th>\n",
       "      <th></th>\n",
       "    </tr>\n",
       "  </thead>\n",
       "  <tbody>\n",
       "    <tr>\n",
       "      <th>2021-07-02 00:00:00-04:00</th>\n",
       "      <td>115.23</td>\n",
       "      <td>115.37</td>\n",
       "      <td>115.17</td>\n",
       "      <td>115.37</td>\n",
       "      <td>4219494</td>\n",
       "      <td>431.67</td>\n",
       "      <td>434.1</td>\n",
       "      <td>430.5218</td>\n",
       "      <td>433.75</td>\n",
       "      <td>46557070</td>\n",
       "    </tr>\n",
       "  </tbody>\n",
       "</table>\n",
       "</div>"
      ],
      "text/plain": [
       "                              AGG                                      SPY  \\\n",
       "                             open    high     low   close   volume    open   \n",
       "time                                                                         \n",
       "2021-07-02 00:00:00-04:00  115.23  115.37  115.17  115.37  4219494  431.67   \n",
       "\n",
       "                                                              \n",
       "                            high       low   close    volume  \n",
       "time                                                          \n",
       "2021-07-02 00:00:00-04:00  434.1  430.5218  433.75  46557070  "
      ]
     },
     "execution_count": 16,
     "metadata": {},
     "output_type": "execute_result"
    }
   ],
   "source": [
    "# Use the Alpaca get_barset function to get current closing prices the portfolio\n",
    "# Be sure to set the `df` property after the function to format the response object as a DataFrame\n",
    "df_portfolio = alpaca.get_barset(tickers, timeframe, start=start_date, end=end_date).df\n",
    "\n",
    "# Review the first 5 rows of the Alpaca DataFrame\n",
    "df_portfolio.head()\n"
   ]
  },
  {
   "cell_type": "markdown",
   "metadata": {},
   "source": [
    "#### Step 5: Navigating the Alpaca response DataFrame, select the `SPY` and `AGG` closing prices, and store them as variables."
   ]
  },
  {
   "cell_type": "code",
   "execution_count": 17,
   "metadata": {},
   "outputs": [
    {
     "name": "stdout",
     "output_type": "stream",
     "text": [
      "The AGG closing price is: $ 115.37.\n"
     ]
    }
   ],
   "source": [
    "# Access the closing price for AGG from the Alpaca DataFrame\n",
    "# Converting the value to a floating point number\n",
    "agg_close_price = df_portfolio[\"AGG\"][\"close\"][0]\n",
    "\n",
    "# Print the AGG closing price\n",
    "print(f\"The AGG closing price is: ${agg_close_price: .2f}.\")\n"
   ]
  },
  {
   "cell_type": "code",
   "execution_count": 18,
   "metadata": {},
   "outputs": [
    {
     "name": "stdout",
     "output_type": "stream",
     "text": [
      "The SPY closing price is: $ 433.75.\n"
     ]
    }
   ],
   "source": [
    "# Access the closing price for SPY from the Alpaca DataFrame\n",
    "# Converting the value to a floating point number\n",
    "spy_close_price = df_portfolio[\"SPY\"][\"close\"][0]\n",
    "\n",
    "# Print the SPY closing price\n",
    "print(f\"The SPY closing price is: ${spy_close_price: .2f}.\")\n"
   ]
  },
  {
   "cell_type": "markdown",
   "metadata": {},
   "source": [
    "#### Step 6: Calculate the value, in US dollars, of the current amount of shares in each of the stock and bond portions of the portfolio, and print the results."
   ]
  },
  {
   "cell_type": "code",
   "execution_count": 19,
   "metadata": {},
   "outputs": [
    {
     "name": "stdout",
     "output_type": "stream",
     "text": [
      "The current value of the bond portfolio is $ 23074.00.\n"
     ]
    }
   ],
   "source": [
    "# Calculate the current value of the bond portion of the portfolio\n",
    "agg_value = agg_shares * agg_close_price\n",
    "\n",
    "# Print the current value of the bond portfolio\n",
    "print(f\"The current value of the bond portfolio is ${agg_value: .2f}.\")\n"
   ]
  },
  {
   "cell_type": "code",
   "execution_count": 20,
   "metadata": {},
   "outputs": [
    {
     "name": "stdout",
     "output_type": "stream",
     "text": [
      "The current value of the stock portfolio is $ 47712.50.\n"
     ]
    }
   ],
   "source": [
    "# Calculate the current value of the stock portion of the portfolio\n",
    "spy_value = spy_shares * spy_close_price\n",
    "\n",
    "# Print the current value of the stock portfolio\n",
    "print(f\"The current value of the stock portfolio is ${spy_value: .2f}.\")\n"
   ]
  },
  {
   "cell_type": "code",
   "execution_count": 21,
   "metadata": {},
   "outputs": [
    {
     "name": "stdout",
     "output_type": "stream",
     "text": [
      "The current value of the stock and bond portion of the portfolio is $ 70786.50.\n"
     ]
    }
   ],
   "source": [
    "# Calculate the total value of the stock and bond portion of the portfolio\n",
    "total_stocks_bonds = spy_value + agg_value\n",
    "\n",
    "# Print the current balance of the stock and bond portion of the portfolio\n",
    "print(f\"The current value of the stock and bond portion of the portfolio is ${total_stocks_bonds: .2f}.\")\n"
   ]
  },
  {
   "cell_type": "code",
   "execution_count": 22,
   "metadata": {},
   "outputs": [
    {
     "name": "stdout",
     "output_type": "stream",
     "text": [
      "The total current value of the portfolio is $ 123990.23.\n"
     ]
    }
   ],
   "source": [
    "# Calculate the total value of the member's entire savings portfolio\n",
    "# Add the value of the cryptocurrency walled to the value of the total stocks and bonds\n",
    "total_portfolio = total_crypto_wallet + total_stocks_bonds\n",
    "\n",
    "# Print total portfolio balance\n",
    "print(f\"The total current value of the portfolio is ${total_portfolio: .2f}.\")\n"
   ]
  },
  {
   "cell_type": "markdown",
   "metadata": {},
   "source": [
    "### Evaluate the Emergency Fund\n",
    "\n",
    "In this section, you’ll use the valuations for the cryptocurrency wallet and for the stock and bond portions of the portfolio to determine if the credit union member has enough savings to build an emergency fund into their financial plan. To do this, complete the following steps:\n",
    "\n",
    "1. Create a Python list named `savings_data` that has two elements. The first element contains the total value of the cryptocurrency wallet. The second element contains the total value of the stock and bond portions of the portfolio.\n",
    "\n",
    "2. Use the `savings_data` list to create a Pandas DataFrame named `savings_df`, and then display this DataFrame. The function to create the DataFrame should take the following three parameters:\n",
    "\n",
    "    - `savings_data`: Use the list that you just created.\n",
    "\n",
    "    - `columns`: Set this parameter equal to a Python list with a single value called `amount`.\n",
    "\n",
    "    - `index`: Set this parameter equal to a Python list with the values of `crypto` and `stock/bond`.\n",
    "\n",
    "3. Use the `savings_df` DataFrame to plot a pie chart that visualizes the composition of the member’s portfolio. The y-axis of the pie chart uses `amount`. Be sure to add a title.\n",
    "\n",
    "4. Using Python, determine if the current portfolio has enough to create an emergency fund as part of the member’s financial plan. Ideally, an emergency fund should equal to three times the member’s monthly income. To do this, implement the following steps:\n",
    "\n",
    "    1. Create a variable named `emergency_fund_value`, and set it equal to three times the value of the member’s `monthly_income` of $12000. (You set this earlier in Part 1).\n",
    "\n",
    "    2. Create a series of three if statements to determine if the member’s total portfolio is large enough to fund the emergency portfolio:\n",
    "\n",
    "        1. If the total portfolio value is greater than the emergency fund value, display a message congratulating the member for having enough money in this fund.\n",
    "\n",
    "        2. Else if the total portfolio value is equal to the emergency fund value, display a message congratulating the member on reaching this important financial goal.\n",
    "\n",
    "        3. Else the total portfolio is less than the emergency fund value, so display a message showing how many dollars away the member is from reaching the goal. (Subtract the total portfolio value from the emergency fund value.)\n"
   ]
  },
  {
   "cell_type": "markdown",
   "metadata": {},
   "source": [
    "#### Step 1: Create a Python list named `savings_data` that has two elements. The first element contains the total value of the cryptocurrency wallet. The second element contains the total value of the stock and bond portions of the portfolio."
   ]
  },
  {
   "cell_type": "code",
   "execution_count": 23,
   "metadata": {},
   "outputs": [
    {
     "name": "stdout",
     "output_type": "stream",
     "text": [
      "Savings data: [53203.729, 70786.5]\n"
     ]
    }
   ],
   "source": [
    "# Consolidate financial assets data into a Python list\n",
    "savings_data = [total_crypto_wallet, total_stocks_bonds]\n",
    "\n",
    "# Review the Python list savings_data\n",
    "print(f\"Savings data: {savings_data}\")\n",
    "    "
   ]
  },
  {
   "cell_type": "markdown",
   "metadata": {},
   "source": [
    "#### Step 2: Use the `savings_data` list to create a Pandas DataFrame named `savings_df`, and then display this DataFrame. The function to create the DataFrame should take the following three parameters:\n",
    "\n",
    "- `savings_data`: Use the list that you just created.\n",
    "\n",
    "- `columns`: Set this parameter equal to a Python list with a single value called `amount`.\n",
    "\n",
    "- `index`: Set this parameter equal to a Python list with the values of `crypto` and `stock/bond`.\n"
   ]
  },
  {
   "cell_type": "code",
   "execution_count": 24,
   "metadata": {},
   "outputs": [
    {
     "data": {
      "text/html": [
       "<div>\n",
       "<style scoped>\n",
       "    .dataframe tbody tr th:only-of-type {\n",
       "        vertical-align: middle;\n",
       "    }\n",
       "\n",
       "    .dataframe tbody tr th {\n",
       "        vertical-align: top;\n",
       "    }\n",
       "\n",
       "    .dataframe thead th {\n",
       "        text-align: right;\n",
       "    }\n",
       "</style>\n",
       "<table border=\"1\" class=\"dataframe\">\n",
       "  <thead>\n",
       "    <tr style=\"text-align: right;\">\n",
       "      <th></th>\n",
       "      <th>amount</th>\n",
       "    </tr>\n",
       "  </thead>\n",
       "  <tbody>\n",
       "    <tr>\n",
       "      <th>crypto</th>\n",
       "      <td>53203.729</td>\n",
       "    </tr>\n",
       "    <tr>\n",
       "      <th>stock/bond</th>\n",
       "      <td>70786.500</td>\n",
       "    </tr>\n",
       "  </tbody>\n",
       "</table>\n",
       "</div>"
      ],
      "text/plain": [
       "               amount\n",
       "crypto      53203.729\n",
       "stock/bond  70786.500"
      ]
     },
     "execution_count": 24,
     "metadata": {},
     "output_type": "execute_result"
    }
   ],
   "source": [
    "# Create a Pandas DataFrame called savings_df \n",
    "savings_df = pd.DataFrame(savings_data, columns=[\"amount\"], index=[\"crypto\", \"stock/bond\"])\n",
    "\n",
    "# Display the savings_df DataFrame\n",
    "savings_df\n"
   ]
  },
  {
   "cell_type": "markdown",
   "metadata": {},
   "source": [
    "#### Step 3: Use the `savings_df` DataFrame to plot a pie chart that visualizes the composition of the member’s portfolio. The y-axis of the pie chart uses `amount`. Be sure to add a title."
   ]
  },
  {
   "cell_type": "code",
   "execution_count": 25,
   "metadata": {},
   "outputs": [
    {
     "data": {
      "text/plain": [
       "<AxesSubplot:title={'center':'Member Portfolio Composition'}, ylabel='amount'>"
      ]
     },
     "execution_count": 25,
     "metadata": {},
     "output_type": "execute_result"
    },
    {
     "data": {
      "image/png": "[encoded data removed]",
      "text/plain": [
       "<Figure size 432x288 with 1 Axes>"
      ]
     },
     "metadata": {},
     "output_type": "display_data"
    }
   ],
   "source": [
    "# Plot the total value of the member's portfolio (crypto and stock/bond) in a pie chart\n",
    "savings_df.plot.pie(y='amount', title=\"Member Portfolio Composition\")\n"
   ]
  },
  {
   "cell_type": "markdown",
   "metadata": {},
   "source": [
    "#### Step 4: Using Python, determine if the current portfolio has enough to create an emergency fund as part of the member’s financial plan. Ideally, an emergency fund should equal to three times the member’s monthly income. To do this, implement the following steps:\n",
    "\n",
    "Step 1. Create a variable named `emergency_fund_value`, and set it equal to three times the value of the member’s `monthly_income` of 12000. (You set this earlier in Part 1).\n",
    "\n",
    "Step 2. Create a series of three if statements to determine if the member’s total portfolio is large enough to fund the emergency portfolio:\n",
    "\n",
    "* If the total portfolio value is greater than the emergency fund value, display a message congratulating the member for having enough money in this fund.\n",
    "\n",
    "* Else if the total portfolio value is equal to the emergency fund value, display a message congratulating the member on reaching this important financial goal.\n",
    "\n",
    "* Else the total portfolio is less than the emergency fund value, so display a message showing how many dollars away the member is from reaching the goal. (Subtract the total portfolio value from the emergency fund value.)\n"
   ]
  },
  {
   "cell_type": "markdown",
   "metadata": {},
   "source": [
    "##### Step 4-1: Create a variable named `emergency_fund_value`, and set it equal to three times the value of the member’s `monthly_income` of 12000. (You set this earlier in Part 1)."
   ]
  },
  {
   "cell_type": "code",
   "execution_count": 26,
   "metadata": {},
   "outputs": [],
   "source": [
    "# Create a variable named emergency_fund_value\n",
    "emergency_fund_value = 3 * monthly_income\n"
   ]
  },
  {
   "cell_type": "markdown",
   "metadata": {},
   "source": [
    "##### Step 4-2: Create a series of three if statements to determine if the member’s total portfolio is large enough to fund the emergency portfolio:\n",
    "\n",
    "* If the total portfolio value is greater than the emergency fund value, display a message congratulating the member for having enough money in this fund.\n",
    "\n",
    "* Else if the total portfolio value is equal to the emergency fund value, display a message congratulating the member on reaching this important financial goal.\n",
    "\n",
    "* Else the total portfolio is less than the emergency fund value, so display a message showing how many dollars away the member is from reaching the goal. (Subtract the total portfolio value from the emergency fund value.)"
   ]
  },
  {
   "cell_type": "code",
   "execution_count": 44,
   "metadata": {},
   "outputs": [
    {
     "name": "stdout",
     "output_type": "stream",
     "text": [
      "Congratulations!  You have more than enough saved to fund an emergency fund portfolio.\n"
     ]
    }
   ],
   "source": [
    "# Evaluate the possibility of creating an emergency fund with 3 conditions:\n",
    "if (total_portfolio > emergency_fund_value):\n",
    "    print(\"Congratulations!  You have more than enough saved to fund an emergency fund portfolio.\")\n",
    "elif (total_portfolio == emergency_fund_value):\n",
    "    print(\"Congratulations! You have reached the specific recommended amount required for an emergency fund.\")\n",
    "else:\n",
    "    print(f\"${(emergency_fund_value - total_portfolio): .2f} more is needed before reaching the amount required for an emergency fund.\")\n"
   ]
  },
  {
   "cell_type": "markdown",
   "metadata": {},
   "source": [
    "## Part 2: Create a Financial Planner for Retirement"
   ]
  },
  {
   "cell_type": "markdown",
   "metadata": {},
   "source": [
    "### Create the Monte Carlo Simulation\n",
    "\n",
    "In this section, you’ll use the MCForecastTools library to create a Monte Carlo simulation for the member’s savings portfolio. To do this, complete the following steps:\n",
    "\n",
    "1. Make an API call via the Alpaca SDK to get 10 years of historical closing prices for a traditional 60/40 portfolio split: 60% stocks (SPY) and 40% bonds (AGG).\n",
    "\n",
    "2. Run a Monte Carlo simulation of 500 samples and 30 years for the 60/40 portfolio, and then plot the results.The following image shows the overlay line plot resulting from a simulation with these characteristics. However, because a random number generator is used to run each live Monte Carlo simulation, your image will differ slightly from this exact image:\n",
    "\n",
    "![A screenshot depicts the resulting plot.](Images/5-4-monte-carlo-line-plot.png)\n",
    "\n",
    "3. Plot the probability distribution of the Monte Carlo simulation. Plot the probability distribution of the Monte Carlo simulation. The following image shows the histogram plot resulting from a simulation with these characteristics. However, because a random number generator is used to run each live Monte Carlo simulation, your image will differ slightly from this exact image:\n",
    "\n",
    "![A screenshot depicts the histogram plot.](Images/5-4-monte-carlo-histogram.png)\n",
    "\n",
    "4. Generate the summary statistics for the Monte Carlo simulation.\n",
    "\n"
   ]
  },
  {
   "cell_type": "markdown",
   "metadata": {},
   "source": [
    "#### Step 1: Make an API call via the Alpaca SDK to get 10 years of historical closing prices for a traditional 60/40 portfolio split: 60% stocks (SPY) and 40% bonds (AGG)."
   ]
  },
  {
   "cell_type": "code",
   "execution_count": 28,
   "metadata": {},
   "outputs": [],
   "source": [
    "# Set start and end dates of 10 years back from your current date\n",
    "start_date = pd.Timestamp(\"2011-07-02\", tz=\"America/New_York\").isoformat()\n",
    "end_date = pd.Timestamp(\"2021-07-02\", tz=\"America/New_York\").isoformat()\n"
   ]
  },
  {
   "cell_type": "code",
   "execution_count": 29,
   "metadata": {},
   "outputs": [
    {
     "data": {
      "text/html": [
       "<div>\n",
       "<style scoped>\n",
       "    .dataframe tbody tr th:only-of-type {\n",
       "        vertical-align: middle;\n",
       "    }\n",
       "\n",
       "    .dataframe tbody tr th {\n",
       "        vertical-align: top;\n",
       "    }\n",
       "\n",
       "    .dataframe thead tr th {\n",
       "        text-align: left;\n",
       "    }\n",
       "\n",
       "    .dataframe thead tr:last-of-type th {\n",
       "        text-align: right;\n",
       "    }\n",
       "</style>\n",
       "<table border=\"1\" class=\"dataframe\">\n",
       "  <thead>\n",
       "    <tr>\n",
       "      <th></th>\n",
       "      <th colspan=\"5\" halign=\"left\">AGG</th>\n",
       "      <th colspan=\"5\" halign=\"left\">SPY</th>\n",
       "    </tr>\n",
       "    <tr>\n",
       "      <th></th>\n",
       "      <th>open</th>\n",
       "      <th>high</th>\n",
       "      <th>low</th>\n",
       "      <th>close</th>\n",
       "      <th>volume</th>\n",
       "      <th>open</th>\n",
       "      <th>high</th>\n",
       "      <th>low</th>\n",
       "      <th>close</th>\n",
       "      <th>volume</th>\n",
       "    </tr>\n",
       "    <tr>\n",
       "      <th>time</th>\n",
       "      <th></th>\n",
       "      <th></th>\n",
       "      <th></th>\n",
       "      <th></th>\n",
       "      <th></th>\n",
       "      <th></th>\n",
       "      <th></th>\n",
       "      <th></th>\n",
       "      <th></th>\n",
       "      <th></th>\n",
       "    </tr>\n",
       "  </thead>\n",
       "  <tbody>\n",
       "    <tr>\n",
       "      <th>2017-07-13 00:00:00-04:00</th>\n",
       "      <td>109.29</td>\n",
       "      <td>109.3118</td>\n",
       "      <td>109.13</td>\n",
       "      <td>109.24</td>\n",
       "      <td>1432660.0</td>\n",
       "      <td>NaN</td>\n",
       "      <td>NaN</td>\n",
       "      <td>NaN</td>\n",
       "      <td>NaN</td>\n",
       "      <td>NaN</td>\n",
       "    </tr>\n",
       "    <tr>\n",
       "      <th>2017-07-14 00:00:00-04:00</th>\n",
       "      <td>109.54</td>\n",
       "      <td>109.5600</td>\n",
       "      <td>109.29</td>\n",
       "      <td>109.36</td>\n",
       "      <td>1744770.0</td>\n",
       "      <td>244.42</td>\n",
       "      <td>245.97</td>\n",
       "      <td>244.31</td>\n",
       "      <td>245.54</td>\n",
       "      <td>40758038.0</td>\n",
       "    </tr>\n",
       "    <tr>\n",
       "      <th>2017-07-17 00:00:00-04:00</th>\n",
       "      <td>109.40</td>\n",
       "      <td>109.4800</td>\n",
       "      <td>109.32</td>\n",
       "      <td>109.41</td>\n",
       "      <td>1910544.0</td>\n",
       "      <td>245.47</td>\n",
       "      <td>245.91</td>\n",
       "      <td>245.33</td>\n",
       "      <td>245.51</td>\n",
       "      <td>22378971.0</td>\n",
       "    </tr>\n",
       "    <tr>\n",
       "      <th>2017-07-18 00:00:00-04:00</th>\n",
       "      <td>109.64</td>\n",
       "      <td>109.7100</td>\n",
       "      <td>109.58</td>\n",
       "      <td>109.68</td>\n",
       "      <td>2471170.0</td>\n",
       "      <td>245.06</td>\n",
       "      <td>245.72</td>\n",
       "      <td>244.67</td>\n",
       "      <td>245.69</td>\n",
       "      <td>31695494.0</td>\n",
       "    </tr>\n",
       "    <tr>\n",
       "      <th>2017-07-19 00:00:00-04:00</th>\n",
       "      <td>109.72</td>\n",
       "      <td>109.7500</td>\n",
       "      <td>109.63</td>\n",
       "      <td>109.70</td>\n",
       "      <td>1405289.0</td>\n",
       "      <td>246.02</td>\n",
       "      <td>247.00</td>\n",
       "      <td>246.01</td>\n",
       "      <td>246.99</td>\n",
       "      <td>31007738.0</td>\n",
       "    </tr>\n",
       "  </tbody>\n",
       "</table>\n",
       "</div>"
      ],
      "text/plain": [
       "                              AGG                                       \\\n",
       "                             open      high     low   close     volume   \n",
       "time                                                                     \n",
       "2017-07-13 00:00:00-04:00  109.29  109.3118  109.13  109.24  1432660.0   \n",
       "2017-07-14 00:00:00-04:00  109.54  109.5600  109.29  109.36  1744770.0   \n",
       "2017-07-17 00:00:00-04:00  109.40  109.4800  109.32  109.41  1910544.0   \n",
       "2017-07-18 00:00:00-04:00  109.64  109.7100  109.58  109.68  2471170.0   \n",
       "2017-07-19 00:00:00-04:00  109.72  109.7500  109.63  109.70  1405289.0   \n",
       "\n",
       "                              SPY                                      \n",
       "                             open    high     low   close      volume  \n",
       "time                                                                   \n",
       "2017-07-13 00:00:00-04:00     NaN     NaN     NaN     NaN         NaN  \n",
       "2017-07-14 00:00:00-04:00  244.42  245.97  244.31  245.54  40758038.0  \n",
       "2017-07-17 00:00:00-04:00  245.47  245.91  245.33  245.51  22378971.0  \n",
       "2017-07-18 00:00:00-04:00  245.06  245.72  244.67  245.69  31695494.0  \n",
       "2017-07-19 00:00:00-04:00  246.02  247.00  246.01  246.99  31007738.0  "
      ]
     },
     "metadata": {},
     "output_type": "display_data"
    },
    {
     "data": {
      "text/html": [
       "<div>\n",
       "<style scoped>\n",
       "    .dataframe tbody tr th:only-of-type {\n",
       "        vertical-align: middle;\n",
       "    }\n",
       "\n",
       "    .dataframe tbody tr th {\n",
       "        vertical-align: top;\n",
       "    }\n",
       "\n",
       "    .dataframe thead tr th {\n",
       "        text-align: left;\n",
       "    }\n",
       "\n",
       "    .dataframe thead tr:last-of-type th {\n",
       "        text-align: right;\n",
       "    }\n",
       "</style>\n",
       "<table border=\"1\" class=\"dataframe\">\n",
       "  <thead>\n",
       "    <tr>\n",
       "      <th></th>\n",
       "      <th colspan=\"5\" halign=\"left\">AGG</th>\n",
       "      <th colspan=\"5\" halign=\"left\">SPY</th>\n",
       "    </tr>\n",
       "    <tr>\n",
       "      <th></th>\n",
       "      <th>open</th>\n",
       "      <th>high</th>\n",
       "      <th>low</th>\n",
       "      <th>close</th>\n",
       "      <th>volume</th>\n",
       "      <th>open</th>\n",
       "      <th>high</th>\n",
       "      <th>low</th>\n",
       "      <th>close</th>\n",
       "      <th>volume</th>\n",
       "    </tr>\n",
       "    <tr>\n",
       "      <th>time</th>\n",
       "      <th></th>\n",
       "      <th></th>\n",
       "      <th></th>\n",
       "      <th></th>\n",
       "      <th></th>\n",
       "      <th></th>\n",
       "      <th></th>\n",
       "      <th></th>\n",
       "      <th></th>\n",
       "      <th></th>\n",
       "    </tr>\n",
       "  </thead>\n",
       "  <tbody>\n",
       "    <tr>\n",
       "      <th>2021-06-28 00:00:00-04:00</th>\n",
       "      <td>115.04</td>\n",
       "      <td>115.23</td>\n",
       "      <td>115.040</td>\n",
       "      <td>115.160</td>\n",
       "      <td>5523690.0</td>\n",
       "      <td>427.17</td>\n",
       "      <td>427.65</td>\n",
       "      <td>425.8900</td>\n",
       "      <td>427.48</td>\n",
       "      <td>43937373.0</td>\n",
       "    </tr>\n",
       "    <tr>\n",
       "      <th>2021-06-29 00:00:00-04:00</th>\n",
       "      <td>115.06</td>\n",
       "      <td>115.25</td>\n",
       "      <td>115.045</td>\n",
       "      <td>115.250</td>\n",
       "      <td>3469405.0</td>\n",
       "      <td>427.89</td>\n",
       "      <td>428.56</td>\n",
       "      <td>427.1300</td>\n",
       "      <td>427.68</td>\n",
       "      <td>32097572.0</td>\n",
       "    </tr>\n",
       "    <tr>\n",
       "      <th>2021-06-30 00:00:00-04:00</th>\n",
       "      <td>115.36</td>\n",
       "      <td>115.45</td>\n",
       "      <td>115.300</td>\n",
       "      <td>115.350</td>\n",
       "      <td>5984381.0</td>\n",
       "      <td>427.20</td>\n",
       "      <td>428.78</td>\n",
       "      <td>427.1800</td>\n",
       "      <td>428.08</td>\n",
       "      <td>46776402.0</td>\n",
       "    </tr>\n",
       "    <tr>\n",
       "      <th>2021-07-01 00:00:00-04:00</th>\n",
       "      <td>115.15</td>\n",
       "      <td>115.19</td>\n",
       "      <td>115.010</td>\n",
       "      <td>115.115</td>\n",
       "      <td>4439326.0</td>\n",
       "      <td>428.83</td>\n",
       "      <td>430.60</td>\n",
       "      <td>428.8000</td>\n",
       "      <td>430.47</td>\n",
       "      <td>44147835.0</td>\n",
       "    </tr>\n",
       "    <tr>\n",
       "      <th>2021-07-02 00:00:00-04:00</th>\n",
       "      <td>115.23</td>\n",
       "      <td>115.37</td>\n",
       "      <td>115.170</td>\n",
       "      <td>115.370</td>\n",
       "      <td>4219494.0</td>\n",
       "      <td>431.67</td>\n",
       "      <td>434.10</td>\n",
       "      <td>430.5218</td>\n",
       "      <td>433.75</td>\n",
       "      <td>46557070.0</td>\n",
       "    </tr>\n",
       "  </tbody>\n",
       "</table>\n",
       "</div>"
      ],
      "text/plain": [
       "                              AGG                                       \\\n",
       "                             open    high      low    close     volume   \n",
       "time                                                                     \n",
       "2021-06-28 00:00:00-04:00  115.04  115.23  115.040  115.160  5523690.0   \n",
       "2021-06-29 00:00:00-04:00  115.06  115.25  115.045  115.250  3469405.0   \n",
       "2021-06-30 00:00:00-04:00  115.36  115.45  115.300  115.350  5984381.0   \n",
       "2021-07-01 00:00:00-04:00  115.15  115.19  115.010  115.115  4439326.0   \n",
       "2021-07-02 00:00:00-04:00  115.23  115.37  115.170  115.370  4219494.0   \n",
       "\n",
       "                              SPY                                        \n",
       "                             open    high       low   close      volume  \n",
       "time                                                                     \n",
       "2021-06-28 00:00:00-04:00  427.17  427.65  425.8900  427.48  43937373.0  \n",
       "2021-06-29 00:00:00-04:00  427.89  428.56  427.1300  427.68  32097572.0  \n",
       "2021-06-30 00:00:00-04:00  427.20  428.78  427.1800  428.08  46776402.0  \n",
       "2021-07-01 00:00:00-04:00  428.83  430.60  428.8000  430.47  44147835.0  \n",
       "2021-07-02 00:00:00-04:00  431.67  434.10  430.5218  433.75  46557070.0  "
      ]
     },
     "metadata": {},
     "output_type": "display_data"
    }
   ],
   "source": [
    "# Use the Alpaca get_barset function to make the API call to get the 10 years worth of pricing data\n",
    "\n",
    "# Note in practice we are not able to get any more than 1000 data points, so our dataset is limited\n",
    "# to about 4 years worth of data!!!\n",
    "\n",
    "# The tickers and timeframe parameters should have been set in Part 1 of this activity \n",
    "# The start and end dates should be updated with the information set above\n",
    "# Remember to add the df property to the end of the call so the response is returned as a DataFrame\n",
    "df_portfolio = alpaca.get_barset(tickers, timeframe, start=start_date, end=end_date, limit=1000).df\n",
    "\n",
    "\n",
    "# Display both the first and last five rows of the DataFrame\n",
    "display(df_portfolio.head())\n",
    "display(df_portfolio.tail())\n"
   ]
  },
  {
   "cell_type": "markdown",
   "metadata": {},
   "source": [
    "#### Step 2: Run a Monte Carlo simulation of 500 samples and 30 years for the 60/40 portfolio, and then plot the results."
   ]
  },
  {
   "cell_type": "code",
   "execution_count": 30,
   "metadata": {},
   "outputs": [
    {
     "data": {
      "text/html": [
       "<div>\n",
       "<style scoped>\n",
       "    .dataframe tbody tr th:only-of-type {\n",
       "        vertical-align: middle;\n",
       "    }\n",
       "\n",
       "    .dataframe tbody tr th {\n",
       "        vertical-align: top;\n",
       "    }\n",
       "\n",
       "    .dataframe thead tr th {\n",
       "        text-align: left;\n",
       "    }\n",
       "\n",
       "    .dataframe thead tr:last-of-type th {\n",
       "        text-align: right;\n",
       "    }\n",
       "</style>\n",
       "<table border=\"1\" class=\"dataframe\">\n",
       "  <thead>\n",
       "    <tr>\n",
       "      <th></th>\n",
       "      <th colspan=\"6\" halign=\"left\">AGG</th>\n",
       "      <th colspan=\"6\" halign=\"left\">SPY</th>\n",
       "    </tr>\n",
       "    <tr>\n",
       "      <th></th>\n",
       "      <th>open</th>\n",
       "      <th>high</th>\n",
       "      <th>low</th>\n",
       "      <th>close</th>\n",
       "      <th>volume</th>\n",
       "      <th>daily_return</th>\n",
       "      <th>open</th>\n",
       "      <th>high</th>\n",
       "      <th>low</th>\n",
       "      <th>close</th>\n",
       "      <th>volume</th>\n",
       "      <th>daily_return</th>\n",
       "    </tr>\n",
       "    <tr>\n",
       "      <th>time</th>\n",
       "      <th></th>\n",
       "      <th></th>\n",
       "      <th></th>\n",
       "      <th></th>\n",
       "      <th></th>\n",
       "      <th></th>\n",
       "      <th></th>\n",
       "      <th></th>\n",
       "      <th></th>\n",
       "      <th></th>\n",
       "      <th></th>\n",
       "      <th></th>\n",
       "    </tr>\n",
       "  </thead>\n",
       "  <tbody>\n",
       "    <tr>\n",
       "      <th>2017-07-13 00:00:00-04:00</th>\n",
       "      <td>109.29</td>\n",
       "      <td>109.3118</td>\n",
       "      <td>109.13</td>\n",
       "      <td>109.24</td>\n",
       "      <td>1432660.0</td>\n",
       "      <td>NaN</td>\n",
       "      <td>NaN</td>\n",
       "      <td>NaN</td>\n",
       "      <td>NaN</td>\n",
       "      <td>NaN</td>\n",
       "      <td>NaN</td>\n",
       "      <td>NaN</td>\n",
       "    </tr>\n",
       "    <tr>\n",
       "      <th>2017-07-14 00:00:00-04:00</th>\n",
       "      <td>109.54</td>\n",
       "      <td>109.5600</td>\n",
       "      <td>109.29</td>\n",
       "      <td>109.36</td>\n",
       "      <td>1744770.0</td>\n",
       "      <td>0.001098</td>\n",
       "      <td>244.42</td>\n",
       "      <td>245.97</td>\n",
       "      <td>244.31</td>\n",
       "      <td>245.54</td>\n",
       "      <td>40758038.0</td>\n",
       "      <td>NaN</td>\n",
       "    </tr>\n",
       "    <tr>\n",
       "      <th>2017-07-17 00:00:00-04:00</th>\n",
       "      <td>109.40</td>\n",
       "      <td>109.4800</td>\n",
       "      <td>109.32</td>\n",
       "      <td>109.41</td>\n",
       "      <td>1910544.0</td>\n",
       "      <td>0.000457</td>\n",
       "      <td>245.47</td>\n",
       "      <td>245.91</td>\n",
       "      <td>245.33</td>\n",
       "      <td>245.51</td>\n",
       "      <td>22378971.0</td>\n",
       "      <td>-0.000122</td>\n",
       "    </tr>\n",
       "    <tr>\n",
       "      <th>2017-07-18 00:00:00-04:00</th>\n",
       "      <td>109.64</td>\n",
       "      <td>109.7100</td>\n",
       "      <td>109.58</td>\n",
       "      <td>109.68</td>\n",
       "      <td>2471170.0</td>\n",
       "      <td>0.002468</td>\n",
       "      <td>245.06</td>\n",
       "      <td>245.72</td>\n",
       "      <td>244.67</td>\n",
       "      <td>245.69</td>\n",
       "      <td>31695494.0</td>\n",
       "      <td>0.000733</td>\n",
       "    </tr>\n",
       "    <tr>\n",
       "      <th>2017-07-19 00:00:00-04:00</th>\n",
       "      <td>109.72</td>\n",
       "      <td>109.7500</td>\n",
       "      <td>109.63</td>\n",
       "      <td>109.70</td>\n",
       "      <td>1405289.0</td>\n",
       "      <td>0.000182</td>\n",
       "      <td>246.02</td>\n",
       "      <td>247.00</td>\n",
       "      <td>246.01</td>\n",
       "      <td>246.99</td>\n",
       "      <td>31007738.0</td>\n",
       "      <td>0.005291</td>\n",
       "    </tr>\n",
       "  </tbody>\n",
       "</table>\n",
       "</div>"
      ],
      "text/plain": [
       "                              AGG                                       \\\n",
       "                             open      high     low   close     volume   \n",
       "time                                                                     \n",
       "2017-07-13 00:00:00-04:00  109.29  109.3118  109.13  109.24  1432660.0   \n",
       "2017-07-14 00:00:00-04:00  109.54  109.5600  109.29  109.36  1744770.0   \n",
       "2017-07-17 00:00:00-04:00  109.40  109.4800  109.32  109.41  1910544.0   \n",
       "2017-07-18 00:00:00-04:00  109.64  109.7100  109.58  109.68  2471170.0   \n",
       "2017-07-19 00:00:00-04:00  109.72  109.7500  109.63  109.70  1405289.0   \n",
       "\n",
       "                                           SPY                          \\\n",
       "                          daily_return    open    high     low   close   \n",
       "time                                                                     \n",
       "2017-07-13 00:00:00-04:00          NaN     NaN     NaN     NaN     NaN   \n",
       "2017-07-14 00:00:00-04:00     0.001098  244.42  245.97  244.31  245.54   \n",
       "2017-07-17 00:00:00-04:00     0.000457  245.47  245.91  245.33  245.51   \n",
       "2017-07-18 00:00:00-04:00     0.002468  245.06  245.72  244.67  245.69   \n",
       "2017-07-19 00:00:00-04:00     0.000182  246.02  247.00  246.01  246.99   \n",
       "\n",
       "                                                    \n",
       "                               volume daily_return  \n",
       "time                                                \n",
       "2017-07-13 00:00:00-04:00         NaN          NaN  \n",
       "2017-07-14 00:00:00-04:00  40758038.0          NaN  \n",
       "2017-07-17 00:00:00-04:00  22378971.0    -0.000122  \n",
       "2017-07-18 00:00:00-04:00  31695494.0     0.000733  \n",
       "2017-07-19 00:00:00-04:00  31007738.0     0.005291  "
      ]
     },
     "execution_count": 30,
     "metadata": {},
     "output_type": "execute_result"
    }
   ],
   "source": [
    "# Configure the Monte Carlo simulation to forecast 30 years cumulative returns\n",
    "# The weights should be split 40% to AGG and 60% to SPY.\n",
    "# Run 500 samples.\n",
    "mc_30_year = MCSimulation(\n",
    "    portfolio_data=df_portfolio,\n",
    "    weights=[.4, .6],\n",
    "    num_simulation=500,\n",
    "    num_trading_days=252*30\n",
    ")\n",
    "\n",
    "# Review the simulation input data\n",
    "mc_30_year.portfolio_data.head()\n"
   ]
  },
  {
   "cell_type": "code",
   "execution_count": 31,
   "metadata": {},
   "outputs": [
    {
     "name": "stdout",
     "output_type": "stream",
     "text": [
      "Running Monte Carlo simulation number 0.\n",
      "Running Monte Carlo simulation number 10.\n",
      "Running Monte Carlo simulation number 20.\n",
      "Running Monte Carlo simulation number 30.\n",
      "Running Monte Carlo simulation number 40.\n",
      "Running Monte Carlo simulation number 50.\n",
      "Running Monte Carlo simulation number 60.\n",
      "Running Monte Carlo simulation number 70.\n",
      "Running Monte Carlo simulation number 80.\n",
      "Running Monte Carlo simulation number 90.\n",
      "Running Monte Carlo simulation number 100.\n",
      "Running Monte Carlo simulation number 110.\n",
      "Running Monte Carlo simulation number 120.\n",
      "Running Monte Carlo simulation number 130.\n",
      "Running Monte Carlo simulation number 140.\n",
      "Running Monte Carlo simulation number 150.\n",
      "Running Monte Carlo simulation number 160.\n",
      "Running Monte Carlo simulation number 170.\n",
      "Running Monte Carlo simulation number 180.\n",
      "Running Monte Carlo simulation number 190.\n",
      "Running Monte Carlo simulation number 200.\n",
      "Running Monte Carlo simulation number 210.\n",
      "Running Monte Carlo simulation number 220.\n",
      "Running Monte Carlo simulation number 230.\n",
      "Running Monte Carlo simulation number 240.\n",
      "Running Monte Carlo simulation number 250.\n",
      "Running Monte Carlo simulation number 260.\n",
      "Running Monte Carlo simulation number 270.\n",
      "Running Monte Carlo simulation number 280.\n",
      "Running Monte Carlo simulation number 290.\n",
      "Running Monte Carlo simulation number 300.\n",
      "Running Monte Carlo simulation number 310.\n",
      "Running Monte Carlo simulation number 320.\n",
      "Running Monte Carlo simulation number 330.\n",
      "Running Monte Carlo simulation number 340.\n",
      "Running Monte Carlo simulation number 350.\n",
      "Running Monte Carlo simulation number 360.\n",
      "Running Monte Carlo simulation number 370.\n",
      "Running Monte Carlo simulation number 380.\n",
      "Running Monte Carlo simulation number 390.\n",
      "Running Monte Carlo simulation number 400.\n",
      "Running Monte Carlo simulation number 410.\n",
      "Running Monte Carlo simulation number 420.\n",
      "Running Monte Carlo simulation number 430.\n",
      "Running Monte Carlo simulation number 440.\n",
      "Running Monte Carlo simulation number 450.\n",
      "Running Monte Carlo simulation number 460.\n",
      "Running Monte Carlo simulation number 470.\n",
      "Running Monte Carlo simulation number 480.\n",
      "Running Monte Carlo simulation number 490.\n"
     ]
    },
    {
     "data": {
      "text/html": [
       "<div>\n",
       "<style scoped>\n",
       "    .dataframe tbody tr th:only-of-type {\n",
       "        vertical-align: middle;\n",
       "    }\n",
       "\n",
       "    .dataframe tbody tr th {\n",
       "        vertical-align: top;\n",
       "    }\n",
       "\n",
       "    .dataframe thead th {\n",
       "        text-align: right;\n",
       "    }\n",
       "</style>\n",
       "<table border=\"1\" class=\"dataframe\">\n",
       "  <thead>\n",
       "    <tr style=\"text-align: right;\">\n",
       "      <th></th>\n",
       "      <th>0</th>\n",
       "      <th>1</th>\n",
       "      <th>2</th>\n",
       "      <th>3</th>\n",
       "      <th>4</th>\n",
       "      <th>5</th>\n",
       "      <th>6</th>\n",
       "      <th>7</th>\n",
       "      <th>8</th>\n",
       "      <th>9</th>\n",
       "      <th>...</th>\n",
       "      <th>490</th>\n",
       "      <th>491</th>\n",
       "      <th>492</th>\n",
       "      <th>493</th>\n",
       "      <th>494</th>\n",
       "      <th>495</th>\n",
       "      <th>496</th>\n",
       "      <th>497</th>\n",
       "      <th>498</th>\n",
       "      <th>499</th>\n",
       "    </tr>\n",
       "  </thead>\n",
       "  <tbody>\n",
       "    <tr>\n",
       "      <th>0</th>\n",
       "      <td>1.000000</td>\n",
       "      <td>1.000000</td>\n",
       "      <td>1.000000</td>\n",
       "      <td>1.000000</td>\n",
       "      <td>1.000000</td>\n",
       "      <td>1.000000</td>\n",
       "      <td>1.000000</td>\n",
       "      <td>1.000000</td>\n",
       "      <td>1.000000</td>\n",
       "      <td>1.000000</td>\n",
       "      <td>...</td>\n",
       "      <td>1.000000</td>\n",
       "      <td>1.000000</td>\n",
       "      <td>1.000000</td>\n",
       "      <td>1.000000</td>\n",
       "      <td>1.000000</td>\n",
       "      <td>1.000000</td>\n",
       "      <td>1.000000</td>\n",
       "      <td>1.000000</td>\n",
       "      <td>1.000000</td>\n",
       "      <td>1.000000</td>\n",
       "    </tr>\n",
       "    <tr>\n",
       "      <th>1</th>\n",
       "      <td>0.989628</td>\n",
       "      <td>1.003757</td>\n",
       "      <td>1.003788</td>\n",
       "      <td>1.006333</td>\n",
       "      <td>0.996092</td>\n",
       "      <td>1.002703</td>\n",
       "      <td>0.999372</td>\n",
       "      <td>1.005448</td>\n",
       "      <td>1.011802</td>\n",
       "      <td>0.993325</td>\n",
       "      <td>...</td>\n",
       "      <td>1.012159</td>\n",
       "      <td>1.006027</td>\n",
       "      <td>0.995744</td>\n",
       "      <td>0.993034</td>\n",
       "      <td>1.001472</td>\n",
       "      <td>1.002724</td>\n",
       "      <td>1.000348</td>\n",
       "      <td>0.982035</td>\n",
       "      <td>1.008601</td>\n",
       "      <td>1.008271</td>\n",
       "    </tr>\n",
       "    <tr>\n",
       "      <th>2</th>\n",
       "      <td>0.981182</td>\n",
       "      <td>1.006850</td>\n",
       "      <td>1.017666</td>\n",
       "      <td>1.005758</td>\n",
       "      <td>0.977025</td>\n",
       "      <td>1.008462</td>\n",
       "      <td>0.998911</td>\n",
       "      <td>0.995941</td>\n",
       "      <td>1.018892</td>\n",
       "      <td>0.995945</td>\n",
       "      <td>...</td>\n",
       "      <td>1.009863</td>\n",
       "      <td>1.010098</td>\n",
       "      <td>0.992492</td>\n",
       "      <td>0.989337</td>\n",
       "      <td>1.005414</td>\n",
       "      <td>1.002903</td>\n",
       "      <td>0.990752</td>\n",
       "      <td>0.982604</td>\n",
       "      <td>1.004311</td>\n",
       "      <td>1.014129</td>\n",
       "    </tr>\n",
       "    <tr>\n",
       "      <th>3</th>\n",
       "      <td>0.979325</td>\n",
       "      <td>0.998364</td>\n",
       "      <td>1.026741</td>\n",
       "      <td>0.998849</td>\n",
       "      <td>0.971605</td>\n",
       "      <td>1.024504</td>\n",
       "      <td>0.986001</td>\n",
       "      <td>0.983758</td>\n",
       "      <td>1.013863</td>\n",
       "      <td>0.992622</td>\n",
       "      <td>...</td>\n",
       "      <td>1.014499</td>\n",
       "      <td>1.015023</td>\n",
       "      <td>0.988931</td>\n",
       "      <td>0.999152</td>\n",
       "      <td>0.990299</td>\n",
       "      <td>1.009574</td>\n",
       "      <td>0.989840</td>\n",
       "      <td>0.985823</td>\n",
       "      <td>1.007564</td>\n",
       "      <td>1.002111</td>\n",
       "    </tr>\n",
       "    <tr>\n",
       "      <th>4</th>\n",
       "      <td>0.976325</td>\n",
       "      <td>1.021666</td>\n",
       "      <td>1.022427</td>\n",
       "      <td>0.990217</td>\n",
       "      <td>0.984742</td>\n",
       "      <td>1.027924</td>\n",
       "      <td>0.983721</td>\n",
       "      <td>0.993822</td>\n",
       "      <td>1.021064</td>\n",
       "      <td>0.992931</td>\n",
       "      <td>...</td>\n",
       "      <td>1.027112</td>\n",
       "      <td>1.021460</td>\n",
       "      <td>0.998913</td>\n",
       "      <td>0.995393</td>\n",
       "      <td>0.983683</td>\n",
       "      <td>1.009938</td>\n",
       "      <td>0.998945</td>\n",
       "      <td>0.987395</td>\n",
       "      <td>1.003629</td>\n",
       "      <td>0.987352</td>\n",
       "    </tr>\n",
       "    <tr>\n",
       "      <th>...</th>\n",
       "      <td>...</td>\n",
       "      <td>...</td>\n",
       "      <td>...</td>\n",
       "      <td>...</td>\n",
       "      <td>...</td>\n",
       "      <td>...</td>\n",
       "      <td>...</td>\n",
       "      <td>...</td>\n",
       "      <td>...</td>\n",
       "      <td>...</td>\n",
       "      <td>...</td>\n",
       "      <td>...</td>\n",
       "      <td>...</td>\n",
       "      <td>...</td>\n",
       "      <td>...</td>\n",
       "      <td>...</td>\n",
       "      <td>...</td>\n",
       "      <td>...</td>\n",
       "      <td>...</td>\n",
       "      <td>...</td>\n",
       "      <td>...</td>\n",
       "    </tr>\n",
       "    <tr>\n",
       "      <th>7556</th>\n",
       "      <td>50.660189</td>\n",
       "      <td>19.289633</td>\n",
       "      <td>36.909879</td>\n",
       "      <td>24.643642</td>\n",
       "      <td>9.573930</td>\n",
       "      <td>32.516280</td>\n",
       "      <td>41.988705</td>\n",
       "      <td>16.374239</td>\n",
       "      <td>28.905229</td>\n",
       "      <td>4.001002</td>\n",
       "      <td>...</td>\n",
       "      <td>7.508317</td>\n",
       "      <td>42.331771</td>\n",
       "      <td>103.640591</td>\n",
       "      <td>22.230905</td>\n",
       "      <td>6.105424</td>\n",
       "      <td>46.321105</td>\n",
       "      <td>15.214519</td>\n",
       "      <td>19.695501</td>\n",
       "      <td>19.945344</td>\n",
       "      <td>16.963617</td>\n",
       "    </tr>\n",
       "    <tr>\n",
       "      <th>7557</th>\n",
       "      <td>50.772355</td>\n",
       "      <td>19.347110</td>\n",
       "      <td>37.004339</td>\n",
       "      <td>24.315736</td>\n",
       "      <td>9.543548</td>\n",
       "      <td>32.548341</td>\n",
       "      <td>41.949689</td>\n",
       "      <td>16.373456</td>\n",
       "      <td>28.398895</td>\n",
       "      <td>3.922045</td>\n",
       "      <td>...</td>\n",
       "      <td>7.580019</td>\n",
       "      <td>41.925554</td>\n",
       "      <td>102.618071</td>\n",
       "      <td>22.248080</td>\n",
       "      <td>6.226236</td>\n",
       "      <td>45.555166</td>\n",
       "      <td>15.116601</td>\n",
       "      <td>19.343952</td>\n",
       "      <td>19.845685</td>\n",
       "      <td>17.073488</td>\n",
       "    </tr>\n",
       "    <tr>\n",
       "      <th>7558</th>\n",
       "      <td>51.137812</td>\n",
       "      <td>19.444012</td>\n",
       "      <td>36.982712</td>\n",
       "      <td>24.494452</td>\n",
       "      <td>9.532398</td>\n",
       "      <td>32.219083</td>\n",
       "      <td>42.184811</td>\n",
       "      <td>16.497325</td>\n",
       "      <td>28.190058</td>\n",
       "      <td>3.890692</td>\n",
       "      <td>...</td>\n",
       "      <td>7.538836</td>\n",
       "      <td>41.968168</td>\n",
       "      <td>101.770609</td>\n",
       "      <td>22.272648</td>\n",
       "      <td>6.225231</td>\n",
       "      <td>45.401020</td>\n",
       "      <td>15.330733</td>\n",
       "      <td>19.337134</td>\n",
       "      <td>20.054913</td>\n",
       "      <td>17.202962</td>\n",
       "    </tr>\n",
       "    <tr>\n",
       "      <th>7559</th>\n",
       "      <td>51.388335</td>\n",
       "      <td>19.482800</td>\n",
       "      <td>36.860271</td>\n",
       "      <td>24.381808</td>\n",
       "      <td>9.682362</td>\n",
       "      <td>32.336860</td>\n",
       "      <td>41.951610</td>\n",
       "      <td>16.428756</td>\n",
       "      <td>28.218767</td>\n",
       "      <td>3.895007</td>\n",
       "      <td>...</td>\n",
       "      <td>7.536091</td>\n",
       "      <td>41.729628</td>\n",
       "      <td>100.984965</td>\n",
       "      <td>22.529626</td>\n",
       "      <td>6.181612</td>\n",
       "      <td>45.203474</td>\n",
       "      <td>15.354651</td>\n",
       "      <td>19.673808</td>\n",
       "      <td>20.228934</td>\n",
       "      <td>17.207509</td>\n",
       "    </tr>\n",
       "    <tr>\n",
       "      <th>7560</th>\n",
       "      <td>51.852142</td>\n",
       "      <td>19.471017</td>\n",
       "      <td>36.774171</td>\n",
       "      <td>24.731579</td>\n",
       "      <td>9.756448</td>\n",
       "      <td>32.130782</td>\n",
       "      <td>42.240249</td>\n",
       "      <td>16.355691</td>\n",
       "      <td>28.405090</td>\n",
       "      <td>3.952389</td>\n",
       "      <td>...</td>\n",
       "      <td>7.460946</td>\n",
       "      <td>41.531651</td>\n",
       "      <td>101.220764</td>\n",
       "      <td>22.191331</td>\n",
       "      <td>6.132551</td>\n",
       "      <td>45.147096</td>\n",
       "      <td>15.435459</td>\n",
       "      <td>19.746082</td>\n",
       "      <td>20.025509</td>\n",
       "      <td>17.033635</td>\n",
       "    </tr>\n",
       "  </tbody>\n",
       "</table>\n",
       "<p>7561 rows × 500 columns</p>\n",
       "</div>"
      ],
      "text/plain": [
       "            0          1          2          3         4          5    \\\n",
       "0      1.000000   1.000000   1.000000   1.000000  1.000000   1.000000   \n",
       "1      0.989628   1.003757   1.003788   1.006333  0.996092   1.002703   \n",
       "2      0.981182   1.006850   1.017666   1.005758  0.977025   1.008462   \n",
       "3      0.979325   0.998364   1.026741   0.998849  0.971605   1.024504   \n",
       "4      0.976325   1.021666   1.022427   0.990217  0.984742   1.027924   \n",
       "...         ...        ...        ...        ...       ...        ...   \n",
       "7556  50.660189  19.289633  36.909879  24.643642  9.573930  32.516280   \n",
       "7557  50.772355  19.347110  37.004339  24.315736  9.543548  32.548341   \n",
       "7558  51.137812  19.444012  36.982712  24.494452  9.532398  32.219083   \n",
       "7559  51.388335  19.482800  36.860271  24.381808  9.682362  32.336860   \n",
       "7560  51.852142  19.471017  36.774171  24.731579  9.756448  32.130782   \n",
       "\n",
       "            6          7          8         9    ...       490        491  \\\n",
       "0      1.000000   1.000000   1.000000  1.000000  ...  1.000000   1.000000   \n",
       "1      0.999372   1.005448   1.011802  0.993325  ...  1.012159   1.006027   \n",
       "2      0.998911   0.995941   1.018892  0.995945  ...  1.009863   1.010098   \n",
       "3      0.986001   0.983758   1.013863  0.992622  ...  1.014499   1.015023   \n",
       "4      0.983721   0.993822   1.021064  0.992931  ...  1.027112   1.021460   \n",
       "...         ...        ...        ...       ...  ...       ...        ...   \n",
       "7556  41.988705  16.374239  28.905229  4.001002  ...  7.508317  42.331771   \n",
       "7557  41.949689  16.373456  28.398895  3.922045  ...  7.580019  41.925554   \n",
       "7558  42.184811  16.497325  28.190058  3.890692  ...  7.538836  41.968168   \n",
       "7559  41.951610  16.428756  28.218767  3.895007  ...  7.536091  41.729628   \n",
       "7560  42.240249  16.355691  28.405090  3.952389  ...  7.460946  41.531651   \n",
       "\n",
       "             492        493       494        495        496        497  \\\n",
       "0       1.000000   1.000000  1.000000   1.000000   1.000000   1.000000   \n",
       "1       0.995744   0.993034  1.001472   1.002724   1.000348   0.982035   \n",
       "2       0.992492   0.989337  1.005414   1.002903   0.990752   0.982604   \n",
       "3       0.988931   0.999152  0.990299   1.009574   0.989840   0.985823   \n",
       "4       0.998913   0.995393  0.983683   1.009938   0.998945   0.987395   \n",
       "...          ...        ...       ...        ...        ...        ...   \n",
       "7556  103.640591  22.230905  6.105424  46.321105  15.214519  19.695501   \n",
       "7557  102.618071  22.248080  6.226236  45.555166  15.116601  19.343952   \n",
       "7558  101.770609  22.272648  6.225231  45.401020  15.330733  19.337134   \n",
       "7559  100.984965  22.529626  6.181612  45.203474  15.354651  19.673808   \n",
       "7560  101.220764  22.191331  6.132551  45.147096  15.435459  19.746082   \n",
       "\n",
       "            498        499  \n",
       "0      1.000000   1.000000  \n",
       "1      1.008601   1.008271  \n",
       "2      1.004311   1.014129  \n",
       "3      1.007564   1.002111  \n",
       "4      1.003629   0.987352  \n",
       "...         ...        ...  \n",
       "7556  19.945344  16.963617  \n",
       "7557  19.845685  17.073488  \n",
       "7558  20.054913  17.202962  \n",
       "7559  20.228934  17.207509  \n",
       "7560  20.025509  17.033635  \n",
       "\n",
       "[7561 rows x 500 columns]"
      ]
     },
     "execution_count": 31,
     "metadata": {},
     "output_type": "execute_result"
    }
   ],
   "source": [
    "# Run the Monte Carlo simulation to forecast 30 years cumulative returns\n",
    "mc_30_year.calc_cumulative_return()\n"
   ]
  },
  {
   "cell_type": "code",
   "execution_count": 32,
   "metadata": {},
   "outputs": [
    {
     "data": {
      "text/plain": [
       "<AxesSubplot:title={'center':'500 Simulations of Cumulative Portfolio Return Trajectories Over the Next 7560 Trading Days.'}>"
      ]
     },
     "execution_count": 32,
     "metadata": {},
     "output_type": "execute_result"
    },
    {
     "data": {
      "image/png": "[encoded data removed]",
      "text/plain": [
       "<Figure size 432x288 with 1 Axes>"
      ]
     },
     "metadata": {
      "needs_background": "light"
     },
     "output_type": "display_data"
    }
   ],
   "source": [
    "# Visualize the 30-year Monte Carlo simulation by creating an\n",
    "# overlay line plot\n",
    "mc_30_year.plot_simulation()\n"
   ]
  },
  {
   "cell_type": "markdown",
   "metadata": {},
   "source": [
    "#### Step 3: Plot the probability distribution of the Monte Carlo simulation."
   ]
  },
  {
   "cell_type": "code",
   "execution_count": 33,
   "metadata": {},
   "outputs": [
    {
     "data": {
      "text/plain": [
       "<AxesSubplot:title={'center':'Distribution of Final Cumuluative Returns Across All 500 Simulations'}, ylabel='Frequency'>"
      ]
     },
     "execution_count": 33,
     "metadata": {},
     "output_type": "execute_result"
    },
    {
     "data": {
      "image/png": "[encoded data removed]",
      "text/plain": [
       "<Figure size 432x288 with 1 Axes>"
      ]
     },
     "metadata": {
      "needs_background": "light"
     },
     "output_type": "display_data"
    }
   ],
   "source": [
    "# Visualize the probability distribution of the 30-year Monte Carlo simulation \n",
    "# by plotting a histogram\n",
    "mc_30_year.plot_distribution()\n"
   ]
  },
  {
   "cell_type": "markdown",
   "metadata": {},
   "source": [
    "#### Step 4: Generate the summary statistics for the Monte Carlo simulation."
   ]
  },
  {
   "cell_type": "code",
   "execution_count": 34,
   "metadata": {},
   "outputs": [
    {
     "name": "stdout",
     "output_type": "stream",
     "text": [
      "count           500.000000\n",
      "mean             23.806911\n",
      "std              18.405849\n",
      "min               2.208592\n",
      "25%              12.013478\n",
      "50%              18.744873\n",
      "75%              29.693292\n",
      "max             127.145340\n",
      "95% CI Lower      4.563699\n",
      "95% CI Upper     71.865477\n",
      "Name: 7560, dtype: float64\n"
     ]
    }
   ],
   "source": [
    "# Generate summary statistics from the 30-year Monte Carlo simulation results\n",
    "# Save the results as a variable\n",
    "mc_30_year_summary_statistics = mc_30_year.summarize_cumulative_return()\n",
    "\n",
    "\n",
    "# Review the 30-year Monte Carlo summary statistics\n",
    "print(mc_30_year_summary_statistics)"
   ]
  },
  {
   "cell_type": "markdown",
   "metadata": {},
   "source": [
    "### Analyze the Retirement Portfolio Forecasts\n",
    "\n",
    "Using the current value of only the stock and bond portion of the member's portfolio and the summary statistics that you generated from the Monte Carlo simulation, answer the following question in your Jupyter notebook:\n",
    "\n",
    "-  What are the lower and upper bounds for the expected value of the portfolio with a 95% confidence interval?\n"
   ]
  },
  {
   "cell_type": "code",
   "execution_count": 35,
   "metadata": {},
   "outputs": [
    {
     "name": "stdout",
     "output_type": "stream",
     "text": [
      "The current value of the stocks and bond portion of the portfolio is $ 70786.50.\n"
     ]
    }
   ],
   "source": [
    "# Print the current balance of the stock and bond portion of the members portfolio\n",
    "print(f\"The current value of the stocks and bond portion of the portfolio is ${total_stocks_bonds: .2f}.\")\n"
   ]
  },
  {
   "cell_type": "code",
   "execution_count": 36,
   "metadata": {},
   "outputs": [
    {
     "name": "stdout",
     "output_type": "stream",
     "text": [
      "There is a 95% chance that a 60/40 stocks/bonds portfolio with an initial value of $ 70786.50\n",
      "will be worth $ 323048.29 to $ 5087105.61 after 30 years.\n"
     ]
    }
   ],
   "source": [
    "# Use the lower and upper `95%` confidence intervals to calculate the range of the possible outcomes for the current stock/bond portfolio\n",
    "ci_lower_thirty_cumulative_return = mc_30_year_summary_statistics[8] * total_stocks_bonds\n",
    "ci_upper_thirty_cumulative_return = mc_30_year_summary_statistics[9] * total_stocks_bonds\n",
    "\n",
    "# Print the result of your calculations\n",
    "print(f\"There is a 95% chance that a 60/40 stocks/bonds portfolio with an initial value of ${total_stocks_bonds: .2f}\")\n",
    "print(f\"will be worth ${ci_lower_thirty_cumulative_return: .2f} to ${ci_upper_thirty_cumulative_return: .2f}\"\n",
    "      \" after 30 years.\")\n"
   ]
  },
  {
   "cell_type": "markdown",
   "metadata": {},
   "source": [
    "### Forecast Cumulative Returns in 10 Years\n",
    "\n",
    "The CTO of the credit union is impressed with your work on these planning tools but wonders if 30 years is a long time to wait until retirement. So, your next task is to adjust the retirement portfolio and run a new Monte Carlo simulation to find out if the changes will allow members to retire earlier.\n",
    "\n",
    "For this new Monte Carlo simulation, do the following: \n",
    "\n",
    "- Forecast the cumulative returns for 10 years from now. Because of the shortened investment horizon (30 years to 10 years), the portfolio needs to invest more heavily in the riskier asset&mdash;that is, stock&mdash;to help accumulate wealth for retirement. \n",
    "\n",
    "- Adjust the weights of the retirement portfolio so that the composition for the Monte Carlo simulation consists of 20% bonds and 80% stocks. \n",
    "\n",
    "- Run the simulation over 500 samples, and use the same data that the API call to Alpaca generated.\n",
    "\n",
    "- Based on the new Monte Carlo simulation, answer the following questions in your Jupyter notebook:\n",
    "\n",
    "    - Using the current value of only the stock and bond portion of the member's portfolio and the summary statistics that you generated from the new Monte Carlo simulation, what are the lower and upper bounds for the expected value of the portfolio (with the new weights) with a 95% confidence interval?\n",
    "\n",
    "    - Will weighting the portfolio more heavily toward stocks allow the credit union members to retire after only 10 years?\n"
   ]
  },
  {
   "cell_type": "code",
   "execution_count": 37,
   "metadata": {},
   "outputs": [
    {
     "data": {
      "text/html": [
       "<div>\n",
       "<style scoped>\n",
       "    .dataframe tbody tr th:only-of-type {\n",
       "        vertical-align: middle;\n",
       "    }\n",
       "\n",
       "    .dataframe tbody tr th {\n",
       "        vertical-align: top;\n",
       "    }\n",
       "\n",
       "    .dataframe thead tr th {\n",
       "        text-align: left;\n",
       "    }\n",
       "\n",
       "    .dataframe thead tr:last-of-type th {\n",
       "        text-align: right;\n",
       "    }\n",
       "</style>\n",
       "<table border=\"1\" class=\"dataframe\">\n",
       "  <thead>\n",
       "    <tr>\n",
       "      <th></th>\n",
       "      <th colspan=\"6\" halign=\"left\">AGG</th>\n",
       "      <th colspan=\"6\" halign=\"left\">SPY</th>\n",
       "    </tr>\n",
       "    <tr>\n",
       "      <th></th>\n",
       "      <th>open</th>\n",
       "      <th>high</th>\n",
       "      <th>low</th>\n",
       "      <th>close</th>\n",
       "      <th>volume</th>\n",
       "      <th>daily_return</th>\n",
       "      <th>open</th>\n",
       "      <th>high</th>\n",
       "      <th>low</th>\n",
       "      <th>close</th>\n",
       "      <th>volume</th>\n",
       "      <th>daily_return</th>\n",
       "    </tr>\n",
       "    <tr>\n",
       "      <th>time</th>\n",
       "      <th></th>\n",
       "      <th></th>\n",
       "      <th></th>\n",
       "      <th></th>\n",
       "      <th></th>\n",
       "      <th></th>\n",
       "      <th></th>\n",
       "      <th></th>\n",
       "      <th></th>\n",
       "      <th></th>\n",
       "      <th></th>\n",
       "      <th></th>\n",
       "    </tr>\n",
       "  </thead>\n",
       "  <tbody>\n",
       "    <tr>\n",
       "      <th>2017-07-13 00:00:00-04:00</th>\n",
       "      <td>109.29</td>\n",
       "      <td>109.3118</td>\n",
       "      <td>109.13</td>\n",
       "      <td>109.24</td>\n",
       "      <td>1432660.0</td>\n",
       "      <td>NaN</td>\n",
       "      <td>NaN</td>\n",
       "      <td>NaN</td>\n",
       "      <td>NaN</td>\n",
       "      <td>NaN</td>\n",
       "      <td>NaN</td>\n",
       "      <td>NaN</td>\n",
       "    </tr>\n",
       "    <tr>\n",
       "      <th>2017-07-14 00:00:00-04:00</th>\n",
       "      <td>109.54</td>\n",
       "      <td>109.5600</td>\n",
       "      <td>109.29</td>\n",
       "      <td>109.36</td>\n",
       "      <td>1744770.0</td>\n",
       "      <td>0.001098</td>\n",
       "      <td>244.42</td>\n",
       "      <td>245.97</td>\n",
       "      <td>244.31</td>\n",
       "      <td>245.54</td>\n",
       "      <td>40758038.0</td>\n",
       "      <td>NaN</td>\n",
       "    </tr>\n",
       "    <tr>\n",
       "      <th>2017-07-17 00:00:00-04:00</th>\n",
       "      <td>109.40</td>\n",
       "      <td>109.4800</td>\n",
       "      <td>109.32</td>\n",
       "      <td>109.41</td>\n",
       "      <td>1910544.0</td>\n",
       "      <td>0.000457</td>\n",
       "      <td>245.47</td>\n",
       "      <td>245.91</td>\n",
       "      <td>245.33</td>\n",
       "      <td>245.51</td>\n",
       "      <td>22378971.0</td>\n",
       "      <td>-0.000122</td>\n",
       "    </tr>\n",
       "    <tr>\n",
       "      <th>2017-07-18 00:00:00-04:00</th>\n",
       "      <td>109.64</td>\n",
       "      <td>109.7100</td>\n",
       "      <td>109.58</td>\n",
       "      <td>109.68</td>\n",
       "      <td>2471170.0</td>\n",
       "      <td>0.002468</td>\n",
       "      <td>245.06</td>\n",
       "      <td>245.72</td>\n",
       "      <td>244.67</td>\n",
       "      <td>245.69</td>\n",
       "      <td>31695494.0</td>\n",
       "      <td>0.000733</td>\n",
       "    </tr>\n",
       "    <tr>\n",
       "      <th>2017-07-19 00:00:00-04:00</th>\n",
       "      <td>109.72</td>\n",
       "      <td>109.7500</td>\n",
       "      <td>109.63</td>\n",
       "      <td>109.70</td>\n",
       "      <td>1405289.0</td>\n",
       "      <td>0.000182</td>\n",
       "      <td>246.02</td>\n",
       "      <td>247.00</td>\n",
       "      <td>246.01</td>\n",
       "      <td>246.99</td>\n",
       "      <td>31007738.0</td>\n",
       "      <td>0.005291</td>\n",
       "    </tr>\n",
       "  </tbody>\n",
       "</table>\n",
       "</div>"
      ],
      "text/plain": [
       "                              AGG                                       \\\n",
       "                             open      high     low   close     volume   \n",
       "time                                                                     \n",
       "2017-07-13 00:00:00-04:00  109.29  109.3118  109.13  109.24  1432660.0   \n",
       "2017-07-14 00:00:00-04:00  109.54  109.5600  109.29  109.36  1744770.0   \n",
       "2017-07-17 00:00:00-04:00  109.40  109.4800  109.32  109.41  1910544.0   \n",
       "2017-07-18 00:00:00-04:00  109.64  109.7100  109.58  109.68  2471170.0   \n",
       "2017-07-19 00:00:00-04:00  109.72  109.7500  109.63  109.70  1405289.0   \n",
       "\n",
       "                                           SPY                          \\\n",
       "                          daily_return    open    high     low   close   \n",
       "time                                                                     \n",
       "2017-07-13 00:00:00-04:00          NaN     NaN     NaN     NaN     NaN   \n",
       "2017-07-14 00:00:00-04:00     0.001098  244.42  245.97  244.31  245.54   \n",
       "2017-07-17 00:00:00-04:00     0.000457  245.47  245.91  245.33  245.51   \n",
       "2017-07-18 00:00:00-04:00     0.002468  245.06  245.72  244.67  245.69   \n",
       "2017-07-19 00:00:00-04:00     0.000182  246.02  247.00  246.01  246.99   \n",
       "\n",
       "                                                    \n",
       "                               volume daily_return  \n",
       "time                                                \n",
       "2017-07-13 00:00:00-04:00         NaN          NaN  \n",
       "2017-07-14 00:00:00-04:00  40758038.0          NaN  \n",
       "2017-07-17 00:00:00-04:00  22378971.0    -0.000122  \n",
       "2017-07-18 00:00:00-04:00  31695494.0     0.000733  \n",
       "2017-07-19 00:00:00-04:00  31007738.0     0.005291  "
      ]
     },
     "execution_count": 37,
     "metadata": {},
     "output_type": "execute_result"
    }
   ],
   "source": [
    "# Configure a Monte Carlo simulation to forecast 10 years cumulative returns\n",
    "# The weights should be split 20% to AGG and 80% to SPY.\n",
    "# Run 500 samples.\n",
    "mc_10_year = MCSimulation(\n",
    "    portfolio_data=df_portfolio,\n",
    "    weights=[.2, .80],\n",
    "    num_simulation=500,\n",
    "    num_trading_days=252*10\n",
    ")\n",
    "\n",
    "# Review the simulation input data\n",
    "mc_10_year.portfolio_data.head()\n"
   ]
  },
  {
   "cell_type": "code",
   "execution_count": 38,
   "metadata": {},
   "outputs": [
    {
     "name": "stdout",
     "output_type": "stream",
     "text": [
      "Running Monte Carlo simulation number 0.\n",
      "Running Monte Carlo simulation number 10.\n",
      "Running Monte Carlo simulation number 20.\n",
      "Running Monte Carlo simulation number 30.\n",
      "Running Monte Carlo simulation number 40.\n",
      "Running Monte Carlo simulation number 50.\n",
      "Running Monte Carlo simulation number 60.\n",
      "Running Monte Carlo simulation number 70.\n",
      "Running Monte Carlo simulation number 80.\n",
      "Running Monte Carlo simulation number 90.\n",
      "Running Monte Carlo simulation number 100.\n",
      "Running Monte Carlo simulation number 110.\n",
      "Running Monte Carlo simulation number 120.\n",
      "Running Monte Carlo simulation number 130.\n",
      "Running Monte Carlo simulation number 140.\n",
      "Running Monte Carlo simulation number 150.\n",
      "Running Monte Carlo simulation number 160.\n",
      "Running Monte Carlo simulation number 170.\n",
      "Running Monte Carlo simulation number 180.\n",
      "Running Monte Carlo simulation number 190.\n",
      "Running Monte Carlo simulation number 200.\n",
      "Running Monte Carlo simulation number 210.\n",
      "Running Monte Carlo simulation number 220.\n",
      "Running Monte Carlo simulation number 230.\n",
      "Running Monte Carlo simulation number 240.\n",
      "Running Monte Carlo simulation number 250.\n",
      "Running Monte Carlo simulation number 260.\n",
      "Running Monte Carlo simulation number 270.\n",
      "Running Monte Carlo simulation number 280.\n",
      "Running Monte Carlo simulation number 290.\n",
      "Running Monte Carlo simulation number 300.\n",
      "Running Monte Carlo simulation number 310.\n",
      "Running Monte Carlo simulation number 320.\n",
      "Running Monte Carlo simulation number 330.\n",
      "Running Monte Carlo simulation number 340.\n",
      "Running Monte Carlo simulation number 350.\n",
      "Running Monte Carlo simulation number 360.\n",
      "Running Monte Carlo simulation number 370.\n",
      "Running Monte Carlo simulation number 380.\n",
      "Running Monte Carlo simulation number 390.\n",
      "Running Monte Carlo simulation number 400.\n",
      "Running Monte Carlo simulation number 410.\n",
      "Running Monte Carlo simulation number 420.\n",
      "Running Monte Carlo simulation number 430.\n",
      "Running Monte Carlo simulation number 440.\n",
      "Running Monte Carlo simulation number 450.\n",
      "Running Monte Carlo simulation number 460.\n",
      "Running Monte Carlo simulation number 470.\n",
      "Running Monte Carlo simulation number 480.\n",
      "Running Monte Carlo simulation number 490.\n"
     ]
    },
    {
     "data": {
      "text/html": [
       "<div>\n",
       "<style scoped>\n",
       "    .dataframe tbody tr th:only-of-type {\n",
       "        vertical-align: middle;\n",
       "    }\n",
       "\n",
       "    .dataframe tbody tr th {\n",
       "        vertical-align: top;\n",
       "    }\n",
       "\n",
       "    .dataframe thead th {\n",
       "        text-align: right;\n",
       "    }\n",
       "</style>\n",
       "<table border=\"1\" class=\"dataframe\">\n",
       "  <thead>\n",
       "    <tr style=\"text-align: right;\">\n",
       "      <th></th>\n",
       "      <th>0</th>\n",
       "      <th>1</th>\n",
       "      <th>2</th>\n",
       "      <th>3</th>\n",
       "      <th>4</th>\n",
       "      <th>5</th>\n",
       "      <th>6</th>\n",
       "      <th>7</th>\n",
       "      <th>8</th>\n",
       "      <th>9</th>\n",
       "      <th>...</th>\n",
       "      <th>490</th>\n",
       "      <th>491</th>\n",
       "      <th>492</th>\n",
       "      <th>493</th>\n",
       "      <th>494</th>\n",
       "      <th>495</th>\n",
       "      <th>496</th>\n",
       "      <th>497</th>\n",
       "      <th>498</th>\n",
       "      <th>499</th>\n",
       "    </tr>\n",
       "  </thead>\n",
       "  <tbody>\n",
       "    <tr>\n",
       "      <th>0</th>\n",
       "      <td>1.000000</td>\n",
       "      <td>1.000000</td>\n",
       "      <td>1.000000</td>\n",
       "      <td>1.000000</td>\n",
       "      <td>1.000000</td>\n",
       "      <td>1.000000</td>\n",
       "      <td>1.000000</td>\n",
       "      <td>1.000000</td>\n",
       "      <td>1.000000</td>\n",
       "      <td>1.000000</td>\n",
       "      <td>...</td>\n",
       "      <td>1.000000</td>\n",
       "      <td>1.000000</td>\n",
       "      <td>1.000000</td>\n",
       "      <td>1.000000</td>\n",
       "      <td>1.000000</td>\n",
       "      <td>1.000000</td>\n",
       "      <td>1.000000</td>\n",
       "      <td>1.000000</td>\n",
       "      <td>1.000000</td>\n",
       "      <td>1.000000</td>\n",
       "    </tr>\n",
       "    <tr>\n",
       "      <th>1</th>\n",
       "      <td>0.984095</td>\n",
       "      <td>0.994146</td>\n",
       "      <td>0.999012</td>\n",
       "      <td>1.002609</td>\n",
       "      <td>1.005266</td>\n",
       "      <td>1.012092</td>\n",
       "      <td>1.003655</td>\n",
       "      <td>0.997471</td>\n",
       "      <td>1.011942</td>\n",
       "      <td>1.011372</td>\n",
       "      <td>...</td>\n",
       "      <td>1.015266</td>\n",
       "      <td>1.000569</td>\n",
       "      <td>1.006929</td>\n",
       "      <td>1.023655</td>\n",
       "      <td>1.013171</td>\n",
       "      <td>1.003952</td>\n",
       "      <td>1.013608</td>\n",
       "      <td>1.002748</td>\n",
       "      <td>1.006178</td>\n",
       "      <td>0.988898</td>\n",
       "    </tr>\n",
       "    <tr>\n",
       "      <th>2</th>\n",
       "      <td>0.979835</td>\n",
       "      <td>0.989885</td>\n",
       "      <td>1.005748</td>\n",
       "      <td>1.015174</td>\n",
       "      <td>0.990977</td>\n",
       "      <td>1.032381</td>\n",
       "      <td>1.002611</td>\n",
       "      <td>1.001347</td>\n",
       "      <td>1.009835</td>\n",
       "      <td>1.017053</td>\n",
       "      <td>...</td>\n",
       "      <td>1.033124</td>\n",
       "      <td>1.004190</td>\n",
       "      <td>0.992914</td>\n",
       "      <td>1.048407</td>\n",
       "      <td>1.011213</td>\n",
       "      <td>1.000423</td>\n",
       "      <td>1.018716</td>\n",
       "      <td>1.009533</td>\n",
       "      <td>1.006181</td>\n",
       "      <td>0.994971</td>\n",
       "    </tr>\n",
       "    <tr>\n",
       "      <th>3</th>\n",
       "      <td>0.976122</td>\n",
       "      <td>0.985830</td>\n",
       "      <td>0.997891</td>\n",
       "      <td>1.008171</td>\n",
       "      <td>0.993736</td>\n",
       "      <td>1.023834</td>\n",
       "      <td>0.998667</td>\n",
       "      <td>1.008000</td>\n",
       "      <td>0.993616</td>\n",
       "      <td>1.011764</td>\n",
       "      <td>...</td>\n",
       "      <td>1.028266</td>\n",
       "      <td>0.996341</td>\n",
       "      <td>0.977679</td>\n",
       "      <td>1.041776</td>\n",
       "      <td>1.012339</td>\n",
       "      <td>0.998334</td>\n",
       "      <td>1.021584</td>\n",
       "      <td>1.027764</td>\n",
       "      <td>1.009463</td>\n",
       "      <td>1.006521</td>\n",
       "    </tr>\n",
       "    <tr>\n",
       "      <th>4</th>\n",
       "      <td>0.982579</td>\n",
       "      <td>1.004259</td>\n",
       "      <td>0.980585</td>\n",
       "      <td>1.017284</td>\n",
       "      <td>0.994647</td>\n",
       "      <td>1.035578</td>\n",
       "      <td>1.004285</td>\n",
       "      <td>1.001627</td>\n",
       "      <td>0.996279</td>\n",
       "      <td>0.997463</td>\n",
       "      <td>...</td>\n",
       "      <td>1.000436</td>\n",
       "      <td>0.978300</td>\n",
       "      <td>0.980005</td>\n",
       "      <td>1.062197</td>\n",
       "      <td>1.012821</td>\n",
       "      <td>1.008243</td>\n",
       "      <td>1.031016</td>\n",
       "      <td>1.024310</td>\n",
       "      <td>1.008667</td>\n",
       "      <td>1.009594</td>\n",
       "    </tr>\n",
       "    <tr>\n",
       "      <th>...</th>\n",
       "      <td>...</td>\n",
       "      <td>...</td>\n",
       "      <td>...</td>\n",
       "      <td>...</td>\n",
       "      <td>...</td>\n",
       "      <td>...</td>\n",
       "      <td>...</td>\n",
       "      <td>...</td>\n",
       "      <td>...</td>\n",
       "      <td>...</td>\n",
       "      <td>...</td>\n",
       "      <td>...</td>\n",
       "      <td>...</td>\n",
       "      <td>...</td>\n",
       "      <td>...</td>\n",
       "      <td>...</td>\n",
       "      <td>...</td>\n",
       "      <td>...</td>\n",
       "      <td>...</td>\n",
       "      <td>...</td>\n",
       "      <td>...</td>\n",
       "    </tr>\n",
       "    <tr>\n",
       "      <th>2516</th>\n",
       "      <td>8.309938</td>\n",
       "      <td>2.449311</td>\n",
       "      <td>2.502169</td>\n",
       "      <td>4.632610</td>\n",
       "      <td>3.260645</td>\n",
       "      <td>3.685068</td>\n",
       "      <td>1.922399</td>\n",
       "      <td>2.160311</td>\n",
       "      <td>4.350694</td>\n",
       "      <td>5.749157</td>\n",
       "      <td>...</td>\n",
       "      <td>8.627659</td>\n",
       "      <td>3.095322</td>\n",
       "      <td>4.523152</td>\n",
       "      <td>5.540940</td>\n",
       "      <td>3.708514</td>\n",
       "      <td>3.761551</td>\n",
       "      <td>9.481892</td>\n",
       "      <td>5.901086</td>\n",
       "      <td>1.796402</td>\n",
       "      <td>5.468078</td>\n",
       "    </tr>\n",
       "    <tr>\n",
       "      <th>2517</th>\n",
       "      <td>8.226673</td>\n",
       "      <td>2.430177</td>\n",
       "      <td>2.472624</td>\n",
       "      <td>4.533107</td>\n",
       "      <td>3.327610</td>\n",
       "      <td>3.687104</td>\n",
       "      <td>1.932105</td>\n",
       "      <td>2.150666</td>\n",
       "      <td>4.377667</td>\n",
       "      <td>5.780863</td>\n",
       "      <td>...</td>\n",
       "      <td>8.709526</td>\n",
       "      <td>3.107315</td>\n",
       "      <td>4.593697</td>\n",
       "      <td>5.561872</td>\n",
       "      <td>3.706061</td>\n",
       "      <td>3.695537</td>\n",
       "      <td>9.516685</td>\n",
       "      <td>5.940076</td>\n",
       "      <td>1.781127</td>\n",
       "      <td>5.502956</td>\n",
       "    </tr>\n",
       "    <tr>\n",
       "      <th>2518</th>\n",
       "      <td>8.120731</td>\n",
       "      <td>2.469603</td>\n",
       "      <td>2.475491</td>\n",
       "      <td>4.526144</td>\n",
       "      <td>3.377912</td>\n",
       "      <td>3.746112</td>\n",
       "      <td>1.937602</td>\n",
       "      <td>2.114299</td>\n",
       "      <td>4.356612</td>\n",
       "      <td>5.776162</td>\n",
       "      <td>...</td>\n",
       "      <td>8.715169</td>\n",
       "      <td>3.106178</td>\n",
       "      <td>4.509602</td>\n",
       "      <td>5.510441</td>\n",
       "      <td>3.708792</td>\n",
       "      <td>3.616738</td>\n",
       "      <td>9.465555</td>\n",
       "      <td>5.913673</td>\n",
       "      <td>1.782687</td>\n",
       "      <td>5.476621</td>\n",
       "    </tr>\n",
       "    <tr>\n",
       "      <th>2519</th>\n",
       "      <td>7.869519</td>\n",
       "      <td>2.464670</td>\n",
       "      <td>2.495611</td>\n",
       "      <td>4.466063</td>\n",
       "      <td>3.357823</td>\n",
       "      <td>3.766767</td>\n",
       "      <td>1.949174</td>\n",
       "      <td>2.072568</td>\n",
       "      <td>4.264768</td>\n",
       "      <td>5.786586</td>\n",
       "      <td>...</td>\n",
       "      <td>8.717388</td>\n",
       "      <td>3.151079</td>\n",
       "      <td>4.466669</td>\n",
       "      <td>5.552773</td>\n",
       "      <td>3.719179</td>\n",
       "      <td>3.586346</td>\n",
       "      <td>9.392707</td>\n",
       "      <td>5.952852</td>\n",
       "      <td>1.780039</td>\n",
       "      <td>5.617943</td>\n",
       "    </tr>\n",
       "    <tr>\n",
       "      <th>2520</th>\n",
       "      <td>7.811873</td>\n",
       "      <td>2.437997</td>\n",
       "      <td>2.494315</td>\n",
       "      <td>4.420871</td>\n",
       "      <td>3.323517</td>\n",
       "      <td>3.821644</td>\n",
       "      <td>1.931180</td>\n",
       "      <td>2.036240</td>\n",
       "      <td>4.204753</td>\n",
       "      <td>5.765218</td>\n",
       "      <td>...</td>\n",
       "      <td>8.736838</td>\n",
       "      <td>3.124675</td>\n",
       "      <td>4.478996</td>\n",
       "      <td>5.596203</td>\n",
       "      <td>3.719870</td>\n",
       "      <td>3.635624</td>\n",
       "      <td>9.182286</td>\n",
       "      <td>5.927413</td>\n",
       "      <td>1.801803</td>\n",
       "      <td>5.603546</td>\n",
       "    </tr>\n",
       "  </tbody>\n",
       "</table>\n",
       "<p>2521 rows × 500 columns</p>\n",
       "</div>"
      ],
      "text/plain": [
       "           0         1         2         3         4         5         6    \\\n",
       "0     1.000000  1.000000  1.000000  1.000000  1.000000  1.000000  1.000000   \n",
       "1     0.984095  0.994146  0.999012  1.002609  1.005266  1.012092  1.003655   \n",
       "2     0.979835  0.989885  1.005748  1.015174  0.990977  1.032381  1.002611   \n",
       "3     0.976122  0.985830  0.997891  1.008171  0.993736  1.023834  0.998667   \n",
       "4     0.982579  1.004259  0.980585  1.017284  0.994647  1.035578  1.004285   \n",
       "...        ...       ...       ...       ...       ...       ...       ...   \n",
       "2516  8.309938  2.449311  2.502169  4.632610  3.260645  3.685068  1.922399   \n",
       "2517  8.226673  2.430177  2.472624  4.533107  3.327610  3.687104  1.932105   \n",
       "2518  8.120731  2.469603  2.475491  4.526144  3.377912  3.746112  1.937602   \n",
       "2519  7.869519  2.464670  2.495611  4.466063  3.357823  3.766767  1.949174   \n",
       "2520  7.811873  2.437997  2.494315  4.420871  3.323517  3.821644  1.931180   \n",
       "\n",
       "           7         8         9    ...       490       491       492  \\\n",
       "0     1.000000  1.000000  1.000000  ...  1.000000  1.000000  1.000000   \n",
       "1     0.997471  1.011942  1.011372  ...  1.015266  1.000569  1.006929   \n",
       "2     1.001347  1.009835  1.017053  ...  1.033124  1.004190  0.992914   \n",
       "3     1.008000  0.993616  1.011764  ...  1.028266  0.996341  0.977679   \n",
       "4     1.001627  0.996279  0.997463  ...  1.000436  0.978300  0.980005   \n",
       "...        ...       ...       ...  ...       ...       ...       ...   \n",
       "2516  2.160311  4.350694  5.749157  ...  8.627659  3.095322  4.523152   \n",
       "2517  2.150666  4.377667  5.780863  ...  8.709526  3.107315  4.593697   \n",
       "2518  2.114299  4.356612  5.776162  ...  8.715169  3.106178  4.509602   \n",
       "2519  2.072568  4.264768  5.786586  ...  8.717388  3.151079  4.466669   \n",
       "2520  2.036240  4.204753  5.765218  ...  8.736838  3.124675  4.478996   \n",
       "\n",
       "           493       494       495       496       497       498       499  \n",
       "0     1.000000  1.000000  1.000000  1.000000  1.000000  1.000000  1.000000  \n",
       "1     1.023655  1.013171  1.003952  1.013608  1.002748  1.006178  0.988898  \n",
       "2     1.048407  1.011213  1.000423  1.018716  1.009533  1.006181  0.994971  \n",
       "3     1.041776  1.012339  0.998334  1.021584  1.027764  1.009463  1.006521  \n",
       "4     1.062197  1.012821  1.008243  1.031016  1.024310  1.008667  1.009594  \n",
       "...        ...       ...       ...       ...       ...       ...       ...  \n",
       "2516  5.540940  3.708514  3.761551  9.481892  5.901086  1.796402  5.468078  \n",
       "2517  5.561872  3.706061  3.695537  9.516685  5.940076  1.781127  5.502956  \n",
       "2518  5.510441  3.708792  3.616738  9.465555  5.913673  1.782687  5.476621  \n",
       "2519  5.552773  3.719179  3.586346  9.392707  5.952852  1.780039  5.617943  \n",
       "2520  5.596203  3.719870  3.635624  9.182286  5.927413  1.801803  5.603546  \n",
       "\n",
       "[2521 rows x 500 columns]"
      ]
     },
     "execution_count": 38,
     "metadata": {},
     "output_type": "execute_result"
    }
   ],
   "source": [
    "# Run the Monte Carlo simulation to forecast 10 years cumulative returns\n",
    "mc_10_year.calc_cumulative_return()\n"
   ]
  },
  {
   "cell_type": "code",
   "execution_count": 39,
   "metadata": {},
   "outputs": [
    {
     "data": {
      "text/plain": [
       "<AxesSubplot:title={'center':'500 Simulations of Cumulative Portfolio Return Trajectories Over the Next 2520 Trading Days.'}>"
      ]
     },
     "execution_count": 39,
     "metadata": {},
     "output_type": "execute_result"
    },
    {
     "data": {
      "image/png": "[encoded data removed]",
      "text/plain": [
       "<Figure size 432x288 with 1 Axes>"
      ]
     },
     "metadata": {
      "needs_background": "light"
     },
     "output_type": "display_data"
    }
   ],
   "source": [
    "# Visualize the 10-year Monte Carlo simulation by creating an\n",
    "# overlay line plot\n",
    "mc_10_year.plot_simulation()\n"
   ]
  },
  {
   "cell_type": "code",
   "execution_count": 40,
   "metadata": {},
   "outputs": [
    {
     "data": {
      "text/plain": [
       "<AxesSubplot:title={'center':'Distribution of Final Cumuluative Returns Across All 500 Simulations'}, ylabel='Frequency'>"
      ]
     },
     "execution_count": 40,
     "metadata": {},
     "output_type": "execute_result"
    },
    {
     "data": {
      "image/png": "[encoded data removed]",
      "text/plain": [
       "<Figure size 432x288 with 1 Axes>"
      ]
     },
     "metadata": {
      "needs_background": "light"
     },
     "output_type": "display_data"
    }
   ],
   "source": [
    "# Visualize the probability distribution of the 10-year Monte Carlo simulation \n",
    "# by plotting a histogram\n",
    "mc_10_year.plot_distribution()\n"
   ]
  },
  {
   "cell_type": "code",
   "execution_count": 41,
   "metadata": {},
   "outputs": [
    {
     "name": "stdout",
     "output_type": "stream",
     "text": [
      "count           500.000000\n",
      "mean              3.895600\n",
      "std               2.042229\n",
      "min               0.700912\n",
      "25%               2.468307\n",
      "50%               3.417834\n",
      "75%               5.010920\n",
      "max              18.160576\n",
      "95% CI Lower      1.267639\n",
      "95% CI Upper      8.745155\n",
      "Name: 2520, dtype: float64\n"
     ]
    }
   ],
   "source": [
    "# Generate summary statistics from the 10-year Monte Carlo simulation results\n",
    "# Save the results as a variable\n",
    "mc_10_year_summary_statistics = mc_10_year.summarize_cumulative_return()\n",
    "\n",
    "\n",
    "# Review the 10-year Monte Carlo summary statistics\n",
    "print(mc_10_year_summary_statistics)"
   ]
  },
  {
   "cell_type": "markdown",
   "metadata": {},
   "source": [
    "### Answer the following questions:"
   ]
  },
  {
   "cell_type": "markdown",
   "metadata": {},
   "source": [
    "#### Question: Using the current value of only the stock and bond portion of the member's portfolio and the summary statistics that you generated from the new Monte Carlo simulation, what are the lower and upper bounds for the expected value of the portfolio (with the new weights) with a 95% confidence interval?"
   ]
  },
  {
   "cell_type": "code",
   "execution_count": 42,
   "metadata": {},
   "outputs": [
    {
     "name": "stdout",
     "output_type": "stream",
     "text": [
      "The current value of the stock and bond portion of the portfolio is $ 70786.50.\n"
     ]
    }
   ],
   "source": [
    "# Print the current balance of the stock and bond portion of the members portfolio\n",
    "print(f\"The current value of the stock and bond portion of the portfolio is ${total_stocks_bonds: .2f}.\")\n"
   ]
  },
  {
   "cell_type": "code",
   "execution_count": 43,
   "metadata": {},
   "outputs": [
    {
     "name": "stdout",
     "output_type": "stream",
     "text": [
      "With 95% statistical confidence, the range of outcomes for the stock and bond portion\n",
      "of the portfolio for a 10-year investment timeline is $ 89731.75 to $ 619038.90.\n",
      "There is a 95% chance that an 80/20 stocks/bonds portfolio with an initial value of $ 70786.50\n",
      "will be worth $ 89731.75 to $ 619038.90 after 10 years.\n"
     ]
    }
   ],
   "source": [
    "# Use the lower and upper `95%` confidence intervals to calculate the range of the possible outcomes for the current stock/bond portfolio\n",
    "ci_lower_ten_cumulative_return = mc_10_year_summary_statistics[8] * total_stocks_bonds\n",
    "ci_upper_ten_cumulative_return = mc_10_year_summary_statistics[9] * total_stocks_bonds\n",
    "\n",
    "# Print the result of your calculations\n",
    "print(\"With 95% statistical confidence, the range of outcomes for the stock and bond portion\")\n",
    "print(f\"of the portfolio for a 10-year investment timeline is ${ci_lower_ten_cumulative_return: .2f}\"\n",
    "      f\" to ${ci_upper_ten_cumulative_return: .2f}.\")\n",
    "\n",
    "\n",
    "print(f\"There is a 95% chance that an 80/20 stocks/bonds portfolio with an initial value of ${total_stocks_bonds: .2f}\")\n",
    "print(f\"will be worth ${ci_lower_ten_cumulative_return: .2f} to ${ci_upper_ten_cumulative_return: .2f}\"\n",
    "      \" after 10 years.\")"
   ]
  },
  {
   "cell_type": "markdown",
   "metadata": {},
   "source": [
    "#### Question: Will weighting the portfolio more heavily to stocks allow the credit union members to retire after only 10 years?"
   ]
  },
  {
   "cell_type": "raw",
   "metadata": {},
   "source": [
    "**Answer** With 95% statistical confidence, the highest potential outcome after 10 years of a stock/bond portfolio weighted 80% to stocks is about $619,000 which is a lot of money but not enough for a long retirement."
   ]
  },
  {
   "cell_type": "code",
   "execution_count": null,
   "metadata": {},
   "outputs": [],
   "source": []
  }
 ],
 "metadata": {
  "kernelspec": {
   "display_name": "dev",
   "language": "python",
   "name": "dev"
  },
  "language_info": {
   "codemirror_mode": {
    "name": "ipython",
    "version": 3
   },
   "file_extension": ".py",
   "mimetype": "text/x-python",
   "name": "python",
   "nbconvert_exporter": "python",
   "pygments_lexer": "ipython3",
   "version": "3.7.10"
  }
 },
 "nbformat": 4,
 "nbformat_minor": 4
}
